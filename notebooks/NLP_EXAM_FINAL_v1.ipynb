{
 "cells": [
  {
   "cell_type": "markdown",
   "id": "fe4c8cfe",
   "metadata": {},
   "source": [
    "# 1. Setup"
   ]
  },
  {
   "cell_type": "code",
   "execution_count": 1,
   "id": "811d85ad",
   "metadata": {},
   "outputs": [],
   "source": [
    "# TODO: clean this up\n",
    "from datasets import load_dataset\n",
    "import pandas as pd\n",
    "import numpy as np\n",
    "import matplotlib.pyplot as plt\n",
    "import seaborn as sns\n",
    "import tqdm as notebook_tqdm\n",
    "import re\n",
    "import string\n",
    "import nltk\n",
    "import torch\n",
    "import transformers as ppb\n",
    "from nltk import pos_tag, download\n",
    "from nltk.corpus import stopwords, wordnet\n",
    "from nltk.tokenize import TweetTokenizer\n",
    "from nltk.stem import WordNetLemmatizer\n",
    "from sklearn.pipeline import Pipeline\n",
    "from sklearn.feature_extraction.text import CountVectorizer\n",
    "from sklearn.linear_model import LogisticRegression\n",
    "from sklearn.model_selection import train_test_split, cross_val_score\n",
    "from sklearn.base import BaseEstimator, TransformerMixin\n",
    "from tqdm import tqdm\n",
    "from sklearn.metrics import classification_report\n",
    "from sklearn.feature_extraction.text import TfidfVectorizer\n",
    "from sklearn.model_selection import GridSearchCV\n",
    "from math import ceil\n",
    "from sklearn.linear_model import SGDClassifier\n",
    "from sklearn.metrics import accuracy_score, classification_report\n",
    "from sklearn.utils.class_weight import compute_class_weight\n",
    "from sklearn.naive_bayes import MultinomialNB"
   ]
  },
  {
   "cell_type": "code",
   "execution_count": 2,
   "id": "861d239f",
   "metadata": {},
   "outputs": [],
   "source": [
    "# Load the dataset from the Hugging Face Hub\n",
    "notebook_tqdm.tqdm.pandas()\n",
    "dataset = load_dataset('ucberkeley-dlab/measuring-hate-speech')\n",
    "\n",
    "# Convert the dataset to a pandas DataFrame\n",
    "df_raw = dataset['train'].to_pandas()"
   ]
  },
  {
   "cell_type": "code",
   "execution_count": 3,
   "id": "947cbb99",
   "metadata": {},
   "outputs": [],
   "source": [
    "TRAIN_RATIO = 0.8 # TODO: factor this out everywhere\n",
    "TEST_RATIO = 1 - TRAIN_RATIO\n",
    "HATE_SPEECH_THRESHOLD_UNNORMALIZED = 0.5\n",
    "SUPPORTIVE_THRESHOLD_UNNORMALIZED = -1\n",
    "EVALUATION_METRICS = ['precision', 'recall', 'f1-score']\n"
   ]
  },
  {
   "cell_type": "code",
   "execution_count": 4,
   "id": "a25d9431",
   "metadata": {},
   "outputs": [],
   "source": [
    "results = []"
   ]
  },
  {
   "cell_type": "markdown",
   "id": "ade1f6ab",
   "metadata": {},
   "source": [
    "# 2. Filtering & EDA"
   ]
  },
  {
   "cell_type": "markdown",
   "id": "832b536b",
   "metadata": {},
   "source": [
    "### 2.0. Function definitions & variables"
   ]
  },
  {
   "cell_type": "code",
   "execution_count": 5,
   "id": "e1399e40",
   "metadata": {},
   "outputs": [],
   "source": [
    "def plot_hate_speech_score_histogram(df: pd.DataFrame, hate_threshold: float, supportive_threshold: float):\n",
    "    \"\"\"\n",
    "    Plots a histogram of the hate_speech_score with annotated lines at the thresholds\n",
    "\n",
    "    Args:\n",
    "        df (pd.DataFrame): The dataframe to plot the histogram from\n",
    "        hate_threshold (float): The threshold for hate speech\n",
    "        supportive_threshold (float): The threshold for supportive speech\n",
    "\n",
    "    Returns:\n",
    "        None (plots the histogram)\n",
    "    \"\"\"\n",
    "\n",
    "    total_count = df.shape[0]\n",
    "    \n",
    "    # Calculate the amount of values below the supportive threshold\n",
    "    supportive_count = df[df['hate_speech_score'] < supportive_threshold].shape[0]\n",
    "\n",
    "    # Calculate the amount of values above the hate threshold\n",
    "    hate_count = df[df['hate_speech_score'] > hate_threshold].shape[0]\n",
    "\n",
    "    # Calculate the amount of values between the thresholds\n",
    "    neutral_count = df[(df['hate_speech_score'] >= supportive_threshold) & (df['hate_speech_score'] <= hate_threshold)].shape[0]\n",
    "\n",
    "    print(f\"Total count: {total_count}\")\n",
    "    print(f\"Supportive count: {supportive_count} ({supportive_count / total_count * 100:.2f}%)\")\n",
    "    print(f\"Hate count: {hate_count} ({hate_count / total_count * 100:.2f}%)\")\n",
    "    print(f\"Neutral count: {neutral_count} ({neutral_count / total_count * 100:.2f}%)\")\n",
    "\n",
    "    # Plot in histogram as well\n",
    "    plt.hist(df['hate_speech_score'], bins=100)\n",
    "    plt.axvline(hate_threshold, color='red', linestyle='--', label='Hate Speech Threshold')\n",
    "    plt.axvline(supportive_threshold, color='blue', linestyle='--', label='Supportive Threshold')\n",
    "    plt.legend()\n",
    "    plt.show()\n",
    "\n",
    "def plot_target_columns_distribution(df: pd.DataFrame, target_cols: list[str]):\n",
    "    \"\"\"\n",
    "    Plots a barchart of the average value of the target columns for the hate speech observations\n",
    "\n",
    "    Args:\n",
    "        df (pd.DataFrame): The dataframe to plot the distribution from\n",
    "        target_cols (list[str]): The columns to plot\n",
    "\n",
    "    Returns:\n",
    "        None (plots the distribution)\n",
    "    \"\"\"\n",
    "\n",
    "    # Filter to count hate speech only\n",
    "    hate_speech_df = df[df['is_hate_speech'] == 1]\n",
    "\n",
    "    # Calculate the mean value of the target columns for the hate speech observations and sort them descending\n",
    "    mean_values = hate_speech_df[target_cols].mean()\n",
    "    mean_values = mean_values.sort_values(ascending=False)\n",
    "\n",
    "    # Plot\n",
    "    plt.figure(figsize=(10, 6))\n",
    "    mean_values.plot(kind='bar')\n",
    "    plt.title('Percentage of hate speech columns targeting a specific group')\n",
    "    plt.xlabel('Target Column')\n",
    "    plt.ylabel('Percentage of hate speech')\n",
    "    plt.show()\n",
    "\n",
    "def plot_target_columns_detailed(df: pd.DataFrame, target_cols: list[str], fig_size: tuple[int, int] = (15, 30), y_max: float = 0.35):\n",
    "    \"\"\"\n",
    "    Plots a bar chart for each of the target columns with detailed breakdowns of sub-groups\n",
    "\n",
    "    Args:\n",
    "        df (pd.DataFrame): The dataframe to plot the distribution from\n",
    "        target_cols (list[str]): The columns to plot\n",
    "\n",
    "    Returns:\n",
    "        None (plots the distributions)\n",
    "\n",
    "    \"\"\"\n",
    "\n",
    "    # Filter to count hate speech only\n",
    "    hate_speech_df = df[df['is_hate_speech'] == 1]\n",
    "\n",
    "    # initalize axes to plot the 7 sub-groups in two rows of 3 and a last row of 1\n",
    "    fig, axes = plt.subplots(nrows=4, ncols=2, figsize=fig_size)\n",
    "    # For each of the target columns, make a list of means of of hate speach targeting its sub-groups\n",
    "    for ax, col in zip(axes.flatten(), target_cols):\n",
    "\n",
    "        # Calculate the number of observations with a non-zero value for the target column\n",
    "        non_zero_count = hate_speech_df[col].value_counts()[1]\n",
    "\n",
    "        # identify all columns in the dataframe that starts with the target column name\n",
    "        sub_groups_column_names = [column for column in df.columns if column.startswith(col)]\n",
    "\n",
    "        # remove the original target column from the list\n",
    "        sub_groups_column_names.remove(col)\n",
    "        col_name = col.replace(\"target_\", \"\").title()\n",
    "\n",
    "        # calculate the mean values for each sub-group\n",
    "        sub_group_means = hate_speech_df[sub_groups_column_names].mean()\n",
    "        sub_group_means = sub_group_means.sort_values(ascending=False)\n",
    "\n",
    "        # remove the col string from the labels\n",
    "        labels = sub_group_means.index.str.replace((col + \"_\"), '')\n",
    "\n",
    "        # plot on the specific axis\n",
    "        sub_group_means.plot(kind='bar', ax=ax)\n",
    "        ax.set_xticklabels(labels)\n",
    "        ax.set_title(f'Percentage of hate speech targeting {col_name} by sub-group \\n(n={non_zero_count})')\n",
    "        ax.set_xlabel('Sub-group')\n",
    "        ax.set_ylabel('Percentage of hate speech')\n",
    "        ax.set_ylim(0, y_max)\n",
    "    \n",
    "    plt.subplots_adjust(hspace=0.7)\n",
    "\n",
    "def inspect_for_cor(df, columns: list[str], plot_label: str, hate_speech_only: bool = True):\n",
    "\n",
    "    # filter for hate speech only if specified\n",
    "    if hate_speech_only:\n",
    "        df = df[df['is_hate_speech'] == 1]\n",
    "    \n",
    "    # Make a correlation matrix\n",
    "    corr_matrix = df[columns].corr()\n",
    "\n",
    "    # Plot the correlation matrix\n",
    "    plt.figure(figsize=(10, 8))\n",
    "    sns.heatmap(corr_matrix, annot=True, cmap='coolwarm', vmin=-1, vmax=1)\n",
    "    plt.title(f'Correlation Heatmap for {plot_label}')\n",
    "    plt.show()\n",
    "\n",
    "    # Make a pairplot of the columns\n",
    "    sns.pairplot(df[columns])\n",
    "    plt.title(f'Pairplot for {plot_label}')\n",
    "    plt.show()\n"
   ]
  },
  {
   "cell_type": "code",
   "execution_count": 6,
   "id": "22853d65",
   "metadata": {},
   "outputs": [],
   "source": [
    "aspect_cols = [\n",
    "    'insult',\n",
    "    'humiliate',\n",
    "    'status',\n",
    "    'dehumanize',\n",
    "    'violence',\n",
    "    'genocide'\n",
    "]\n",
    "\n",
    "target_cols_lvl1_and_2 = [col for col in df_raw.columns if col.startswith('target_')]\n",
    "\n",
    "target_cols_lvl1 = [\n",
    "    'target_race',\n",
    "    'target_religion',\n",
    "    'target_origin',\n",
    "    'target_gender',\n",
    "    'target_sexuality',\n",
    "    'target_age',\n",
    "    'target_disability',    \n",
    "]\n",
    "\n",
    "cols_to_keep = [\n",
    "    'comment_id', \n",
    "    'text', \n",
    "    'hate_speech_score',\n",
    "    *aspect_cols,\n",
    "    *target_cols_lvl1_and_2\n",
    "]\n"
   ]
  },
  {
   "cell_type": "markdown",
   "id": "37613ea6",
   "metadata": {},
   "source": [
    "### 2.1. Pre-filtering EDA"
   ]
  },
  {
   "cell_type": "code",
   "execution_count": 7,
   "id": "c91890c5",
   "metadata": {},
   "outputs": [
    {
     "name": "stdout",
     "output_type": "stream",
     "text": [
      "Total count: 135556\n",
      "Supportive count: 53651 (39.58%)\n",
      "Hate count: 49048 (36.18%)\n",
      "Neutral count: 32857 (24.24%)\n"
     ]
    },
    {
     "data": {
      "image/png": "[encoded data removed]",
      "text/plain": [
       "<Figure size 640x480 with 1 Axes>"
      ]
     },
     "metadata": {},
     "output_type": "display_data"
    }
   ],
   "source": [
    "plot_hate_speech_score_histogram(df_raw, HATE_SPEECH_THRESHOLD_UNNORMALIZED, SUPPORTIVE_THRESHOLD_UNNORMALIZED)"
   ]
  },
  {
   "cell_type": "markdown",
   "id": "128f3881",
   "metadata": {},
   "source": [
    "### 2.2. Filtering & reformating"
   ]
  },
  {
   "cell_type": "markdown",
   "id": "dc84c761",
   "metadata": {},
   "source": [
    "TODO: Make list of filtering actions for report \n"
   ]
  },
  {
   "cell_type": "code",
   "execution_count": 8,
   "id": "651a50e9",
   "metadata": {},
   "outputs": [
    {
     "name": "stdout",
     "output_type": "stream",
     "text": [
      "Number of duplicate texts: 125479\n"
     ]
    },
    {
     "data": {
      "application/vnd.microsoft.datawrangler.viewer.v0+json": {
       "columns": [
        {
         "name": "index",
         "rawType": "int64",
         "type": "integer"
        },
        {
         "name": "comment_id",
         "rawType": "int32",
         "type": "integer"
        },
        {
         "name": "text",
         "rawType": "object",
         "type": "string"
        }
       ],
       "ref": "05b04e36-d1e5-40cc-b552-76da5b34a88b",
       "rows": [
        [
         "0",
         "47777",
         "Yes indeed. She sort of reminds me of the elder lady that played the part in the movie \"Titanic\" who was telling her story!!! And I wouldn't have wanted to cover who I really am!! I would be proud!!!! WE should be proud of our race no matter what it is!!"
        ],
        [
         "1",
         "39773",
         "The trans women reading this tweet right now is beautiful"
        ],
        [
         "2",
         "47101",
         "Question: These 4 broads who criticize America, what country did they flee to get here? And now they want to make OUR America like THEIR former HELL HOLE. I don't think so!!!!!!!!!!  Let them explain their GRATITUDE for letting them in OUR country."
        ],
        [
         "3",
         "43625",
         "It is about time for all illegals to go back to their country of origin and keep our freeway open and prevent heavy traffic."
        ],
        [
         "4",
         "12538",
         "For starters bend over the one in pink and kick that ass and pussy to get a taste until she's begging for a dick inside her."
        ]
       ],
       "shape": {
        "columns": 2,
        "rows": 5
       }
      },
      "text/html": [
       "<div>\n",
       "<style scoped>\n",
       "    .dataframe tbody tr th:only-of-type {\n",
       "        vertical-align: middle;\n",
       "    }\n",
       "\n",
       "    .dataframe tbody tr th {\n",
       "        vertical-align: top;\n",
       "    }\n",
       "\n",
       "    .dataframe thead th {\n",
       "        text-align: right;\n",
       "    }\n",
       "</style>\n",
       "<table border=\"1\" class=\"dataframe\">\n",
       "  <thead>\n",
       "    <tr style=\"text-align: right;\">\n",
       "      <th></th>\n",
       "      <th>comment_id</th>\n",
       "      <th>text</th>\n",
       "    </tr>\n",
       "  </thead>\n",
       "  <tbody>\n",
       "    <tr>\n",
       "      <th>0</th>\n",
       "      <td>47777</td>\n",
       "      <td>Yes indeed. She sort of reminds me of the elde...</td>\n",
       "    </tr>\n",
       "    <tr>\n",
       "      <th>1</th>\n",
       "      <td>39773</td>\n",
       "      <td>The trans women reading this tweet right now i...</td>\n",
       "    </tr>\n",
       "    <tr>\n",
       "      <th>2</th>\n",
       "      <td>47101</td>\n",
       "      <td>Question: These 4 broads who criticize America...</td>\n",
       "    </tr>\n",
       "    <tr>\n",
       "      <th>3</th>\n",
       "      <td>43625</td>\n",
       "      <td>It is about time for all illegals to go back t...</td>\n",
       "    </tr>\n",
       "    <tr>\n",
       "      <th>4</th>\n",
       "      <td>12538</td>\n",
       "      <td>For starters bend over the one in pink and kic...</td>\n",
       "    </tr>\n",
       "  </tbody>\n",
       "</table>\n",
       "</div>"
      ],
      "text/plain": [
       "   comment_id                                               text\n",
       "0       47777  Yes indeed. She sort of reminds me of the elde...\n",
       "1       39773  The trans women reading this tweet right now i...\n",
       "2       47101  Question: These 4 broads who criticize America...\n",
       "3       43625  It is about time for all illegals to go back t...\n",
       "4       12538  For starters bend over the one in pink and kic..."
      ]
     },
     "execution_count": 8,
     "metadata": {},
     "output_type": "execute_result"
    }
   ],
   "source": [
    "# Check for duplicate rows based on the 'comment_id' column\n",
    "duplicate_texts = df_raw[df_raw.duplicated(subset='comment_id', keep=False)]\n",
    "print(f\"Number of duplicate texts: {duplicate_texts.shape[0]}\")\n",
    "duplicate_texts[['comment_id', 'text']].head()"
   ]
  },
  {
   "cell_type": "code",
   "execution_count": 9,
   "id": "b7dc8125",
   "metadata": {},
   "outputs": [
    {
     "name": "stdout",
     "output_type": "stream",
     "text": [
      "Number of 'comment_id' entries with inconsistent scores: 0\n"
     ]
    }
   ],
   "source": [
    "# Group by 'comment_id' and count unique 'hate_speech_score' values per group\n",
    "score_check = df_raw.groupby(\"comment_id\")[\"hate_speech_score\"].nunique()\n",
    "\n",
    "# Find texts with more than one unique score\n",
    "inconsistent = score_check[score_check > 1]\n",
    "\n",
    "# Show how many inconsistencies there are\n",
    "print(f\"Number of 'comment_id' entries with inconsistent scores: {len(inconsistent)}\")\n",
    "\n",
    "# Optionally, view a few examples\n",
    "if not inconsistent.empty:\n",
    "    print(df_raw[df_raw[\"comment_id\"].isin(inconsistent.index)].sort_values(\"comment_id\").head(10))"
   ]
  },
  {
   "cell_type": "code",
   "execution_count": 10,
   "id": "dfe2e764",
   "metadata": {},
   "outputs": [],
   "source": [
    "# Step 1: Select relevant columns\n",
    "df_relevant = df_raw[cols_to_keep].copy()\n",
    "\n",
    "# Step 2: Convert booleans to integers for mean calculation\n",
    "bool_cols = [col for col in df_relevant.columns if col.startswith('target_')]\n",
    "df_relevant[bool_cols] = df_relevant[bool_cols].astype(int)\n",
    "\n",
    "# Step 3: Group by 'comment_id' and 'text' to keep them in final output\n",
    "filtered_df = df_relevant.groupby(['comment_id', 'text']).mean().reset_index()"
   ]
  },
  {
   "cell_type": "code",
   "execution_count": 11,
   "id": "8bff2a4d",
   "metadata": {},
   "outputs": [],
   "source": [
    "min_score = filtered_df['hate_speech_score'].min()  # e.g., -8.34\n",
    "max_score = filtered_df['hate_speech_score'].max()  # e.g., +6.3\n",
    "\n",
    "# replace hate speech core column with normalized column - [0, 1]\n",
    "filtered_df['hate_speech_score'] = (filtered_df['hate_speech_score'] - min_score) / (max_score - min_score)\n"
   ]
  },
  {
   "cell_type": "code",
   "execution_count": 12,
   "id": "42f321de",
   "metadata": {},
   "outputs": [
    {
     "name": "stdout",
     "output_type": "stream",
     "text": [
      "Threshold for hate speech: 0.604 -> Equivalent to 0.5 on the original scale\n",
      "Threshold for counter speech: 0.501 -> Equivalent to -1 on the original scale\n",
      "Between the two thresholds: 0.604 and 0.501 -> Equivalent to 0.5 and -1 on the original scale which is the unambiguous region\n"
     ]
    }
   ],
   "source": [
    "# Normalize the thresholds given by the dataset authors\n",
    "HATE_SPEECH_THRESHOLD_NORMALIZED = (0.5 - min_score) / (max_score - min_score)  \n",
    "SUPPORTIVE_THRESHOLD_NORMALIZED = (-1 - min_score) / (max_score - min_score)\n",
    "\n",
    "# Add binary columns for hate speech\n",
    "filtered_df.insert(filtered_df.columns.get_loc('hate_speech_score') + 1, 'is_hate_speech', (filtered_df['hate_speech_score'] > HATE_SPEECH_THRESHOLD_NORMALIZED).astype(int))\n",
    "\n",
    "# Print new normalized thresholds \n",
    "print(f\"Threshold for hate speech: {HATE_SPEECH_THRESHOLD_NORMALIZED:.3f} -> Equivalent to {0.5} on the original scale\")\n",
    "print(f\"Threshold for counter speech: {SUPPORTIVE_THRESHOLD_NORMALIZED:.3f} -> Equivalent to {-1} on the original scale\")\n",
    "print(f\"Between the two thresholds: {HATE_SPEECH_THRESHOLD_NORMALIZED:.3f} and {SUPPORTIVE_THRESHOLD_NORMALIZED:.3f} -> Equivalent to {0.5} and {-1} on the original scale which is the unambiguous region\")\n"
   ]
  },
  {
   "cell_type": "code",
   "execution_count": 13,
   "id": "8e5e1c18",
   "metadata": {},
   "outputs": [
    {
     "data": {
      "application/vnd.microsoft.datawrangler.viewer.v0+json": {
       "columns": [
        {
         "name": "index",
         "rawType": "object",
         "type": "string"
        },
        {
         "name": "comment_id",
         "rawType": "float64",
         "type": "float"
        },
        {
         "name": "hate_speech_score",
         "rawType": "float64",
         "type": "float"
        },
        {
         "name": "is_hate_speech",
         "rawType": "float64",
         "type": "float"
        },
        {
         "name": "insult",
         "rawType": "float64",
         "type": "float"
        },
        {
         "name": "humiliate",
         "rawType": "float64",
         "type": "float"
        },
        {
         "name": "status",
         "rawType": "float64",
         "type": "float"
        },
        {
         "name": "dehumanize",
         "rawType": "float64",
         "type": "float"
        },
        {
         "name": "violence",
         "rawType": "float64",
         "type": "float"
        },
        {
         "name": "genocide",
         "rawType": "float64",
         "type": "float"
        },
        {
         "name": "target_race_asian",
         "rawType": "float64",
         "type": "float"
        },
        {
         "name": "target_race_black",
         "rawType": "float64",
         "type": "float"
        },
        {
         "name": "target_race_latinx",
         "rawType": "float64",
         "type": "float"
        },
        {
         "name": "target_race_middle_eastern",
         "rawType": "float64",
         "type": "float"
        },
        {
         "name": "target_race_native_american",
         "rawType": "float64",
         "type": "float"
        },
        {
         "name": "target_race_pacific_islander",
         "rawType": "float64",
         "type": "float"
        },
        {
         "name": "target_race_white",
         "rawType": "float64",
         "type": "float"
        },
        {
         "name": "target_race_other",
         "rawType": "float64",
         "type": "float"
        },
        {
         "name": "target_race",
         "rawType": "float64",
         "type": "float"
        },
        {
         "name": "target_religion_atheist",
         "rawType": "float64",
         "type": "float"
        },
        {
         "name": "target_religion_buddhist",
         "rawType": "float64",
         "type": "float"
        },
        {
         "name": "target_religion_christian",
         "rawType": "float64",
         "type": "float"
        },
        {
         "name": "target_religion_hindu",
         "rawType": "float64",
         "type": "float"
        },
        {
         "name": "target_religion_jewish",
         "rawType": "float64",
         "type": "float"
        },
        {
         "name": "target_religion_mormon",
         "rawType": "float64",
         "type": "float"
        },
        {
         "name": "target_religion_muslim",
         "rawType": "float64",
         "type": "float"
        },
        {
         "name": "target_religion_other",
         "rawType": "float64",
         "type": "float"
        },
        {
         "name": "target_religion",
         "rawType": "float64",
         "type": "float"
        },
        {
         "name": "target_origin_immigrant",
         "rawType": "float64",
         "type": "float"
        },
        {
         "name": "target_origin_migrant_worker",
         "rawType": "float64",
         "type": "float"
        },
        {
         "name": "target_origin_specific_country",
         "rawType": "float64",
         "type": "float"
        },
        {
         "name": "target_origin_undocumented",
         "rawType": "float64",
         "type": "float"
        },
        {
         "name": "target_origin_other",
         "rawType": "float64",
         "type": "float"
        },
        {
         "name": "target_origin",
         "rawType": "float64",
         "type": "float"
        },
        {
         "name": "target_gender_men",
         "rawType": "float64",
         "type": "float"
        },
        {
         "name": "target_gender_non_binary",
         "rawType": "float64",
         "type": "float"
        },
        {
         "name": "target_gender_transgender_men",
         "rawType": "float64",
         "type": "float"
        },
        {
         "name": "target_gender_transgender_unspecified",
         "rawType": "float64",
         "type": "float"
        },
        {
         "name": "target_gender_transgender_women",
         "rawType": "float64",
         "type": "float"
        },
        {
         "name": "target_gender_women",
         "rawType": "float64",
         "type": "float"
        },
        {
         "name": "target_gender_other",
         "rawType": "float64",
         "type": "float"
        },
        {
         "name": "target_gender",
         "rawType": "float64",
         "type": "float"
        },
        {
         "name": "target_sexuality_bisexual",
         "rawType": "float64",
         "type": "float"
        },
        {
         "name": "target_sexuality_gay",
         "rawType": "float64",
         "type": "float"
        },
        {
         "name": "target_sexuality_lesbian",
         "rawType": "float64",
         "type": "float"
        },
        {
         "name": "target_sexuality_straight",
         "rawType": "float64",
         "type": "float"
        },
        {
         "name": "target_sexuality_other",
         "rawType": "float64",
         "type": "float"
        },
        {
         "name": "target_sexuality",
         "rawType": "float64",
         "type": "float"
        },
        {
         "name": "target_age_children",
         "rawType": "float64",
         "type": "float"
        },
        {
         "name": "target_age_teenagers",
         "rawType": "float64",
         "type": "float"
        },
        {
         "name": "target_age_young_adults",
         "rawType": "float64",
         "type": "float"
        },
        {
         "name": "target_age_middle_aged",
         "rawType": "float64",
         "type": "float"
        },
        {
         "name": "target_age_seniors",
         "rawType": "float64",
         "type": "float"
        },
        {
         "name": "target_age_other",
         "rawType": "float64",
         "type": "float"
        },
        {
         "name": "target_age",
         "rawType": "float64",
         "type": "float"
        },
        {
         "name": "target_disability_physical",
         "rawType": "float64",
         "type": "float"
        },
        {
         "name": "target_disability_cognitive",
         "rawType": "float64",
         "type": "float"
        },
        {
         "name": "target_disability_neurological",
         "rawType": "float64",
         "type": "float"
        },
        {
         "name": "target_disability_visually_impaired",
         "rawType": "float64",
         "type": "float"
        },
        {
         "name": "target_disability_hearing_impaired",
         "rawType": "float64",
         "type": "float"
        },
        {
         "name": "target_disability_unspecific",
         "rawType": "float64",
         "type": "float"
        },
        {
         "name": "target_disability_other",
         "rawType": "float64",
         "type": "float"
        },
        {
         "name": "target_disability",
         "rawType": "float64",
         "type": "float"
        }
       ],
       "ref": "533afb6d-7fb8-439d-bf0c-5d319d35356b",
       "rows": [
        [
         "count",
         "39565.0",
         "39565.0",
         "39565.0",
         "39565.0",
         "39565.0",
         "39565.0",
         "39565.0",
         "39565.0",
         "39565.0",
         "39565.0",
         "39565.0",
         "39565.0",
         "39565.0",
         "39565.0",
         "39565.0",
         "39565.0",
         "39565.0",
         "39565.0",
         "39565.0",
         "39565.0",
         "39565.0",
         "39565.0",
         "39565.0",
         "39565.0",
         "39565.0",
         "39565.0",
         "39565.0",
         "39565.0",
         "39565.0",
         "39565.0",
         "39565.0",
         "39565.0",
         "39565.0",
         "39565.0",
         "39565.0",
         "39565.0",
         "39565.0",
         "39565.0",
         "39565.0",
         "39565.0",
         "39565.0",
         "39565.0",
         "39565.0",
         "39565.0",
         "39565.0",
         "39565.0",
         "39565.0",
         "39565.0",
         "39565.0",
         "39565.0",
         "39565.0",
         "39565.0",
         "39565.0",
         "39565.0",
         "39565.0",
         "39565.0",
         "39565.0",
         "39565.0",
         "39565.0",
         "39565.0",
         "39565.0",
         "39565.0"
        ],
        [
         "mean",
         "25064.175028434223",
         "0.505197351111369",
         "0.2616959433843043",
         "2.4517071590317108",
         "2.1709257471169137",
         "2.560852314468322",
         "1.7000708904612594",
         "0.8254266660076863",
         "0.44881444148956",
         "0.036070228976888045",
         "0.12730507714586484",
         "0.04434127226347803",
         "0.05784099229386903",
         "0.017678076121496775",
         "0.014725551252581178",
         "0.07686462101183855",
         "0.03619906463238487",
         "0.2943278595346902",
         "0.010215031698938342",
         "0.007809037996423696",
         "0.05182311536080002",
         "0.013084324333707154",
         "0.032893946673130475",
         "0.009346207470405815",
         "0.06256166238552903",
         "0.021847728291495182",
         "0.15408337216939627",
         "0.052882051988061146",
         "0.014943723274295015",
         "0.11143878853445377",
         "0.03467256464342234",
         "0.01972688373700071",
         "0.17684195668786343",
         "0.10612894108368255",
         "0.01488665412237347",
         "0.02354617796979404",
         "0.02286349532472919",
         "0.01847442686157884",
         "0.250350043927413",
         "0.007260661925714646",
         "0.3529052058175123",
         "0.05513288064710027",
         "0.12291440279910666",
         "0.05599518924061481",
         "0.04688305871511987",
         "0.02054080246760708",
         "0.18325268251591026",
         "0.008059750300310177",
         "0.009575005887611487",
         "0.011481145465445432",
         "0.006634615822663282",
         "0.0056995153254483216",
         "0.0012155448618437203",
         "0.024744151065267898",
         "0.002986115126736809",
         "0.013871873099228884",
         "0.00609139083528927",
         "0.0011862263537700635",
         "0.001254067803854027",
         "0.0063394210665870965",
         "0.0023917949509324825",
         "0.0256755267226435"
        ],
        [
         "std",
         "14573.79033590097",
         "0.1416043242301531",
         "0.43956348814497076",
         "1.1855070215564025",
         "1.1474330853058126",
         "0.6992453057504127",
         "1.0980247855157088",
         "1.0001648521950386",
         "0.7658471604706713",
         "0.16109305893032225",
         "0.31246076497356357",
         "0.17770546296059678",
         "0.19045595405267401",
         "0.11099729229024097",
         "0.09971243340759871",
         "0.23895888906066565",
         "0.1493530370398831",
         "0.4173136290556822",
         "0.08733918265425694",
         "0.07352298057473496",
         "0.20423812479423253",
         "0.09705306512139618",
         "0.16087058198881465",
         "0.08044793240276746",
         "0.21971648945394612",
         "0.12100736198870297",
         "0.34195031793890884",
         "0.1942265641628941",
         "0.0979447976677729",
         "0.27614429455510486",
         "0.1604653357523848",
         "0.11017180358054879",
         "0.34690722109909145",
         "0.2736406330742378",
         "0.09716498187989722",
         "0.12157456376211243",
         "0.12429269865742643",
         "0.1068708651760808",
         "0.40624938836499763",
         "0.06959616170845401",
         "0.4460132637758659",
         "0.1964415487635216",
         "0.30927614087526",
         "0.20011464536644744",
         "0.17630056461980156",
         "0.11364799878652143",
         "0.36264665194512324",
         "0.07959121968647843",
         "0.0835052175318814",
         "0.09091244237247746",
         "0.06848920485493021",
         "0.06514456469202297",
         "0.02833019749838391",
         "0.13750019042169068",
         "0.046627287145471624",
         "0.10585094320188834",
         "0.06847197776946573",
         "0.029225071609861878",
         "0.03044607489918457",
         "0.06815124402226042",
         "0.04160227490608772",
         "0.14603858059289304"
        ],
        [
         "min",
         "1.0",
         "0.0",
         "0.0",
         "0.0",
         "0.0",
         "0.0",
         "0.0",
         "0.0",
         "0.0",
         "0.0",
         "0.0",
         "0.0",
         "0.0",
         "0.0",
         "0.0",
         "0.0",
         "0.0",
         "0.0",
         "0.0",
         "0.0",
         "0.0",
         "0.0",
         "0.0",
         "0.0",
         "0.0",
         "0.0",
         "0.0",
         "0.0",
         "0.0",
         "0.0",
         "0.0",
         "0.0",
         "0.0",
         "0.0",
         "0.0",
         "0.0",
         "0.0",
         "0.0",
         "0.0",
         "0.0",
         "0.0",
         "0.0",
         "0.0",
         "0.0",
         "0.0",
         "0.0",
         "0.0",
         "0.0",
         "0.0",
         "0.0",
         "0.0",
         "0.0",
         "0.0",
         "0.0",
         "0.0",
         "0.0",
         "0.0",
         "0.0",
         "0.0",
         "0.0",
         "0.0",
         "0.0"
        ],
        [
         "25%",
         "12336.0",
         "0.4105191256830601",
         "0.0",
         "1.6666666666666667",
         "1.3333333333333333",
         "2.0",
         "1.0",
         "0.0",
         "0.0",
         "0.0",
         "0.0",
         "0.0",
         "0.0",
         "0.0",
         "0.0",
         "0.0",
         "0.0",
         "0.0",
         "0.0",
         "0.0",
         "0.0",
         "0.0",
         "0.0",
         "0.0",
         "0.0",
         "0.0",
         "0.0",
         "0.0",
         "0.0",
         "0.0",
         "0.0",
         "0.0",
         "0.0",
         "0.0",
         "0.0",
         "0.0",
         "0.0",
         "0.0",
         "0.0",
         "0.0",
         "0.0",
         "0.0",
         "0.0",
         "0.0",
         "0.0",
         "0.0",
         "0.0",
         "0.0",
         "0.0",
         "0.0",
         "0.0",
         "0.0",
         "0.0",
         "0.0",
         "0.0",
         "0.0",
         "0.0",
         "0.0",
         "0.0",
         "0.0",
         "0.0",
         "0.0"
        ],
        [
         "50%",
         "24986.0",
         "0.5218579234972677",
         "0.0",
         "3.0",
         "2.3333333333333335",
         "2.5",
         "1.6666666666666667",
         "0.5",
         "0.0",
         "0.0",
         "0.0",
         "0.0",
         "0.0",
         "0.0",
         "0.0",
         "0.0",
         "0.0",
         "0.0",
         "0.0",
         "0.0",
         "0.0",
         "0.0",
         "0.0",
         "0.0",
         "0.0",
         "0.0",
         "0.0",
         "0.0",
         "0.0",
         "0.0",
         "0.0",
         "0.0",
         "0.0",
         "0.0",
         "0.0",
         "0.0",
         "0.0",
         "0.0",
         "0.0",
         "0.0",
         "0.0",
         "0.0",
         "0.0",
         "0.0",
         "0.0",
         "0.0",
         "0.0",
         "0.0",
         "0.0",
         "0.0",
         "0.0",
         "0.0",
         "0.0",
         "0.0",
         "0.0",
         "0.0",
         "0.0",
         "0.0",
         "0.0",
         "0.0",
         "0.0",
         "0.0"
        ],
        [
         "75%",
         "37837.0",
         "0.6086065573770492",
         "1.0",
         "3.3333333333333335",
         "3.0",
         "3.0",
         "2.5",
         "1.0",
         "0.5",
         "0.0",
         "0.0",
         "0.0",
         "0.0",
         "0.0",
         "0.0",
         "0.0",
         "0.0",
         "0.6666666666666666",
         "0.0",
         "0.0",
         "0.0",
         "0.0",
         "0.0",
         "0.0",
         "0.0",
         "0.0",
         "0.0",
         "0.0",
         "0.0",
         "0.0",
         "0.0",
         "0.0",
         "0.0",
         "0.0",
         "0.0",
         "0.0",
         "0.0",
         "0.0",
         "0.5",
         "0.0",
         "1.0",
         "0.0",
         "0.0",
         "0.0",
         "0.0",
         "0.0",
         "0.0",
         "0.0",
         "0.0",
         "0.0",
         "0.0",
         "0.0",
         "0.0",
         "0.0",
         "0.0",
         "0.0",
         "0.0",
         "0.0",
         "0.0",
         "0.0",
         "0.0",
         "0.0"
        ],
        [
         "max",
         "50070.0",
         "1.0",
         "1.0",
         "4.0",
         "4.0",
         "4.0",
         "4.0",
         "4.0",
         "4.0",
         "1.0",
         "1.0",
         "1.0",
         "1.0",
         "1.0",
         "1.0",
         "1.0",
         "1.0",
         "1.0",
         "1.0",
         "1.0",
         "1.0",
         "1.0",
         "1.0",
         "1.0",
         "1.0",
         "1.0",
         "1.0",
         "1.0",
         "1.0",
         "1.0",
         "1.0",
         "1.0",
         "1.0",
         "1.0",
         "1.0",
         "1.0",
         "1.0",
         "1.0",
         "1.0",
         "1.0",
         "1.0",
         "1.0",
         "1.0",
         "1.0",
         "1.0",
         "1.0",
         "1.0",
         "1.0",
         "1.0",
         "1.0",
         "1.0",
         "1.0",
         "1.0",
         "1.0",
         "1.0",
         "1.0",
         "1.0",
         "1.0",
         "1.0",
         "1.0",
         "1.0",
         "1.0"
        ]
       ],
       "shape": {
        "columns": 62,
        "rows": 8
       }
      },
      "text/html": [
       "<div>\n",
       "<style scoped>\n",
       "    .dataframe tbody tr th:only-of-type {\n",
       "        vertical-align: middle;\n",
       "    }\n",
       "\n",
       "    .dataframe tbody tr th {\n",
       "        vertical-align: top;\n",
       "    }\n",
       "\n",
       "    .dataframe thead th {\n",
       "        text-align: right;\n",
       "    }\n",
       "</style>\n",
       "<table border=\"1\" class=\"dataframe\">\n",
       "  <thead>\n",
       "    <tr style=\"text-align: right;\">\n",
       "      <th></th>\n",
       "      <th>comment_id</th>\n",
       "      <th>hate_speech_score</th>\n",
       "      <th>is_hate_speech</th>\n",
       "      <th>insult</th>\n",
       "      <th>humiliate</th>\n",
       "      <th>status</th>\n",
       "      <th>dehumanize</th>\n",
       "      <th>violence</th>\n",
       "      <th>genocide</th>\n",
       "      <th>target_race_asian</th>\n",
       "      <th>...</th>\n",
       "      <th>target_age_other</th>\n",
       "      <th>target_age</th>\n",
       "      <th>target_disability_physical</th>\n",
       "      <th>target_disability_cognitive</th>\n",
       "      <th>target_disability_neurological</th>\n",
       "      <th>target_disability_visually_impaired</th>\n",
       "      <th>target_disability_hearing_impaired</th>\n",
       "      <th>target_disability_unspecific</th>\n",
       "      <th>target_disability_other</th>\n",
       "      <th>target_disability</th>\n",
       "    </tr>\n",
       "  </thead>\n",
       "  <tbody>\n",
       "    <tr>\n",
       "      <th>count</th>\n",
       "      <td>39565.000000</td>\n",
       "      <td>39565.000000</td>\n",
       "      <td>39565.000000</td>\n",
       "      <td>39565.000000</td>\n",
       "      <td>39565.000000</td>\n",
       "      <td>39565.000000</td>\n",
       "      <td>39565.000000</td>\n",
       "      <td>39565.000000</td>\n",
       "      <td>39565.000000</td>\n",
       "      <td>39565.000000</td>\n",
       "      <td>...</td>\n",
       "      <td>39565.000000</td>\n",
       "      <td>39565.000000</td>\n",
       "      <td>39565.000000</td>\n",
       "      <td>39565.000000</td>\n",
       "      <td>39565.000000</td>\n",
       "      <td>39565.000000</td>\n",
       "      <td>39565.000000</td>\n",
       "      <td>39565.000000</td>\n",
       "      <td>39565.000000</td>\n",
       "      <td>39565.000000</td>\n",
       "    </tr>\n",
       "    <tr>\n",
       "      <th>mean</th>\n",
       "      <td>25064.175028</td>\n",
       "      <td>0.505197</td>\n",
       "      <td>0.261696</td>\n",
       "      <td>2.451707</td>\n",
       "      <td>2.170926</td>\n",
       "      <td>2.560852</td>\n",
       "      <td>1.700071</td>\n",
       "      <td>0.825427</td>\n",
       "      <td>0.448814</td>\n",
       "      <td>0.036070</td>\n",
       "      <td>...</td>\n",
       "      <td>0.001216</td>\n",
       "      <td>0.024744</td>\n",
       "      <td>0.002986</td>\n",
       "      <td>0.013872</td>\n",
       "      <td>0.006091</td>\n",
       "      <td>0.001186</td>\n",
       "      <td>0.001254</td>\n",
       "      <td>0.006339</td>\n",
       "      <td>0.002392</td>\n",
       "      <td>0.025676</td>\n",
       "    </tr>\n",
       "    <tr>\n",
       "      <th>std</th>\n",
       "      <td>14573.790336</td>\n",
       "      <td>0.141604</td>\n",
       "      <td>0.439563</td>\n",
       "      <td>1.185507</td>\n",
       "      <td>1.147433</td>\n",
       "      <td>0.699245</td>\n",
       "      <td>1.098025</td>\n",
       "      <td>1.000165</td>\n",
       "      <td>0.765847</td>\n",
       "      <td>0.161093</td>\n",
       "      <td>...</td>\n",
       "      <td>0.028330</td>\n",
       "      <td>0.137500</td>\n",
       "      <td>0.046627</td>\n",
       "      <td>0.105851</td>\n",
       "      <td>0.068472</td>\n",
       "      <td>0.029225</td>\n",
       "      <td>0.030446</td>\n",
       "      <td>0.068151</td>\n",
       "      <td>0.041602</td>\n",
       "      <td>0.146039</td>\n",
       "    </tr>\n",
       "    <tr>\n",
       "      <th>min</th>\n",
       "      <td>1.000000</td>\n",
       "      <td>0.000000</td>\n",
       "      <td>0.000000</td>\n",
       "      <td>0.000000</td>\n",
       "      <td>0.000000</td>\n",
       "      <td>0.000000</td>\n",
       "      <td>0.000000</td>\n",
       "      <td>0.000000</td>\n",
       "      <td>0.000000</td>\n",
       "      <td>0.000000</td>\n",
       "      <td>...</td>\n",
       "      <td>0.000000</td>\n",
       "      <td>0.000000</td>\n",
       "      <td>0.000000</td>\n",
       "      <td>0.000000</td>\n",
       "      <td>0.000000</td>\n",
       "      <td>0.000000</td>\n",
       "      <td>0.000000</td>\n",
       "      <td>0.000000</td>\n",
       "      <td>0.000000</td>\n",
       "      <td>0.000000</td>\n",
       "    </tr>\n",
       "    <tr>\n",
       "      <th>25%</th>\n",
       "      <td>12336.000000</td>\n",
       "      <td>0.410519</td>\n",
       "      <td>0.000000</td>\n",
       "      <td>1.666667</td>\n",
       "      <td>1.333333</td>\n",
       "      <td>2.000000</td>\n",
       "      <td>1.000000</td>\n",
       "      <td>0.000000</td>\n",
       "      <td>0.000000</td>\n",
       "      <td>0.000000</td>\n",
       "      <td>...</td>\n",
       "      <td>0.000000</td>\n",
       "      <td>0.000000</td>\n",
       "      <td>0.000000</td>\n",
       "      <td>0.000000</td>\n",
       "      <td>0.000000</td>\n",
       "      <td>0.000000</td>\n",
       "      <td>0.000000</td>\n",
       "      <td>0.000000</td>\n",
       "      <td>0.000000</td>\n",
       "      <td>0.000000</td>\n",
       "    </tr>\n",
       "    <tr>\n",
       "      <th>50%</th>\n",
       "      <td>24986.000000</td>\n",
       "      <td>0.521858</td>\n",
       "      <td>0.000000</td>\n",
       "      <td>3.000000</td>\n",
       "      <td>2.333333</td>\n",
       "      <td>2.500000</td>\n",
       "      <td>1.666667</td>\n",
       "      <td>0.500000</td>\n",
       "      <td>0.000000</td>\n",
       "      <td>0.000000</td>\n",
       "      <td>...</td>\n",
       "      <td>0.000000</td>\n",
       "      <td>0.000000</td>\n",
       "      <td>0.000000</td>\n",
       "      <td>0.000000</td>\n",
       "      <td>0.000000</td>\n",
       "      <td>0.000000</td>\n",
       "      <td>0.000000</td>\n",
       "      <td>0.000000</td>\n",
       "      <td>0.000000</td>\n",
       "      <td>0.000000</td>\n",
       "    </tr>\n",
       "    <tr>\n",
       "      <th>75%</th>\n",
       "      <td>37837.000000</td>\n",
       "      <td>0.608607</td>\n",
       "      <td>1.000000</td>\n",
       "      <td>3.333333</td>\n",
       "      <td>3.000000</td>\n",
       "      <td>3.000000</td>\n",
       "      <td>2.500000</td>\n",
       "      <td>1.000000</td>\n",
       "      <td>0.500000</td>\n",
       "      <td>0.000000</td>\n",
       "      <td>...</td>\n",
       "      <td>0.000000</td>\n",
       "      <td>0.000000</td>\n",
       "      <td>0.000000</td>\n",
       "      <td>0.000000</td>\n",
       "      <td>0.000000</td>\n",
       "      <td>0.000000</td>\n",
       "      <td>0.000000</td>\n",
       "      <td>0.000000</td>\n",
       "      <td>0.000000</td>\n",
       "      <td>0.000000</td>\n",
       "    </tr>\n",
       "    <tr>\n",
       "      <th>max</th>\n",
       "      <td>50070.000000</td>\n",
       "      <td>1.000000</td>\n",
       "      <td>1.000000</td>\n",
       "      <td>4.000000</td>\n",
       "      <td>4.000000</td>\n",
       "      <td>4.000000</td>\n",
       "      <td>4.000000</td>\n",
       "      <td>4.000000</td>\n",
       "      <td>4.000000</td>\n",
       "      <td>1.000000</td>\n",
       "      <td>...</td>\n",
       "      <td>1.000000</td>\n",
       "      <td>1.000000</td>\n",
       "      <td>1.000000</td>\n",
       "      <td>1.000000</td>\n",
       "      <td>1.000000</td>\n",
       "      <td>1.000000</td>\n",
       "      <td>1.000000</td>\n",
       "      <td>1.000000</td>\n",
       "      <td>1.000000</td>\n",
       "      <td>1.000000</td>\n",
       "    </tr>\n",
       "  </tbody>\n",
       "</table>\n",
       "<p>8 rows × 62 columns</p>\n",
       "</div>"
      ],
      "text/plain": [
       "         comment_id  hate_speech_score  is_hate_speech        insult  \\\n",
       "count  39565.000000       39565.000000    39565.000000  39565.000000   \n",
       "mean   25064.175028           0.505197        0.261696      2.451707   \n",
       "std    14573.790336           0.141604        0.439563      1.185507   \n",
       "min        1.000000           0.000000        0.000000      0.000000   \n",
       "25%    12336.000000           0.410519        0.000000      1.666667   \n",
       "50%    24986.000000           0.521858        0.000000      3.000000   \n",
       "75%    37837.000000           0.608607        1.000000      3.333333   \n",
       "max    50070.000000           1.000000        1.000000      4.000000   \n",
       "\n",
       "          humiliate        status    dehumanize      violence      genocide  \\\n",
       "count  39565.000000  39565.000000  39565.000000  39565.000000  39565.000000   \n",
       "mean       2.170926      2.560852      1.700071      0.825427      0.448814   \n",
       "std        1.147433      0.699245      1.098025      1.000165      0.765847   \n",
       "min        0.000000      0.000000      0.000000      0.000000      0.000000   \n",
       "25%        1.333333      2.000000      1.000000      0.000000      0.000000   \n",
       "50%        2.333333      2.500000      1.666667      0.500000      0.000000   \n",
       "75%        3.000000      3.000000      2.500000      1.000000      0.500000   \n",
       "max        4.000000      4.000000      4.000000      4.000000      4.000000   \n",
       "\n",
       "       target_race_asian  ...  target_age_other    target_age  \\\n",
       "count       39565.000000  ...      39565.000000  39565.000000   \n",
       "mean            0.036070  ...          0.001216      0.024744   \n",
       "std             0.161093  ...          0.028330      0.137500   \n",
       "min             0.000000  ...          0.000000      0.000000   \n",
       "25%             0.000000  ...          0.000000      0.000000   \n",
       "50%             0.000000  ...          0.000000      0.000000   \n",
       "75%             0.000000  ...          0.000000      0.000000   \n",
       "max             1.000000  ...          1.000000      1.000000   \n",
       "\n",
       "       target_disability_physical  target_disability_cognitive  \\\n",
       "count                39565.000000                 39565.000000   \n",
       "mean                     0.002986                     0.013872   \n",
       "std                      0.046627                     0.105851   \n",
       "min                      0.000000                     0.000000   \n",
       "25%                      0.000000                     0.000000   \n",
       "50%                      0.000000                     0.000000   \n",
       "75%                      0.000000                     0.000000   \n",
       "max                      1.000000                     1.000000   \n",
       "\n",
       "       target_disability_neurological  target_disability_visually_impaired  \\\n",
       "count                    39565.000000                         39565.000000   \n",
       "mean                         0.006091                             0.001186   \n",
       "std                          0.068472                             0.029225   \n",
       "min                          0.000000                             0.000000   \n",
       "25%                          0.000000                             0.000000   \n",
       "50%                          0.000000                             0.000000   \n",
       "75%                          0.000000                             0.000000   \n",
       "max                          1.000000                             1.000000   \n",
       "\n",
       "       target_disability_hearing_impaired  target_disability_unspecific  \\\n",
       "count                        39565.000000                  39565.000000   \n",
       "mean                             0.001254                      0.006339   \n",
       "std                              0.030446                      0.068151   \n",
       "min                              0.000000                      0.000000   \n",
       "25%                              0.000000                      0.000000   \n",
       "50%                              0.000000                      0.000000   \n",
       "75%                              0.000000                      0.000000   \n",
       "max                              1.000000                      1.000000   \n",
       "\n",
       "       target_disability_other  target_disability  \n",
       "count             39565.000000       39565.000000  \n",
       "mean                  0.002392           0.025676  \n",
       "std                   0.041602           0.146039  \n",
       "min                   0.000000           0.000000  \n",
       "25%                   0.000000           0.000000  \n",
       "50%                   0.000000           0.000000  \n",
       "75%                   0.000000           0.000000  \n",
       "max                   1.000000           1.000000  \n",
       "\n",
       "[8 rows x 62 columns]"
      ]
     },
     "execution_count": 13,
     "metadata": {},
     "output_type": "execute_result"
    }
   ],
   "source": [
    "filtered_df.describe()"
   ]
  },
  {
   "cell_type": "code",
   "execution_count": 14,
   "id": "f882c1a0",
   "metadata": {},
   "outputs": [
    {
     "name": "stdout",
     "output_type": "stream",
     "text": [
      "<class 'pandas.core.frame.DataFrame'>\n",
      "RangeIndex: 39565 entries, 0 to 39564\n",
      "Data columns (total 63 columns):\n",
      " #   Column                                 Non-Null Count  Dtype  \n",
      "---  ------                                 --------------  -----  \n",
      " 0   comment_id                             39565 non-null  int32  \n",
      " 1   text                                   39565 non-null  object \n",
      " 2   hate_speech_score                      39565 non-null  float64\n",
      " 3   is_hate_speech                         39565 non-null  int64  \n",
      " 4   insult                                 39565 non-null  float64\n",
      " 5   humiliate                              39565 non-null  float64\n",
      " 6   status                                 39565 non-null  float64\n",
      " 7   dehumanize                             39565 non-null  float64\n",
      " 8   violence                               39565 non-null  float64\n",
      " 9   genocide                               39565 non-null  float64\n",
      " 10  target_race_asian                      39565 non-null  float64\n",
      " 11  target_race_black                      39565 non-null  float64\n",
      " 12  target_race_latinx                     39565 non-null  float64\n",
      " 13  target_race_middle_eastern             39565 non-null  float64\n",
      " 14  target_race_native_american            39565 non-null  float64\n",
      " 15  target_race_pacific_islander           39565 non-null  float64\n",
      " 16  target_race_white                      39565 non-null  float64\n",
      " 17  target_race_other                      39565 non-null  float64\n",
      " 18  target_race                            39565 non-null  float64\n",
      " 19  target_religion_atheist                39565 non-null  float64\n",
      " 20  target_religion_buddhist               39565 non-null  float64\n",
      " 21  target_religion_christian              39565 non-null  float64\n",
      " 22  target_religion_hindu                  39565 non-null  float64\n",
      " 23  target_religion_jewish                 39565 non-null  float64\n",
      " 24  target_religion_mormon                 39565 non-null  float64\n",
      " 25  target_religion_muslim                 39565 non-null  float64\n",
      " 26  target_religion_other                  39565 non-null  float64\n",
      " 27  target_religion                        39565 non-null  float64\n",
      " 28  target_origin_immigrant                39565 non-null  float64\n",
      " 29  target_origin_migrant_worker           39565 non-null  float64\n",
      " 30  target_origin_specific_country         39565 non-null  float64\n",
      " 31  target_origin_undocumented             39565 non-null  float64\n",
      " 32  target_origin_other                    39565 non-null  float64\n",
      " 33  target_origin                          39565 non-null  float64\n",
      " 34  target_gender_men                      39565 non-null  float64\n",
      " 35  target_gender_non_binary               39565 non-null  float64\n",
      " 36  target_gender_transgender_men          39565 non-null  float64\n",
      " 37  target_gender_transgender_unspecified  39565 non-null  float64\n",
      " 38  target_gender_transgender_women        39565 non-null  float64\n",
      " 39  target_gender_women                    39565 non-null  float64\n",
      " 40  target_gender_other                    39565 non-null  float64\n",
      " 41  target_gender                          39565 non-null  float64\n",
      " 42  target_sexuality_bisexual              39565 non-null  float64\n",
      " 43  target_sexuality_gay                   39565 non-null  float64\n",
      " 44  target_sexuality_lesbian               39565 non-null  float64\n",
      " 45  target_sexuality_straight              39565 non-null  float64\n",
      " 46  target_sexuality_other                 39565 non-null  float64\n",
      " 47  target_sexuality                       39565 non-null  float64\n",
      " 48  target_age_children                    39565 non-null  float64\n",
      " 49  target_age_teenagers                   39565 non-null  float64\n",
      " 50  target_age_young_adults                39565 non-null  float64\n",
      " 51  target_age_middle_aged                 39565 non-null  float64\n",
      " 52  target_age_seniors                     39565 non-null  float64\n",
      " 53  target_age_other                       39565 non-null  float64\n",
      " 54  target_age                             39565 non-null  float64\n",
      " 55  target_disability_physical             39565 non-null  float64\n",
      " 56  target_disability_cognitive            39565 non-null  float64\n",
      " 57  target_disability_neurological         39565 non-null  float64\n",
      " 58  target_disability_visually_impaired    39565 non-null  float64\n",
      " 59  target_disability_hearing_impaired     39565 non-null  float64\n",
      " 60  target_disability_unspecific           39565 non-null  float64\n",
      " 61  target_disability_other                39565 non-null  float64\n",
      " 62  target_disability                      39565 non-null  float64\n",
      "dtypes: float64(60), int32(1), int64(1), object(1)\n",
      "memory usage: 18.9+ MB\n"
     ]
    }
   ],
   "source": [
    "filtered_df.info()"
   ]
  },
  {
   "cell_type": "code",
   "execution_count": 15,
   "id": "3b9127f7",
   "metadata": {},
   "outputs": [
    {
     "name": "stdout",
     "output_type": "stream",
     "text": [
      "is_hate_speech\n",
      "0    0.5\n",
      "1    0.5\n",
      "Name: proportion, dtype: float64\n"
     ]
    }
   ],
   "source": [
    "from sklearn.utils import resample\n",
    "\n",
    "filtered_df = filtered_df.copy()\n",
    "\n",
    "# 2) Split into majority / minority\n",
    "df_majority = filtered_df[filtered_df.is_hate_speech == 0]\n",
    "df_minority = filtered_df[filtered_df.is_hate_speech == 1]\n",
    "\n",
    "# 3) Down‐sample majority to match minority\n",
    "df_majority_down = resample(\n",
    "    df_majority,\n",
    "    replace=False,\n",
    "    n_samples=len(df_minority),\n",
    "    random_state=42\n",
    ")\n",
    "\n",
    "# 4) Overwrite filtered_df with the balanced combination\n",
    "filtered_df = pd.concat([df_minority, df_majority_down]) \\\n",
    "                  .sample(frac=1, random_state=42) \\\n",
    "                  .reset_index(drop=True)\n",
    "\n",
    "# (Optional) verify\n",
    "print(filtered_df.is_hate_speech.value_counts(normalize=True))"
   ]
  },
  {
   "cell_type": "markdown",
   "id": "2c34e919",
   "metadata": {},
   "source": [
    "### 2.3. Post-filtering EDA"
   ]
  },
  {
   "cell_type": "code",
   "execution_count": 16,
   "id": "35914d70",
   "metadata": {},
   "outputs": [
    {
     "name": "stdout",
     "output_type": "stream",
     "text": [
      "Total count: 20708\n",
      "Supportive count: 6190 (29.89%)\n",
      "Hate count: 10354 (50.00%)\n",
      "Neutral count: 4164 (20.11%)\n"
     ]
    },
    {
     "data": {
      "image/png": "[encoded data removed]",
      "text/plain": [
       "<Figure size 640x480 with 1 Axes>"
      ]
     },
     "metadata": {},
     "output_type": "display_data"
    }
   ],
   "source": [
    "plot_hate_speech_score_histogram(filtered_df, HATE_SPEECH_THRESHOLD_NORMALIZED, SUPPORTIVE_THRESHOLD_NORMALIZED)"
   ]
  },
  {
   "cell_type": "code",
   "execution_count": 17,
   "id": "a3c1d9a5",
   "metadata": {},
   "outputs": [
    {
     "data": {
      "image/png": "[encoded data removed]",
      "text/plain": [
       "<Figure size 1000x600 with 1 Axes>"
      ]
     },
     "metadata": {},
     "output_type": "display_data"
    },
    {
     "data": {
      "image/png": "[encoded data removed]",
      "text/plain": [
       "<Figure size 1500x3000 with 8 Axes>"
      ]
     },
     "metadata": {},
     "output_type": "display_data"
    }
   ],
   "source": [
    "plot_target_columns_distribution(filtered_df, target_cols_lvl1)\n",
    "plot_target_columns_detailed(filtered_df, target_cols_lvl1)"
   ]
  },
  {
   "cell_type": "code",
   "execution_count": 18,
   "id": "565c8d3b",
   "metadata": {},
   "outputs": [
    {
     "data": {
      "image/png": "[encoded data removed]",
      "text/plain": [
       "<Figure size 1000x800 with 2 Axes>"
      ]
     },
     "metadata": {},
     "output_type": "display_data"
    },
    {
     "data": {
      "image/png": "[encoded data removed]",
      "text/plain": [
       "<Figure size 1750x1750 with 56 Axes>"
      ]
     },
     "metadata": {},
     "output_type": "display_data"
    }
   ],
   "source": [
    "inspect_for_cor(filtered_df, target_cols_lvl1, 'Target Columns')"
   ]
  },
  {
   "cell_type": "markdown",
   "id": "59dc0b7c",
   "metadata": {},
   "source": [
    "# 3. Models"
   ]
  },
  {
   "cell_type": "markdown",
   "id": "0f2a48fc",
   "metadata": {},
   "source": [
    "### 3.0 Function & Class definitions"
   ]
  },
  {
   "cell_type": "code",
   "execution_count": 19,
   "id": "ed77b13c",
   "metadata": {},
   "outputs": [],
   "source": [
    "# Download necessary NLTK resources\n",
    "for resource in ['punkt', 'stopwords', 'wordnet', 'averaged_perceptron_tagger_eng']:\n",
    "    nltk.download(resource, quiet=True)\n",
    "\n",
    "# Tokenizer\n",
    "tknzr = TweetTokenizer()\n",
    "stop_words = set(stopwords.words('english'))\n",
    "lemmatizer = WordNetLemmatizer()"
   ]
  },
  {
   "cell_type": "code",
   "execution_count": 20,
   "id": "99bbe327",
   "metadata": {},
   "outputs": [],
   "source": [
    "def append_results(results: list, report: dict, model_name: str, metrics: list[str]):\n",
    "    \n",
    "    append_dict = {}\n",
    "\n",
    "    for metric in metrics:\n",
    "        append_dict[f'{metric}_hate'] = report['1'][metric]\n",
    "        append_dict[f'{metric}_non_hate'] = report['0'][metric]\n",
    "        append_dict[f'{metric}_macro_avg'] = report['macro avg'][metric]\n",
    "        append_dict[f'{metric}_weighted_avg'] = report['weighted avg'][metric]\n",
    "\n",
    "    append_dict['accuracy'] = report['accuracy']\n",
    "\n",
    "    results.append({\n",
    "        'model': model_name,\n",
    "        **append_dict\n",
    "    })\n",
    "\n",
    "def get_wordnet_pos(tag):\n",
    "    \"\"\"\n",
    "    Convert the part of speech tag to a format that WordNet lemmatizer can understand.\n",
    "    starts with 'J' for adjectives, 'V' for verbs, 'N' for nouns, and 'R' for adverbs.\n",
    "    Args:\n",
    "        tag (str): The part of speech tag.\n",
    "    Returns:\n",
    "        str: The WordNet part of speech tag.\n",
    "    \"\"\"\n",
    "    if tag.startswith('J'):\n",
    "        return wordnet.ADJ\n",
    "    elif tag.startswith('V'):\n",
    "        return wordnet.VERB\n",
    "    elif tag.startswith('N'):\n",
    "        return wordnet.NOUN\n",
    "    elif tag.startswith('R'):\n",
    "        return wordnet.ADV\n",
    "    else:\n",
    "        return wordnet.NOUN\n",
    "    \n",
    "def is_ascii(token):\n",
    "    return all(ord(c) < 128 for c in token)\n",
    "\n",
    "def remove_repeated_chars(token, threshold=3):\n",
    "    return re.sub(r'(.)\\1{' + str(threshold) + r',}', r'\\1', token)\n",
    "\n",
    "def bow_preprocess(text):\n",
    "    \"\"\"\n",
    "    Preprocess the text by tokenizing, removing punctuation, stop words,\n",
    "    and lemmatizing the words.\n",
    "    Args:\n",
    "        text (str): The text to preprocess.\n",
    "    Returns:\n",
    "        str: The preprocessed text.\n",
    "    Example:\n",
    "        >>> preprocess(\"This is an EXAMPLE sentence!!!.\")\n",
    "        'example sentence'\n",
    "        \n",
    "    \"\"\"\n",
    "    tokens = tknzr.tokenize(text) # Tokenize the text\n",
    "    tokens = [word.lower() for word in tokens if word not in string.punctuation] # Remove punctuation\n",
    "    tokens = [word for word in tokens if word not in stop_words] # Remove stop words\n",
    "    tokens = [remove_repeated_chars(word) for word in tokens] # Remove repeated characters, ex: \"loooove\" -> \"love\"\n",
    "    tokens = [word for word in tokens if len(word) >= 2 and is_ascii(word)]  # Filter by length and ASCII\n",
    "    pos_tags = pos_tag(tokens) # Get part of speech tags\n",
    "    lemmatized = [lemmatizer.lemmatize(word, get_wordnet_pos(pos)) for word, pos in pos_tags] # Lemmatize the words using the part of speech tags\n",
    "    return \" \".join(lemmatized)\n",
    "\n",
    "def stream_batches(texts, labels, batch_size=32, max_length=256):\n",
    "    \"\"\"\n",
    "    Streams batches into SGD classifier\n",
    "\n",
    "    Args:\n",
    "        texts (pd.Series): The texts to stream\n",
    "        labels (pd.Series): The labels to stream\n",
    "        batch_size (int): The batch size\n",
    "        max_length (int): The maximum length of the texts\n",
    "    \n",
    "    Returns:\n",
    "        generator: A generator of batches\n",
    "    \"\"\"\n",
    "    n = len(texts)\n",
    "    n_batches = ceil(n / batch_size)\n",
    "\n",
    "    # Iterate over the batches to yield them one by one\n",
    "    for i in range(n_batches):\n",
    "        batch_texts = texts.iloc[i*batch_size:(i+1)*batch_size].tolist()\n",
    "        batch_labels = labels.iloc[i*batch_size:(i+1)*batch_size].values\n",
    "        \n",
    "        # dynamic padding + truncation\n",
    "        enc = bert_tokenizer(\n",
    "            batch_texts,\n",
    "            padding=True,\n",
    "            truncation=True,\n",
    "            max_length=max_length,\n",
    "            return_tensors=\"pt\"\n",
    "        )\n",
    "        yield enc[\"input_ids\"], enc[\"attention_mask\"], batch_labels\n"
   ]
  },
  {
   "cell_type": "code",
   "execution_count": 21,
   "id": "ca5db4cd",
   "metadata": {},
   "outputs": [],
   "source": [
    "class BOWTextPreprocessor(BaseEstimator, TransformerMixin):\n",
    "    def fit(self, X, y=None):\n",
    "        return self\n",
    "    \n",
    "    def transform(self, X):\n",
    "        return X.progress_apply(bow_preprocess)"
   ]
  },
  {
   "cell_type": "markdown",
   "id": "c5a64241",
   "metadata": {},
   "source": [
    "### 3.1. BoW + Naïve Bayes"
   ]
  },
  {
   "cell_type": "code",
   "execution_count": null,
   "id": "f67b6a5a",
   "metadata": {},
   "outputs": [],
   "source": [
    "# Dataframe for Bag of Words (BoW) representation\n",
    "bow_df = filtered_df.copy()\n",
    "\n",
    "# Releveant columns\n",
    "bow_cols = ['text', 'is_hate_speech']\n",
    "\n",
    "# Select relevant columns\n",
    "bow_df = bow_df[bow_cols]\n"
   ]
  },
  {
   "cell_type": "markdown",
   "id": "43eb1c6f",
   "metadata": {},
   "source": [
    "### TODO: Maybe remove preprocessing from pipepine to just have it done once for \"Part 2\" of Assignment 3 approach"
   ]
  },
  {
   "cell_type": "code",
   "execution_count": null,
   "id": "51bf864d",
   "metadata": {},
   "outputs": [],
   "source": [
    "bow_pipeline = Pipeline([\n",
    "    ('preproc', BOWTextPreprocessor()),\n",
    "    ('vect', CountVectorizer()),\n",
    "    ('clf', MultinomialNB(alpha=0.1))\n",
    "])"
   ]
  },
  {
   "cell_type": "code",
   "execution_count": null,
   "id": "4d9e567e",
   "metadata": {},
   "outputs": [],
   "source": [
    "X = bow_df['text']\n",
    "y = bow_df['is_hate_speech']\n",
    "\n",
    "X_train, X_test, y_train, y_test = train_test_split(X, y, test_size=TEST_RATIO, random_state=42)\n"
   ]
  },
  {
   "cell_type": "markdown",
   "id": "f45816d1",
   "metadata": {},
   "source": [
    "##### 3.1.1. GridSearch - BoW + Naive Bayes"
   ]
  },
  {
   "cell_type": "code",
   "execution_count": null,
   "id": "599286c3",
   "metadata": {},
   "outputs": [],
   "source": [
    "# Grid for BoW + LR\n",
    "param_grid_bow = {\n",
    "    \"vect__ngram_range\":  [(1,1), (1,2)],\n",
    "    \"vect__min_df\":       [3, 5, 10],\n",
    "    \"vect__max_df\":       [0.7, 0.8, 0.9],\n",
    "    \"clf__alpha\":          [0.1, 0.5, 1.0],\n",
    "    \"clf__fit_prior\":      [True, False],\n",
    "}\n",
    "\n",
    "# GridSearchCV setup\n",
    "grid_bow = GridSearchCV(\n",
    "    estimator=bow_pipeline,\n",
    "    param_grid=param_grid_bow,\n",
    "    cv=5,\n",
    "    scoring=\"f1_macro\",\n",
    "    n_jobs=1,\n",
    "    verbose=2\n",
    ")"
   ]
  },
  {
   "cell_type": "markdown",
   "id": "264239dd",
   "metadata": {},
   "source": [
    "##### 3.1.2. Fit model to training set - BoW + Naive Bayes"
   ]
  },
  {
   "cell_type": "code",
   "execution_count": null,
   "id": "c03a74ff",
   "metadata": {},
   "outputs": [],
   "source": [
    "\"\"\" \n",
    "# Fit the pipeline to the training set\n",
    "grid_bow.fit(X_train, y_train)\n",
    "\"\"\"\n"
   ]
  },
  {
   "cell_type": "code",
   "execution_count": null,
   "id": "0debd327",
   "metadata": {},
   "outputs": [],
   "source": [
    "\"\"\" \n",
    "# Best parameters & score\n",
    "print(\"Best CV F1:\",  grid_bow.best_score_)\n",
    "print(\"Best params:\", grid_bow.best_params_)\n",
    "\"\"\" "
   ]
  },
  {
   "cell_type": "code",
   "execution_count": null,
   "id": "4644bf4c",
   "metadata": {},
   "outputs": [],
   "source": [
    "best_params = {\n",
    "    \"vect__ngram_range\": (1,2),\n",
    "    \"vect__min_df\":      10,\n",
    "    \"vect__max_df\":      0.7,\n",
    "    \"clf__alpha\":          1.0,\n",
    "    \"clf__fit_prior\":      False\n",
    "}"
   ]
  },
  {
   "cell_type": "code",
   "execution_count": null,
   "id": "69a78cdd",
   "metadata": {},
   "outputs": [],
   "source": [
    "bow_pipeline.set_params(**best_params).fit(X_train, y_train)"
   ]
  },
  {
   "cell_type": "code",
   "execution_count": null,
   "id": "866b3524",
   "metadata": {},
   "outputs": [],
   "source": [
    "# Test‐set evaluation\n",
    "# best_bow = grid_bow.best_estimator_\n",
    "\n",
    "# Make predictions on the test set\n",
    "y_pred_bow = bow_pipeline.predict(X_test) # change to bow_pipeline.predict(X_test) if you want to use the best model from the grid search\n",
    "\n",
    "# Generate the classification report\n",
    "report_bow = classification_report(y_test, y_pred_bow, output_dict=True)\n",
    "\n",
    "print(classification_report(y_test, y_pred_bow))"
   ]
  },
  {
   "cell_type": "code",
   "execution_count": null,
   "id": "31455156",
   "metadata": {},
   "outputs": [],
   "source": [
    "append_results(results, report_bow, 'BoW + Naïve Bayes', EVALUATION_METRICS)"
   ]
  },
  {
   "cell_type": "markdown",
   "id": "3eaa679c",
   "metadata": {},
   "source": [
    "### 3.2 TF-IDF + Logistic Regression"
   ]
  },
  {
   "cell_type": "code",
   "execution_count": null,
   "id": "fd99c733",
   "metadata": {},
   "outputs": [],
   "source": [
    "pipeline_tfidf = Pipeline([\n",
    "    ('preprocessor', BOWTextPreprocessor()),\n",
    "    ('vectorizer', TfidfVectorizer()),\n",
    "    ('classifier', LogisticRegression(max_iter=1000))\n",
    "])"
   ]
  },
  {
   "cell_type": "code",
   "execution_count": null,
   "id": "8206ac3d",
   "metadata": {},
   "outputs": [],
   "source": [
    "param_grid = {\n",
    "    'vectorizer__ngram_range': [(1,1), (1,2)],\n",
    "    'vectorizer__max_features': [5000, 10000],\n",
    "    'vectorizer__max_df': [0.75, 0.9],\n",
    "    'classifier__C': [0.1, 1],\n",
    "    'classifier__penalty': ['l1', 'l2'],\n",
    "    'classifier__solver': ['liblinear']  # Needed to compare L1 and L2\n",
    "}\n",
    "\n",
    "grid_search = GridSearchCV(\n",
    "    pipeline_tfidf,\n",
    "    param_grid,\n",
    "    cv=3, \n",
    "    scoring='f1', \n",
    "    verbose=2, \n",
    "    n_jobs=1\n",
    ")"
   ]
  },
  {
   "cell_type": "code",
   "execution_count": null,
   "id": "54e5f044",
   "metadata": {},
   "outputs": [],
   "source": [
    "\"\"\" \n",
    "grid_search.fit(X_train, y_train)\n",
    "\"\"\" \n"
   ]
  },
  {
   "cell_type": "code",
   "execution_count": null,
   "id": "a636223a",
   "metadata": {},
   "outputs": [],
   "source": [
    "\"\"\" \n",
    "# Best parameters & score\n",
    "print(\"Best CV F1:\",  grid_search.best_score_)\n",
    "print(\"Best params:\", grid_search.best_params_)\n",
    "\"\"\" \n"
   ]
  },
  {
   "cell_type": "code",
   "execution_count": null,
   "id": "b942e19b",
   "metadata": {},
   "outputs": [],
   "source": [
    "best_params = {\n",
    "    \"vectorizer__max_df\"     : 0.75,\n",
    "    \"vectorizer__max_features\": 5_000,\n",
    "    \"vectorizer__ngram_range\": (1, 2),\n",
    "    \"classifier__C\"          : 1,\n",
    "    \"classifier__penalty\"    : \"l2\",\n",
    "    \"classifier__solver\"     : \"liblinear\",\n",
    "}"
   ]
  },
  {
   "cell_type": "code",
   "execution_count": null,
   "id": "980970db",
   "metadata": {},
   "outputs": [],
   "source": [
    "pipeline_tfidf.set_params(**best_params).fit(X_train, y_train)"
   ]
  },
  {
   "cell_type": "code",
   "execution_count": null,
   "id": "0377d4d4",
   "metadata": {},
   "outputs": [],
   "source": [
    "# Use best model to predict test set\n",
    "# best_model = grid_search.best_estimator_\n",
    "y_pred_tuned = pipeline_tfidf.predict(X_test) # change to pipeline_tfidf.predict(X_test) if you want to use the pipeline directly\n",
    "\n",
    "report_tuned = classification_report(y_test, y_pred_tuned, output_dict=True)\n",
    "\n",
    "append_results(results, report_tuned, 'Tuned TF-IDF + LogisticRegression', EVALUATION_METRICS)"
   ]
  },
  {
   "cell_type": "markdown",
   "id": "beb46646",
   "metadata": {},
   "source": [
    "### 3.3. BERT + Logistic Regression"
   ]
  },
  {
   "cell_type": "markdown",
   "id": "8bc28eb1",
   "metadata": {},
   "source": [
    "##### 3.3.1. Load device & model"
   ]
  },
  {
   "cell_type": "code",
   "execution_count": null,
   "id": "23987cca",
   "metadata": {},
   "outputs": [],
   "source": [
    "model_class, tokenizer_class, pretrained_weights = (ppb.BertModel, ppb.BertTokenizer, 'GroNLP/hateBERT')\n",
    "\n",
    "# Load pretrained model/tokenizer\n",
    "bert_tokenizer = tokenizer_class.from_pretrained(pretrained_weights)\n",
    "model = model_class.from_pretrained(pretrained_weights)"
   ]
  },
  {
   "cell_type": "code",
   "execution_count": null,
   "id": "732a511d",
   "metadata": {},
   "outputs": [],
   "source": [
    "device = torch.device(\"cuda\" if torch.cuda.is_available() else \"cpu\")\n",
    "model.to(device).eval()"
   ]
  },
  {
   "cell_type": "markdown",
   "id": "c357208b",
   "metadata": {},
   "source": [
    "##### 3.3.2. Train/test for BERT"
   ]
  },
  {
   "cell_type": "code",
   "execution_count": null,
   "id": "86c7a751",
   "metadata": {},
   "outputs": [],
   "source": [
    "bert_df = filtered_df.copy()\n",
    "\n",
    "X = bert_df['text']\n",
    "y = bert_df['is_hate_speech']\n",
    "\n",
    "X_train, X_test, y_train, y_test = train_test_split(X, y, test_size=TEST_RATIO, random_state=42)\n",
    "\n",
    "batch_size = 16\n",
    "num_batches = ceil(len(X_train) / batch_size)"
   ]
  },
  {
   "cell_type": "markdown",
   "id": "992fe3e6",
   "metadata": {},
   "source": [
    "##### 3.3.3. Added embeddings"
   ]
  },
  {
   "cell_type": "code",
   "execution_count": null,
   "id": "5382493c",
   "metadata": {},
   "outputs": [],
   "source": [
    "def embed(text_series):\n",
    "    feats = []\n",
    "    for ids, mask, _ in stream_batches(text_series, text_series, batch_size):\n",
    "        enc = {\"input_ids\": ids.to(device),\n",
    "               \"attention_mask\": mask.to(device)}\n",
    "        with torch.no_grad():\n",
    "            out = model(**enc)\n",
    "        feats.append(out.last_hidden_state[:,0,:].cpu().numpy())\n",
    "    return np.vstack(feats)"
   ]
  },
  {
   "cell_type": "code",
   "execution_count": null,
   "id": "3765ba8f",
   "metadata": {},
   "outputs": [],
   "source": [
    "X_tr_emb = embed(X_train)\n",
    "X_te_emb = embed(X_test)"
   ]
  },
  {
   "cell_type": "markdown",
   "id": "637ac116",
   "metadata": {},
   "source": [
    "##### 3.3.3. GridSearchCV"
   ]
  },
  {
   "cell_type": "code",
   "execution_count": null,
   "id": "d2e6e5a4",
   "metadata": {},
   "outputs": [],
   "source": [
    "# Set up GridSearchCV on the embeddings\n",
    "param_grid = [\n",
    "    # pure L2\n",
    "    {\"penalty\": [\"l2\"],\n",
    "     \"solver\":  [\"saga\"],\n",
    "     \"C\":       [0.001, 0.01, 0.1, 1, 10, 100],\n",
    "     \"max_iter\":[500, 1000, 2000]},\n",
    "\n",
    "    # pure L1\n",
    "    {\"penalty\": [\"l1\"],\n",
    "     \"solver\":  [\"saga\"],\n",
    "     \"C\":       [0.001, 0.01, 0.1, 1, 10, 100],\n",
    "     \"max_iter\":[500, 1000, 2000]},\n",
    "\n",
    "    # elastic-net (needs l1_ratio)\n",
    "    {\"penalty\":  [\"elasticnet\"],\n",
    "     \"solver\":   [\"saga\"],\n",
    "     \"C\":        [0.001, 0.01, 0.1, 1, 10, 100],\n",
    "     \"l1_ratio\": [0.2, 0.5, 0.8],\n",
    "     \"max_iter\": [500, 1000, 2000]},\n",
    "]\n",
    "\n",
    "\n",
    "grid_bert = GridSearchCV(\n",
    "    LogisticRegression(class_weight=\"balanced\"),\n",
    "    param_grid,\n",
    "    cv=3, \n",
    "    scoring='f1', \n",
    "    verbose=2, \n",
    "    n_jobs=1\n",
    ")"
   ]
  },
  {
   "cell_type": "code",
   "execution_count": null,
   "id": "1ba0575c",
   "metadata": {},
   "outputs": [],
   "source": [
    "\"\"\" \n",
    "# Fit on the train embeddings\n",
    "grid_bert.fit(X_tr_emb, y_train)\n",
    "\"\"\""
   ]
  },
  {
   "cell_type": "code",
   "execution_count": null,
   "id": "6790cf6f",
   "metadata": {},
   "outputs": [],
   "source": [
    "\"\"\" \n",
    "print(\"Best macro-F1:\", grid_bert.best_score_)\n",
    "print(\"Best params :\", grid_bert.best_params_)\n",
    "\"\"\" "
   ]
  },
  {
   "cell_type": "code",
   "execution_count": null,
   "id": "dbaf04fe",
   "metadata": {},
   "outputs": [],
   "source": [
    "bert_clf = LogisticRegression(\n",
    "    C        = 0.01,\n",
    "    penalty  = \"l2\",\n",
    "    solver   = \"saga\",\n",
    "    max_iter = 500,\n",
    "    class_weight = \"balanced\"   # keep if you used it during the search\n",
    ")"
   ]
  },
  {
   "cell_type": "code",
   "execution_count": null,
   "id": "2a1f50f8",
   "metadata": {},
   "outputs": [],
   "source": [
    "bert_clf.fit(X_tr_emb, y_train)"
   ]
  },
  {
   "cell_type": "markdown",
   "id": "0fb2e85a",
   "metadata": {},
   "source": [
    "##### 3.3.4. BERT evaluation"
   ]
  },
  {
   "cell_type": "code",
   "execution_count": null,
   "id": "4cbd9e8b",
   "metadata": {},
   "outputs": [],
   "source": [
    "# Final test report\n",
    "y_pred = bert_clf.predict(X_te_emb) # chnage to bert_clf.predict(X_te_emb) if you want to use the classifier directly\n",
    "\n",
    "print(classification_report(y_test, y_pred, digits=4))\n",
    "\n",
    "append_results(results, classification_report(y_test, y_pred, output_dict=True), \"HateBERT + LR (GridSearch)\", EVALUATION_METRICS)"
   ]
  },
  {
   "cell_type": "markdown",
   "id": "47370768",
   "metadata": {},
   "source": [
    "# 4. LLM"
   ]
  },
  {
   "cell_type": "code",
   "execution_count": 22,
   "id": "953be586",
   "metadata": {},
   "outputs": [
    {
     "data": {
      "application/vnd.microsoft.datawrangler.viewer.v0+json": {
       "columns": [
        {
         "name": "index",
         "rawType": "int64",
         "type": "integer"
        },
        {
         "name": "comment_id",
         "rawType": "int32",
         "type": "integer"
        },
        {
         "name": "text",
         "rawType": "object",
         "type": "string"
        },
        {
         "name": "is_hate_speech",
         "rawType": "int64",
         "type": "integer"
        }
       ],
       "ref": "4e2a4872-b85c-44e4-bc6d-957badae022b",
       "rows": [
        [
         "0",
         "19795",
         "their kids definitely will, all 6 of them. America will be mostly latino soon and im loving it. Here in central cali most of my white friends have latina girlfriends. Half of my mexican buddies have white girls. we are gonna be one big tex-mex mix in 30 years.",
         "0"
        ],
        [
         "1",
         "21673",
         "really gonna burn white british bitches if they breathe their toilet paper washed ass breath around bts",
         "1"
        ],
        [
         "2",
         "46607",
         "Pay the Descendants of Enslaved Africans what you owe America.",
         "0"
        ],
        [
         "3",
         "9207",
         "Just like Arius, Pelagius, Joseph Smith and all the other edgy radicals amirite?",
         "0"
        ],
        [
         "4",
         "26334",
         "@marry_blanche @AngeSodetuki 埋めるところまでがPvPです URL",
         "0"
        ],
        [
         "5",
         "7475",
         "Oh god not this fucking cancerous shitposting fake feminist again.",
         "1"
        ],
        [
         "6",
         "17150",
         "God isn't real and if he was he'd think you were a piece of shit too",
         "0"
        ],
        [
         "7",
         "12270",
         "The most obnoxious of the autistic mating rituals...",
         "1"
        ],
        [
         "8",
         "45053",
         "There*. Pick up a book you illiterate fat fuck and quit trying to start violence.",
         "0"
        ],
        [
         "9",
         "19256",
         "I'd pound that ass balls deep till I empty my load in you",
         "1"
        ],
        [
         "10",
         "46410",
         "Pootie Tang White Americans are the most stupid!!!..Fat, overweight pink neck pigs",
         "1"
        ],
        [
         "11",
         "29210",
         "That these arrogant, hate-filled, morally bankrupt lesbian \"women?\" act like girls soccer matters is delusional. They are a disgrace to the United States.",
         "1"
        ],
        [
         "12",
         "23660",
         "Fucked with all the wrong females my whole life",
         "0"
        ],
        [
         "13",
         "10715",
         "She violated the terms of her visa and should have been deported.",
         "0"
        ],
        [
         "14",
         "25822",
         "One time, my friend and I were in a monorail in Kuala Lumpur and this woman tapped us and pointed at this guy that was aggressively wanking behind my friend and spraying cum all over her back. 🤮🤮🤮🤢🤢 URL",
         "0"
        ],
        [
         "15",
         "13497",
         "If she breathes, she's a thot",
         "1"
        ],
        [
         "16",
         "30784",
         "Dear Jesus ,  We have a bunch of lunatics that worship some dog named Allah trying hijack America, democrats that steal from us & then lie about it , illegal aliens that rape & murder our citizens & frankly we could use a little help down here PLEASE ! #KAG URL",
         "1"
        ],
        [
         "17",
         "16455",
         "I'd like to shove a tampon in your cunt mouth lol",
         "1"
        ],
        [
         "18",
         "21470",
         "WATCH: A group of Israelis are coming together to try and force the government to stop arms deals to some of the world's most brutal regimes, and to come clean about its ties to murderous dictatorships. URL",
         "0"
        ],
        [
         "19",
         "34765",
         "@RayJPolitics @debrasmith48 Wow!! Ray J. You nailed it with this video!! Thank you for sharing this video. I really hope that people get what you just said. You are spot on. They are racists because they continue to vote for the same people that are black. They have done nothing for them. It's really sad!!",
         "0"
        ],
        [
         "20",
         "6737",
         "Gay trans dude but I would totes smash that gash. Her eyebrows alone make my depression lessen.",
         "0"
        ],
        [
         "21",
         "46860",
         "Send them to Mexico...wth is wrong with America?? They laugh at us, hate us, and come for our money and give us their crime and diseases.",
         "0"
        ],
        [
         "22",
         "4769",
         "Not that I am complainging but what's with some indian folks here who'd rather Pakistan win than England.",
         "0"
        ],
        [
         "23",
         "43295",
         "Liberals and their \"there is no evil\" retardation. Why would two Americans ride bikes though the middle east? They ended up butchered by a bunch of extreamist Muslims.",
         "0"
        ],
        [
         "24",
         "47942",
         "zionist using this wahhabi terrorist nation undeveloped animal  to destroying meddleast countries for israil",
         "1"
        ],
        [
         "25",
         "21998",
         "Oh. Well shit. I guess the past few years of you rambling off racial IQ statistics was all just a fever dr- Fuck off you bald dickhead looking jackfuck. You're a racist shitweasel and anyone with half a brain has seen it. URL",
         "1"
        ],
        [
         "26",
         "47517",
         "5 kids with 3 wives makes you a patriot now? And you all say gays have ruined the sanctity of marriage.",
         "0"
        ],
        [
         "27",
         "49371",
         "Ebola disappeared, WALL DISAPPEARED, AL-QAEDA VANISHES, ISIS?....NO ONE KNOWS. NORTH KOREA? Shhhhh...lets keep this public distracted, while we bomb ONLY MUSLIM COUNTRIES AND blame their government for it. *MURICA*",
         "0"
        ],
        [
         "28",
         "15337",
         "If all women are whores, how come these low effort chucklefucks STILL aren't getting laid? I mean if their shit opinion is true, shouldn't there be women all over the place who are willing to have sex with them? Why, it's almost like their opinion (such as it is) is actually a big pile of shit. Could it be, incels? Could it possibly be? Could you, in fact, just be talking a total load of bollocks to try and mask the fact that you're just bitter, deluded, little children? Do tell.",
         "1"
        ],
        [
         "29",
         "31705",
         "Pussy bitch.",
         "1"
        ],
        [
         "30",
         "24277",
         "too bad you stuck w a bitch 🙂 rubber dicks can't make babies",
         "1"
        ],
        [
         "31",
         "15521",
         "Your IQ is somewhere in the low 20s if you think this LGBT garbage is JUST about homosexuality.",
         "1"
        ],
        [
         "32",
         "33290",
         "9) The property that Jews have brought with them is gathered on the ground in one corner. URL",
         "1"
        ],
        [
         "33",
         "39450",
         "Nigga started crip walking on her ass tho 😭😭 URL",
         "1"
        ],
        [
         "34",
         "31491",
         "@SMTOWNGLOBAL dumb bitch",
         "1"
        ],
        [
         "35",
         "20060",
         "I love that you enjoy being trans.",
         "0"
        ],
        [
         "36",
         "10806",
         "No my friend, girl cock is our greatest weapon against them.",
         "0"
        ],
        [
         "37",
         "15594",
         "Same here. I used to be a Christian but after some homeless dude mutilated my balls and \"God\" didn't save me, I converted to atheism.",
         "0"
        ],
        [
         "38",
         "46512",
         "It shouldn't be money, it should be blood. Just like the slaughter of Christians going around the world for their disgusting ways. Whites need to pay by blood and slaughter of their wicked ways.",
         "1"
        ],
        [
         "39",
         "38578",
         "deepika padukone's face...is something else. no words to describe this beauty URL",
         "0"
        ],
        [
         "40",
         "31700",
         "This is for Kevin fe*ge you big fat white nasty smelling fat bitch why you took the mutants off the mufucking schedule with your trifling dirty musty racist ass you big fat bitch oompa loompa body ass bitch I'm coming outside and I'm beating the fuck out of y",
         "1"
        ],
        [
         "41",
         "4797",
         "I insert my powerful cock into your moms asshole for full penile penetration. Then I absolutely destroy your moms asshole, to the the point that her buttcheeks RIP apart into two separate pieces.",
         "1"
        ],
        [
         "42",
         "28132",
         "Niggas so miserable 😖 go take that dark cloud to therapy.",
         "0"
        ],
        [
         "43",
         "36829",
         "E URL URL URL Reminding, cautioning, and warning to the Muslims and the disbelievers who are turning away from the caller to the Greatest Bliss that is greater than the world and the hereafter URL",
         "0"
        ],
        [
         "44",
         "12048",
         "With pleasure, let's meet in particular place in Germany where they purged degenerates like you.",
         "1"
        ],
        [
         "45",
         "49620",
         "+Its RyBread Because they're a bunch of betas hoping to get laid by defending a cunt.",
         "1"
        ],
        [
         "46",
         "9050",
         "I agree with u/anmata41 It's mostly language barrier and culture. I can relate to asian Americans a lot more. Also, being adopted I really don't think an Asian born Asian will ever truly except me (hell, who says an Asian American one will 😓)",
         "0"
        ],
        [
         "47",
         "36562",
         "@ramprasad_c @kaypeekps75 Media slept for 70 yrs and refused to cover the truth on Pakistan and Separatists sponsored Terrorism in Kashmir..Politicians supported Radicals to run amuck and instill fear ..As Kashmiri Pandits thrown out..As DSP Ayyub and Jawans lynched and stoned..Schools burnt..Awam Cried.?",
         "0"
        ],
        [
         "48",
         "18585",
         "Let's just forget the two mass shootings within 24 hours both done by white supremacists that didn't have a voice or platform before the fat, useless, racist traitor in the Whitehouse gave them one.",
         "1"
        ],
        [
         "49",
         "11775",
         "Alroighty so fuck em all and call them all faggots, agreed.",
         "1"
        ]
       ],
       "shape": {
        "columns": 3,
        "rows": 20708
       }
      },
      "text/html": [
       "<div>\n",
       "<style scoped>\n",
       "    .dataframe tbody tr th:only-of-type {\n",
       "        vertical-align: middle;\n",
       "    }\n",
       "\n",
       "    .dataframe tbody tr th {\n",
       "        vertical-align: top;\n",
       "    }\n",
       "\n",
       "    .dataframe thead th {\n",
       "        text-align: right;\n",
       "    }\n",
       "</style>\n",
       "<table border=\"1\" class=\"dataframe\">\n",
       "  <thead>\n",
       "    <tr style=\"text-align: right;\">\n",
       "      <th></th>\n",
       "      <th>comment_id</th>\n",
       "      <th>text</th>\n",
       "      <th>is_hate_speech</th>\n",
       "    </tr>\n",
       "  </thead>\n",
       "  <tbody>\n",
       "    <tr>\n",
       "      <th>0</th>\n",
       "      <td>19795</td>\n",
       "      <td>their kids definitely will, all 6 of them. Ame...</td>\n",
       "      <td>0</td>\n",
       "    </tr>\n",
       "    <tr>\n",
       "      <th>1</th>\n",
       "      <td>21673</td>\n",
       "      <td>really gonna burn white british bitches if the...</td>\n",
       "      <td>1</td>\n",
       "    </tr>\n",
       "    <tr>\n",
       "      <th>2</th>\n",
       "      <td>46607</td>\n",
       "      <td>Pay the Descendants of Enslaved Africans what ...</td>\n",
       "      <td>0</td>\n",
       "    </tr>\n",
       "    <tr>\n",
       "      <th>3</th>\n",
       "      <td>9207</td>\n",
       "      <td>Just like Arius, Pelagius, Joseph Smith and al...</td>\n",
       "      <td>0</td>\n",
       "    </tr>\n",
       "    <tr>\n",
       "      <th>4</th>\n",
       "      <td>26334</td>\n",
       "      <td>@marry_blanche @AngeSodetuki 埋めるところまでがPvPです URL</td>\n",
       "      <td>0</td>\n",
       "    </tr>\n",
       "    <tr>\n",
       "      <th>...</th>\n",
       "      <td>...</td>\n",
       "      <td>...</td>\n",
       "      <td>...</td>\n",
       "    </tr>\n",
       "    <tr>\n",
       "      <th>20703</th>\n",
       "      <td>12928</td>\n",
       "      <td>Welcome!! Omnisexual is a less heard of sexual...</td>\n",
       "      <td>0</td>\n",
       "    </tr>\n",
       "    <tr>\n",
       "      <th>20704</th>\n",
       "      <td>11222</td>\n",
       "      <td>There's musical festival in Alberta Canada whe...</td>\n",
       "      <td>0</td>\n",
       "    </tr>\n",
       "    <tr>\n",
       "      <th>20705</th>\n",
       "      <td>25390</td>\n",
       "      <td>@DurhamBulls We already kno baseball is 4 ever...</td>\n",
       "      <td>1</td>\n",
       "    </tr>\n",
       "    <tr>\n",
       "      <th>20706</th>\n",
       "      <td>3799</td>\n",
       "      <td>Wow epik overuaed meme. What are you five and ...</td>\n",
       "      <td>1</td>\n",
       "    </tr>\n",
       "    <tr>\n",
       "      <th>20707</th>\n",
       "      <td>10655</td>\n",
       "      <td>I also don't care for calling a woman a b****....</td>\n",
       "      <td>0</td>\n",
       "    </tr>\n",
       "  </tbody>\n",
       "</table>\n",
       "<p>20708 rows × 3 columns</p>\n",
       "</div>"
      ],
      "text/plain": [
       "       comment_id                                               text  \\\n",
       "0           19795  their kids definitely will, all 6 of them. Ame...   \n",
       "1           21673  really gonna burn white british bitches if the...   \n",
       "2           46607  Pay the Descendants of Enslaved Africans what ...   \n",
       "3            9207  Just like Arius, Pelagius, Joseph Smith and al...   \n",
       "4           26334    @marry_blanche @AngeSodetuki 埋めるところまでがPvPです URL   \n",
       "...           ...                                                ...   \n",
       "20703       12928  Welcome!! Omnisexual is a less heard of sexual...   \n",
       "20704       11222  There's musical festival in Alberta Canada whe...   \n",
       "20705       25390  @DurhamBulls We already kno baseball is 4 ever...   \n",
       "20706        3799  Wow epik overuaed meme. What are you five and ...   \n",
       "20707       10655  I also don't care for calling a woman a b****....   \n",
       "\n",
       "       is_hate_speech  \n",
       "0                   0  \n",
       "1                   1  \n",
       "2                   0  \n",
       "3                   0  \n",
       "4                   0  \n",
       "...               ...  \n",
       "20703               0  \n",
       "20704               0  \n",
       "20705               1  \n",
       "20706               1  \n",
       "20707               0  \n",
       "\n",
       "[20708 rows x 3 columns]"
      ]
     },
     "execution_count": 22,
     "metadata": {},
     "output_type": "execute_result"
    }
   ],
   "source": [
    "llm_df = filtered_df[['comment_id', 'text', 'is_hate_speech']].copy()\n",
    "\n",
    "llm_df"
   ]
  },
  {
   "cell_type": "code",
   "execution_count": 23,
   "id": "a1402973",
   "metadata": {},
   "outputs": [],
   "source": [
    "train_df, test_df = train_test_split(llm_df, test_size=0.2, random_state=42, stratify=llm_df.is_hate_speech)"
   ]
  },
  {
   "cell_type": "markdown",
   "id": "38296a7f",
   "metadata": {},
   "source": [
    "## 4.1  Setting up the prompts"
   ]
  },
  {
   "cell_type": "markdown",
   "id": "48c048c3",
   "metadata": {},
   "source": [
    "### 4.1.1 Simple zero shopt prompting"
   ]
  },
  {
   "cell_type": "code",
   "execution_count": 24,
   "id": "8b23c5a5",
   "metadata": {},
   "outputs": [],
   "source": [
    "zero_shot_template = (\n",
    "    \"Decide whether the following text is hate speech. \"\n",
    "    \"Respond only with “yes” or “no”.\\n\\n\"\n",
    "    \"Text: \\\"{text}\\\"\\n\"\n",
    ")"
   ]
  },
  {
   "cell_type": "markdown",
   "id": "7f28058a",
   "metadata": {},
   "source": [
    "### 4.1.2 Few Shot"
   ]
  },
  {
   "cell_type": "code",
   "execution_count": 25,
   "id": "47c22b5d",
   "metadata": {},
   "outputs": [],
   "source": [
    "few_shot_examples = [\n",
    "    (\"This is how you fuck a sissy bimbo slut. Hard and rough 💋\", \"yes\"), # Just above the threshold\n",
    "    (\"I hate you little ass fuckboys. Y'all need a real father figure in your lives to beat your faggot asses when y'all do dumb disrespectful shit for clout. God damn I wish there was a whole genocide of you fuckboys.\", \"yes\"), # A LOT above the threshold\n",
    "    (\"Fuck this bitch she deserves the death sentence\", \"yes\"), # In between the threshold and 1\n",
    "    (\"You would fuck a tranny?\", \"no\"), # Just below the threshold\n",
    "    (\"Send in the national guard and deport them all\", \"no\"), # A little more below the threshold (.55)\n",
    "    (\"God is awesome! The Holy spirit will tell you to move and you must move!!!\", \"no\") # Far below the treshold (.32)\n",
    "]\n",
    "\n",
    "few_shot_template = \"Decide whether each of the following texts is hate speech (yes/no).\\n\\n\"\n",
    "for txt, label in few_shot_examples:\n",
    "    few_shot_template += f\"Text: \\\"{txt}\\\"\\nLabel: {label}\\n\\n\"\n",
    "few_shot_template += \"Text: \\\"{text}\\\"\\nLabel:\""
   ]
  },
  {
   "cell_type": "markdown",
   "id": "dd2f278f",
   "metadata": {},
   "source": [
    "### 4.1.3 Chain of Thought"
   ]
  },
  {
   "cell_type": "code",
   "execution_count": 26,
   "id": "b4d620f6",
   "metadata": {},
   "outputs": [],
   "source": [
    "cot_1_template = (\n",
    "    \"You are a hate speech detection expert. For each message, follow the structured reasoning process below to determine whether it constitutes hate speech. \"\n",
    "    \"At the end, provide your decision as \\\"yes\\\" if the message is hate speech or \\\"no\\\" if it is not.\\n\\n\"\n",
    "    \"Step-by-step reasoning:\\n\"\n",
    "    \"1. Check for identity group targeting\\n\"\n",
    "    \"   • Does the message reference a protected identity group (e.g., race, religion, gender, nationality, sexual orientation, disability)?\\n\"\n",
    "    \"   • Is the comment directed at that group or an individual as a member of such a group?\\n\"\n",
    "    \"2. Evaluate harmful content components:\\n\"\n",
    "    \"   Assess whether the message contains any of the following (in increasing severity):\\n\"\n",
    "    \"   • Bias (e.g., prejudice, stereotypes)\\n\"\n",
    "    \"   • Hostility (e.g., slurs, insults, profanity)\\n\"\n",
    "    \"   • Dehumanization (e.g., comparing people to animals, diseases)\\n\"\n",
    "    \"   • Threats of violence or emotional abuse\\n\"\n",
    "    \"   • Support for genocide or extermination\\n\"\n",
    "    \"3. Consider positive or neutral alternatives:\\n\"\n",
    "    \"   • Is the message neutral or descriptive without showing prejudice or hostility?\\n\"\n",
    "    \"   • Is it supportive or expressing solidarity with an identity group?\\n\"\n",
    "    \"   • Does it counter existing hate speech in a respectful and reasoned way?\\n\"\n",
    "    \"4. Disambiguate sarcasm or coded language:\\n\"\n",
    "    \"   • If language is ambiguous, check for slurs (even covert or coded ones).\\n\"\n",
    "    \"   • Determine whether the tone masks underlying hostility.\\n\"\n",
    "    \"5. Make a decision:\\n\"\n",
    "    \"   • If the message expresses bias, hostility, dehumanization, violence, or genocide, label as \\\"yes\\\" (hate speech).\\n\"\n",
    "    \"   • If the message is neutral, supportive, or counters hate, label as \\\"no\\\" (not hate speech).\\n\\n\"\n",
    "    \"Text: \\\"{text}\\\"\\n\\n\"\n",
    ")"
   ]
  },
  {
   "cell_type": "code",
   "execution_count": 27,
   "id": "b7cbf957",
   "metadata": {},
   "outputs": [],
   "source": [
    "cot_2_template = (\n",
    "    \"You are an expert annotator trained on nuanced hate speech labels. For each message, reason carefully before deciding if it is hate speech. \"\n",
    "    \"Use the following steps to guide your judgment. At the end, output a single word: \\\"yes\\\" if the message is hate speech, \\\"no\\\" if it is not.\\n\\n\"\n",
    "    \"1. Identity reference\\n\"\n",
    "    \"Does the message mention a protected identity group (race, religion, gender, sexual orientation, nationality, disability)?\\n\"\n",
    "    \"If yes, continue. If no, likely not hate speech unless violence is generalized.\\n\\n\"\n",
    "    \"2. Generalized hostility or ideological hate\\n\"\n",
    "    \"Does the message express hate, blame, or violent wishes against an entire identity group?\\n\"\n",
    "    \"Does it dehumanize, wish suffering, or accuse them collectively of wrongdoing?\\n\"\n",
    "    \"→ This is stronger evidence of hate speech.\\n\\n\"\n",
    "    \"3. Personal insults or interpersonal aggression\\n\"\n",
    "    \"Is the message aimed at a specific person (e.g., \\\"bitch\\\", \\\"dumbass\\\") but not making generalized claims about their group?\\n\"\n",
    "    \"Does it use common online slang, bravado, or insult without ideology or group targeting?\\n\"\n",
    "    \"→ This is not usually hate speech. May be offensive, but not hateful by intent.\\n\\n\"\n",
    "    \"4. Violent language\\n\"\n",
    "    \"Does it involve actual or implied threats against a person or group? Is the threat based on identity (e.g., religion, sexual orientation)?\\n\"\n",
    "    \"→ Threats tied to identity increase severity.\\n\\n\"\n",
    "    \"5. Slang, coded language, or satire\\n\"\n",
    "    \"Does it use community-specific slang or cultural expressions? Could it be sarcastic, ironic, or hyperbolic?\\n\"\n",
    "    \"→ Be cautious. Don’t interpret slang or exaggeration literally unless hate is clear.\\n\\n\"\n",
    "    \"6. Final judgment\\n\"\n",
    "    \"If the message attacks or threatens an identity group, or promotes violence or dehumanization against them → yes.\\n\"\n",
    "    \"If the message contains personal insults, edgy language, or group-neutral ranting, → no.\\n\\n\"\n",
    "    \"Text: \\\"{text}\\\"\\n\\n\"\n",
    ")"
   ]
  },
  {
   "cell_type": "code",
   "execution_count": 28,
   "id": "e70599c5",
   "metadata": {},
   "outputs": [],
   "source": [
    "cot_3_template = (\n",
    "    \"You are an expert annotator trained on nuanced hate speech labels. \"\n",
    "    \"For each message, show your full chain of thought, step by step, following the rubric below. \"\n",
    "    \"After you’ve written your reasoning, end with exactly one line:\\n\"\n",
    "    \"\\\"Final answer: yes\\\" or \\\"Final answer: no\\\"\\n\\n\"\n",
    "    \"1. Identity reference\\n\"\n",
    "    \"Does the message mention a protected identity group (race, religion, gender, sexual orientation, nationality, disability)?\\n\"\n",
    "    \"\\t• If yes → continue\\n\"\n",
    "    \"\\t• If no → likely not hate speech unless it expresses generalized violence\\n\\n\"\n",
    "    \"2. Generalized hostility or ideological hate\\n\"\n",
    "    \"Does the message express hate, blame, or violent wishes against an entire identity group?\\n\"\n",
    "    \"Does it dehumanize, wish suffering, or accuse them collectively of wrongdoing?\\n\"\n",
    "    \"→ Strong evidence of hate speech\\n\\n\"\n",
    "    \"3. Personal insults or interpersonal aggression\\n\"\n",
    "    \"Is the message aimed at a specific person (e.g., “bitch”, “dumbass”) but not making generalized claims about their group?\\n\"\n",
    "    \"Does it use common online slang or bravado without ideology or group targeting?\\n\"\n",
    "    \"→ Offensive, but not hate speech by intent\\n\\n\"\n",
    "    \"4. Violent language\\n\"\n",
    "    \"Does it involve actual or implied threats against a person or group?\\n\"\n",
    "    \"Is the threat based on identity (e.g., religion, sexual orientation)?\\n\"\n",
    "    \"→ Threats tied to identity increase severity\\n\\n\"\n",
    "    \"5. Slang, coded language, or satire\\n\"\n",
    "    \"Does it use community-specific slang or cultural expressions?\\n\"\n",
    "    \"Could it be sarcastic, ironic, or hyperbolic?\\n\"\n",
    "    \"→ Be cautious. Don’t treat slang or exaggeration as hate unless the hostility is clear\\n\\n\"\n",
    "    \"6. Final judgment\\n\"\n",
    "    \"• If the message attacks or threatens an identity group, or promotes violence or dehumanization against them → yes\\n\"\n",
    "    \"• If the message contains only personal insults, edgy language, or group-neutral ranting → no\\n\\n\"\n",
    "    \"Text: \\\"{text}\\\"\\n\"\n",
    ")"
   ]
  },
  {
   "cell_type": "markdown",
   "id": "269165d7",
   "metadata": {},
   "source": [
    "## 4.2 Model setup"
   ]
  },
  {
   "cell_type": "markdown",
   "id": "8860ff4b",
   "metadata": {},
   "source": [
    "### 4.2.1 OpenAI - gpt-4.1-nano\n",
    "\n",
    "Link to docs: https://platform.openai.com/docs/overview\n",
    "\n",
    "Link to usage tracking: https://platform.openai.com/settings/organization/usage"
   ]
  },
  {
   "cell_type": "code",
   "execution_count": 29,
   "id": "e634310d",
   "metadata": {},
   "outputs": [],
   "source": [
    "from openai import OpenAI\n",
    "from dotenv import load_dotenv\n",
    "import os\n",
    "\n",
    "# Load environment variables from the .env file\n",
    "load_dotenv()\n",
    "\n",
    "# Retrieve the API key from the .env file\n",
    "api_key = os.getenv(\"OPENAI_API_KEY\")\n",
    "\n",
    "# Initialize the OpenAI client with the API key\n",
    "openai_client = OpenAI(api_key=api_key)\n",
    "\n",
    "def _classify_openai(prompt: str) -> str:\n",
    "    resp = openai_client.chat.completions.create(\n",
    "        model=\"gpt-4.1-nano-2025-04-14\",\n",
    "        messages=[{\"role\": \"user\", \"content\": prompt}],\n",
    "        temperature=0.3\n",
    "    )\n",
    "    return resp.choices[0].message.content.strip().lower()"
   ]
  },
  {
   "cell_type": "markdown",
   "id": "78a269f0",
   "metadata": {},
   "source": [
    "### 4.2.2 DeepSeek - R1 Distill Qwen 1.5B\n",
    "\n",
    "Using the small distilled version as it can run on CPU\n",
    "\n",
    "Link to HF 🤗: https://huggingface.co/deepseek-ai/DeepSeek-R1-Distill-Qwen-1.5B"
   ]
  },
  {
   "cell_type": "code",
   "execution_count": 30,
   "id": "8f5ac3eb",
   "metadata": {},
   "outputs": [
    {
     "data": {
      "text/plain": [
       "' # — DeepSeek-R1 (Hugging Face) setup —\\nfrom transformers import AutoTokenizer, AutoModelForCausalLM\\n\\ntokenizer_ds = AutoTokenizer.from_pretrained(\\n    \"deepseek-ai/DeepSeek-R1-Distill-Qwen-1.5B\",\\n    trust_remote_code=True\\n)\\nmodel_ds = AutoModelForCausalLM.from_pretrained(\\n    \"deepseek-ai/DeepSeek-R1-Distill-Qwen-1.5B\",\\n    trust_remote_code=True,\\n    device_map=\"cpu\"\\n)\\n\\ndef _classify_deepseek(prompt: str) -> str:\\n    inputs  = tokenizer_ds(prompt, return_tensors=\"pt\").to(model_ds.device)\\n    outputs = model_ds.generate(\\n        **inputs,\\n        max_new_tokens=60,\\n        do_sample=False,\\n        pad_token_id=tokenizer_ds.eos_token_id,\\n    )\\n    gen     = tokenizer_ds.decode(\\n        outputs[0][ inputs.input_ids.shape[-1] : ],\\n        skip_special_tokens=True\\n    )\\n    return gen.strip().lower() '"
      ]
     },
     "execution_count": 30,
     "metadata": {},
     "output_type": "execute_result"
    }
   ],
   "source": [
    "\"\"\" # — DeepSeek-R1 (Hugging Face) setup —\n",
    "from transformers import AutoTokenizer, AutoModelForCausalLM\n",
    "\n",
    "tokenizer_ds = AutoTokenizer.from_pretrained(\n",
    "    \"deepseek-ai/DeepSeek-R1-Distill-Qwen-1.5B\",\n",
    "    trust_remote_code=True\n",
    ")\n",
    "model_ds = AutoModelForCausalLM.from_pretrained(\n",
    "    \"deepseek-ai/DeepSeek-R1-Distill-Qwen-1.5B\",\n",
    "    trust_remote_code=True,\n",
    "    device_map=\"cpu\"\n",
    ")\n",
    "\n",
    "def _classify_deepseek(prompt: str) -> str:\n",
    "    inputs  = tokenizer_ds(prompt, return_tensors=\"pt\").to(model_ds.device)\n",
    "    outputs = model_ds.generate(\n",
    "        **inputs,\n",
    "        max_new_tokens=60,\n",
    "        do_sample=False,\n",
    "        pad_token_id=tokenizer_ds.eos_token_id,\n",
    "    )\n",
    "    gen     = tokenizer_ds.decode(\n",
    "        outputs[0][ inputs.input_ids.shape[-1] : ],\n",
    "        skip_special_tokens=True\n",
    "    )\n",
    "    return gen.strip().lower() \"\"\""
   ]
  },
  {
   "cell_type": "markdown",
   "id": "6c8d9b8f",
   "metadata": {},
   "source": [
    "### 4.2.3 xAI - Grok 3 mini\n",
    "\n",
    "Link to docs: https://docs.x.ai/docs/tutorial (note this is similar if not the same as for OpenAI's models)\n",
    "\n",
    "Link to usage tracking: https://console.x.ai/team/c571d3a4-3c67-47c9-bc1d-9b90fbeb19a5/usage"
   ]
  },
  {
   "cell_type": "code",
   "execution_count": 31,
   "id": "4d9788c4",
   "metadata": {},
   "outputs": [],
   "source": [
    "load_dotenv()\n",
    "\n",
    "grok_client = OpenAI(\n",
    "  api_key = os.getenv(\"GROK_API_KEY\"),\n",
    "  base_url=\"https://api.x.ai/v1\",\n",
    ")\n",
    "\n",
    "def _classify_grok(prompt: str) -> str:\n",
    "    resp = grok_client.chat.completions.create(\n",
    "        model=\"grok-3-mini\",\n",
    "        messages=[\n",
    "            {\"role\": \"user\", \"content\": prompt}\n",
    "        ],\n",
    "        temperature=0.3\n",
    "    )\n",
    "    return resp.choices[0].message.content.strip().lower()"
   ]
  },
  {
   "cell_type": "markdown",
   "id": "ebabe4a2",
   "metadata": {},
   "source": [
    "## 4.3 Choose the model you want to continue with\n",
    "\n",
    "🚨 **Do so by changing the LLM_BACKEND variable underneath** 🚨"
   ]
  },
  {
   "cell_type": "code",
   "execution_count": 32,
   "id": "61b685cd",
   "metadata": {},
   "outputs": [],
   "source": [
    "LLM_BACKEND = \"grok\"   # or \"deepseek\" or \"grok\"\n",
    "\n",
    "def classify_with_llm(prompt: str) -> str:\n",
    "    if LLM_BACKEND == \"openai\":\n",
    "        return _classify_openai(prompt)\n",
    "    elif LLM_BACKEND == \"deepseek\":\n",
    "        return _classify_deepseek(prompt)\n",
    "    elif LLM_BACKEND == \"grok\":\n",
    "        return _classify_grok(prompt)\n",
    "    else:\n",
    "        raise ValueError(f\"Unknown LLM backend: {LLM_BACKEND}\")"
   ]
  },
  {
   "cell_type": "markdown",
   "id": "aeafedef",
   "metadata": {},
   "source": [
    "## 4.4 Individual testing"
   ]
  },
  {
   "cell_type": "code",
   "execution_count": 33,
   "id": "2334c71a",
   "metadata": {},
   "outputs": [],
   "source": [
    "def classify_comment(text: str, method: str = \"zero\") -> str:\n",
    "    \"\"\"\n",
    "    Classify a single comment as hate speech (“yes”/“no”) using one of:\n",
    "      – “zero” : zero-shot prompting\n",
    "      – “few”    : few-shot prompting\n",
    "      – “cot”    : chain-of-thought prompting\n",
    "    \"\"\"\n",
    "    if method == \"zero\":\n",
    "        template = zero_shot_template\n",
    "    elif method == \"few\":\n",
    "        template = few_shot_template\n",
    "    elif method == \"cot\":\n",
    "        template = cot_3_template\n",
    "    else:\n",
    "        raise ValueError(f\"Unknown method: {method}\")\n",
    "\n",
    "    prompt = template.format(text=text)\n",
    "    out    = classify_with_llm(prompt)\n",
    "    return \"yes\" if \"yes\" in out else \"no\"\n",
    "\n",
    "def test_comment():\n",
    "    \"\"\"\n",
    "    Prompt the user for a comment, echo it, and show all three classifications.\n",
    "    \"\"\"\n",
    "    comment = input(\"Enter a comment to classify: \")\n",
    "    print(f\"\\nComment to classify: \\\"{comment}\\\"\\n\")\n",
    "\n",
    "    for method, label in [\n",
    "        (\"zero\", \"Zero-shot prompting\"),\n",
    "        (\"few\",    \"Few-shot prompting\"),\n",
    "        (\"cot\",    \"Chain-of-Thought prompting\")\n",
    "    ]:\n",
    "        pred = classify_comment(comment, method=method)\n",
    "        print(f\"{label:25}: {pred}\")\n",
    "\n",
    "import time\n",
    "\n",
    "def test_comment_timed():\n",
    "    \"\"\"\n",
    "    Prompt the user for a comment, echo it, then for each method:\n",
    "    – time how long classify_comment takes\n",
    "    – print both the prediction and the time elapsed\n",
    "    \"\"\"\n",
    "    comment = input(\"Enter a comment to classify: \")\n",
    "    print(f\"\\nComment to classify: \\\"{comment}\\\"\\n\")\n",
    "\n",
    "    for method, label in [\n",
    "        (\"zero\", \"Zero-shot prompting\"),\n",
    "        (\"few\",    \"Few-shot prompting\"),\n",
    "        (\"cot\",    \"Chain-of-Thought prompting\")\n",
    "    ]:\n",
    "        start = time.perf_counter()\n",
    "        pred  = classify_comment(comment, method=method)\n",
    "        end   = time.perf_counter()\n",
    "        elapsed = end - start\n",
    "        print(f\"{label:25}: {pred:<3}  (took {elapsed:.2f} s)\")"
   ]
  },
  {
   "cell_type": "markdown",
   "id": "e6631fc6",
   "metadata": {},
   "source": [
    "**Uncomment the following block to try to run a custom comment through the 3 prompts**"
   ]
  },
  {
   "cell_type": "code",
   "execution_count": 34,
   "id": "c6689b4a",
   "metadata": {},
   "outputs": [],
   "source": [
    "# test_comment_timed()"
   ]
  },
  {
   "cell_type": "markdown",
   "id": "2893e92e",
   "metadata": {},
   "source": [
    "## 4.5 Run classification on larger datasets"
   ]
  },
  {
   "cell_type": "code",
   "execution_count": null,
   "id": "bbbd00df",
   "metadata": {},
   "outputs": [],
   "source": [
    "# Number of samples per class\n",
    "n_per_class = 500\n",
    "\n",
    "# Subset the data for each class\n",
    "class_0_subset = test_df[test_df['is_hate_speech'] == 0].sample(n=n_per_class, random_state=42)\n",
    "class_1_subset = test_df[test_df['is_hate_speech'] == 1].sample(n=n_per_class, random_state=42)\n",
    "\n",
    "# Combine the subsets and shuffle\n",
    "balanced_subset = pd.concat([class_0_subset, class_1_subset]).sample(frac=1, random_state=42).reset_index(drop=True)"
   ]
  },
  {
   "cell_type": "code",
   "execution_count": null,
   "id": "a7087b28",
   "metadata": {},
   "outputs": [],
   "source": [
    "def run_classification(df, template_fn, classify_fn):\n",
    "    preds = []\n",
    "    for _, row in tqdm(df.iterrows(), total=len(df)):\n",
    "        prompt = template_fn.format(text=row.text)\n",
    "        out    = classify_fn(prompt)\n",
    "        preds.append(\"yes\" if \"yes\" in out else \"no\")\n",
    "    return np.array(preds)\n",
    "\n",
    "# 1. Prepare a fresh llm_results list\n",
    "llm_results = []\n",
    "\n",
    "# 2. Pull the true labels from your real column\n",
    "y_true = balanced_subset['is_hate_speech'].values\n",
    "\n",
    "# 3. A tiny helper to turn your “yes”/“no” preds into 1/0\n",
    "def to_numeric(preds):\n",
    "    return np.array([1 if p == 'yes' else 0 for p in preds])\n"
   ]
  },
  {
   "cell_type": "code",
   "execution_count": null,
   "id": "b1b5a1d6",
   "metadata": {},
   "outputs": [
    {
     "name": "stderr",
     "output_type": "stream",
     "text": [
      "100%|██████████| 10/10 [00:47<00:00,  4.70s/it]\n"
     ]
    },
    {
     "data": {
      "application/vnd.microsoft.datawrangler.viewer.v0+json": {
       "columns": [
        {
         "name": "index",
         "rawType": "int64",
         "type": "integer"
        },
        {
         "name": "model",
         "rawType": "object",
         "type": "string"
        },
        {
         "name": "precision_hate",
         "rawType": "float64",
         "type": "float"
        },
        {
         "name": "precision_non_hate",
         "rawType": "float64",
         "type": "float"
        },
        {
         "name": "precision_macro_avg",
         "rawType": "float64",
         "type": "float"
        },
        {
         "name": "precision_weighted_avg",
         "rawType": "float64",
         "type": "float"
        },
        {
         "name": "recall_hate",
         "rawType": "float64",
         "type": "float"
        },
        {
         "name": "recall_non_hate",
         "rawType": "float64",
         "type": "float"
        },
        {
         "name": "recall_macro_avg",
         "rawType": "float64",
         "type": "float"
        },
        {
         "name": "recall_weighted_avg",
         "rawType": "float64",
         "type": "float"
        },
        {
         "name": "f1-score_hate",
         "rawType": "float64",
         "type": "float"
        },
        {
         "name": "f1-score_non_hate",
         "rawType": "float64",
         "type": "float"
        },
        {
         "name": "f1-score_macro_avg",
         "rawType": "float64",
         "type": "float"
        },
        {
         "name": "f1-score_weighted_avg",
         "rawType": "float64",
         "type": "float"
        },
        {
         "name": "accuracy",
         "rawType": "float64",
         "type": "float"
        }
       ],
       "ref": "c58b9482-b9e0-4c40-850e-4eaaaf1319e1",
       "rows": [
        [
         "0",
         "LLM zero-shot prompt",
         "1.0",
         "1.0",
         "1.0",
         "1.0",
         "1.0",
         "1.0",
         "1.0",
         "1.0",
         "1.0",
         "1.0",
         "1.0",
         "1.0",
         "1.0"
        ]
       ],
       "shape": {
        "columns": 14,
        "rows": 1
       }
      },
      "text/html": [
       "<div>\n",
       "<style scoped>\n",
       "    .dataframe tbody tr th:only-of-type {\n",
       "        vertical-align: middle;\n",
       "    }\n",
       "\n",
       "    .dataframe tbody tr th {\n",
       "        vertical-align: top;\n",
       "    }\n",
       "\n",
       "    .dataframe thead th {\n",
       "        text-align: right;\n",
       "    }\n",
       "</style>\n",
       "<table border=\"1\" class=\"dataframe\">\n",
       "  <thead>\n",
       "    <tr style=\"text-align: right;\">\n",
       "      <th></th>\n",
       "      <th>model</th>\n",
       "      <th>precision_hate</th>\n",
       "      <th>precision_non_hate</th>\n",
       "      <th>precision_macro_avg</th>\n",
       "      <th>precision_weighted_avg</th>\n",
       "      <th>recall_hate</th>\n",
       "      <th>recall_non_hate</th>\n",
       "      <th>recall_macro_avg</th>\n",
       "      <th>recall_weighted_avg</th>\n",
       "      <th>f1-score_hate</th>\n",
       "      <th>f1-score_non_hate</th>\n",
       "      <th>f1-score_macro_avg</th>\n",
       "      <th>f1-score_weighted_avg</th>\n",
       "      <th>accuracy</th>\n",
       "    </tr>\n",
       "  </thead>\n",
       "  <tbody>\n",
       "    <tr>\n",
       "      <th>0</th>\n",
       "      <td>LLM zero-shot prompt</td>\n",
       "      <td>1.0</td>\n",
       "      <td>1.0</td>\n",
       "      <td>1.0</td>\n",
       "      <td>1.0</td>\n",
       "      <td>1.0</td>\n",
       "      <td>1.0</td>\n",
       "      <td>1.0</td>\n",
       "      <td>1.0</td>\n",
       "      <td>1.0</td>\n",
       "      <td>1.0</td>\n",
       "      <td>1.0</td>\n",
       "      <td>1.0</td>\n",
       "      <td>1.0</td>\n",
       "    </tr>\n",
       "  </tbody>\n",
       "</table>\n",
       "</div>"
      ],
      "text/plain": [
       "                  model  precision_hate  precision_non_hate  \\\n",
       "0  LLM zero-shot prompt             1.0                 1.0   \n",
       "\n",
       "   precision_macro_avg  precision_weighted_avg  recall_hate  recall_non_hate  \\\n",
       "0                  1.0                     1.0          1.0              1.0   \n",
       "\n",
       "   recall_macro_avg  recall_weighted_avg  f1-score_hate  f1-score_non_hate  \\\n",
       "0               1.0                  1.0            1.0                1.0   \n",
       "\n",
       "   f1-score_macro_avg  f1-score_weighted_avg  accuracy  \n",
       "0                 1.0                    1.0       1.0  "
      ]
     },
     "execution_count": 46,
     "metadata": {},
     "output_type": "execute_result"
    }
   ],
   "source": [
    "simple_preds   = run_classification(balanced_subset, zero_shot_template, classify_with_llm)\n",
    "\n",
    "# Dirty way to get intermediate results\n",
    "y_simple = to_numeric(simple_preds)\n",
    "report_simple = classification_report(y_true, y_simple, output_dict=True)\n",
    "append_results(llm_results, report_simple, 'LLM zero-shot prompt', EVALUATION_METRICS)\n",
    "llm_results_df = pd.DataFrame(llm_results)\n",
    "llm_results_df"
   ]
  },
  {
   "cell_type": "code",
   "execution_count": null,
   "id": "0d33a12b",
   "metadata": {},
   "outputs": [
    {
     "name": "stderr",
     "output_type": "stream",
     "text": [
      "100%|██████████| 10/10 [01:16<00:00,  7.60s/it]\n"
     ]
    },
    {
     "data": {
      "application/vnd.microsoft.datawrangler.viewer.v0+json": {
       "columns": [
        {
         "name": "index",
         "rawType": "int64",
         "type": "integer"
        },
        {
         "name": "model",
         "rawType": "object",
         "type": "string"
        },
        {
         "name": "precision_hate",
         "rawType": "float64",
         "type": "float"
        },
        {
         "name": "precision_non_hate",
         "rawType": "float64",
         "type": "float"
        },
        {
         "name": "precision_macro_avg",
         "rawType": "float64",
         "type": "float"
        },
        {
         "name": "precision_weighted_avg",
         "rawType": "float64",
         "type": "float"
        },
        {
         "name": "recall_hate",
         "rawType": "float64",
         "type": "float"
        },
        {
         "name": "recall_non_hate",
         "rawType": "float64",
         "type": "float"
        },
        {
         "name": "recall_macro_avg",
         "rawType": "float64",
         "type": "float"
        },
        {
         "name": "recall_weighted_avg",
         "rawType": "float64",
         "type": "float"
        },
        {
         "name": "f1-score_hate",
         "rawType": "float64",
         "type": "float"
        },
        {
         "name": "f1-score_non_hate",
         "rawType": "float64",
         "type": "float"
        },
        {
         "name": "f1-score_macro_avg",
         "rawType": "float64",
         "type": "float"
        },
        {
         "name": "f1-score_weighted_avg",
         "rawType": "float64",
         "type": "float"
        },
        {
         "name": "accuracy",
         "rawType": "float64",
         "type": "float"
        }
       ],
       "ref": "f1aa2a83-00e8-41d7-9699-f4c6e81f2864",
       "rows": [
        [
         "0",
         "LLM zero-shot prompt",
         "1.0",
         "1.0",
         "1.0",
         "1.0",
         "1.0",
         "1.0",
         "1.0",
         "1.0",
         "1.0",
         "1.0",
         "1.0",
         "1.0",
         "1.0"
        ],
        [
         "1",
         "LLM few-shot prompt",
         "1.0",
         "1.0",
         "1.0",
         "1.0",
         "1.0",
         "1.0",
         "1.0",
         "1.0",
         "1.0",
         "1.0",
         "1.0",
         "1.0",
         "1.0"
        ]
       ],
       "shape": {
        "columns": 14,
        "rows": 2
       }
      },
      "text/html": [
       "<div>\n",
       "<style scoped>\n",
       "    .dataframe tbody tr th:only-of-type {\n",
       "        vertical-align: middle;\n",
       "    }\n",
       "\n",
       "    .dataframe tbody tr th {\n",
       "        vertical-align: top;\n",
       "    }\n",
       "\n",
       "    .dataframe thead th {\n",
       "        text-align: right;\n",
       "    }\n",
       "</style>\n",
       "<table border=\"1\" class=\"dataframe\">\n",
       "  <thead>\n",
       "    <tr style=\"text-align: right;\">\n",
       "      <th></th>\n",
       "      <th>model</th>\n",
       "      <th>precision_hate</th>\n",
       "      <th>precision_non_hate</th>\n",
       "      <th>precision_macro_avg</th>\n",
       "      <th>precision_weighted_avg</th>\n",
       "      <th>recall_hate</th>\n",
       "      <th>recall_non_hate</th>\n",
       "      <th>recall_macro_avg</th>\n",
       "      <th>recall_weighted_avg</th>\n",
       "      <th>f1-score_hate</th>\n",
       "      <th>f1-score_non_hate</th>\n",
       "      <th>f1-score_macro_avg</th>\n",
       "      <th>f1-score_weighted_avg</th>\n",
       "      <th>accuracy</th>\n",
       "    </tr>\n",
       "  </thead>\n",
       "  <tbody>\n",
       "    <tr>\n",
       "      <th>0</th>\n",
       "      <td>LLM zero-shot prompt</td>\n",
       "      <td>1.0</td>\n",
       "      <td>1.0</td>\n",
       "      <td>1.0</td>\n",
       "      <td>1.0</td>\n",
       "      <td>1.0</td>\n",
       "      <td>1.0</td>\n",
       "      <td>1.0</td>\n",
       "      <td>1.0</td>\n",
       "      <td>1.0</td>\n",
       "      <td>1.0</td>\n",
       "      <td>1.0</td>\n",
       "      <td>1.0</td>\n",
       "      <td>1.0</td>\n",
       "    </tr>\n",
       "    <tr>\n",
       "      <th>1</th>\n",
       "      <td>LLM few-shot prompt</td>\n",
       "      <td>1.0</td>\n",
       "      <td>1.0</td>\n",
       "      <td>1.0</td>\n",
       "      <td>1.0</td>\n",
       "      <td>1.0</td>\n",
       "      <td>1.0</td>\n",
       "      <td>1.0</td>\n",
       "      <td>1.0</td>\n",
       "      <td>1.0</td>\n",
       "      <td>1.0</td>\n",
       "      <td>1.0</td>\n",
       "      <td>1.0</td>\n",
       "      <td>1.0</td>\n",
       "    </tr>\n",
       "  </tbody>\n",
       "</table>\n",
       "</div>"
      ],
      "text/plain": [
       "                  model  precision_hate  precision_non_hate  \\\n",
       "0  LLM zero-shot prompt             1.0                 1.0   \n",
       "1   LLM few-shot prompt             1.0                 1.0   \n",
       "\n",
       "   precision_macro_avg  precision_weighted_avg  recall_hate  recall_non_hate  \\\n",
       "0                  1.0                     1.0          1.0              1.0   \n",
       "1                  1.0                     1.0          1.0              1.0   \n",
       "\n",
       "   recall_macro_avg  recall_weighted_avg  f1-score_hate  f1-score_non_hate  \\\n",
       "0               1.0                  1.0            1.0                1.0   \n",
       "1               1.0                  1.0            1.0                1.0   \n",
       "\n",
       "   f1-score_macro_avg  f1-score_weighted_avg  accuracy  \n",
       "0                 1.0                    1.0       1.0  \n",
       "1                 1.0                    1.0       1.0  "
      ]
     },
     "execution_count": 47,
     "metadata": {},
     "output_type": "execute_result"
    }
   ],
   "source": [
    "few_shot_preds = run_classification(balanced_subset, few_shot_template, classify_with_llm)\n",
    "\n",
    "# Dirty way to get intermediate results\n",
    "y_few   = to_numeric(few_shot_preds)\n",
    "report_few = classification_report(y_true, y_few, output_dict=True)\n",
    "append_results(llm_results, report_few, 'LLM few-shot prompt', EVALUATION_METRICS)\n",
    "llm_results_df = pd.DataFrame(llm_results)\n",
    "llm_results_df"
   ]
  },
  {
   "cell_type": "code",
   "execution_count": null,
   "id": "f6c874d5",
   "metadata": {},
   "outputs": [
    {
     "name": "stderr",
     "output_type": "stream",
     "text": [
      "100%|██████████| 10/10 [02:33<00:00, 15.38s/it]\n"
     ]
    },
    {
     "data": {
      "application/vnd.microsoft.datawrangler.viewer.v0+json": {
       "columns": [
        {
         "name": "index",
         "rawType": "int64",
         "type": "integer"
        },
        {
         "name": "model",
         "rawType": "object",
         "type": "string"
        },
        {
         "name": "precision_hate",
         "rawType": "float64",
         "type": "float"
        },
        {
         "name": "precision_non_hate",
         "rawType": "float64",
         "type": "float"
        },
        {
         "name": "precision_macro_avg",
         "rawType": "float64",
         "type": "float"
        },
        {
         "name": "precision_weighted_avg",
         "rawType": "float64",
         "type": "float"
        },
        {
         "name": "recall_hate",
         "rawType": "float64",
         "type": "float"
        },
        {
         "name": "recall_non_hate",
         "rawType": "float64",
         "type": "float"
        },
        {
         "name": "recall_macro_avg",
         "rawType": "float64",
         "type": "float"
        },
        {
         "name": "recall_weighted_avg",
         "rawType": "float64",
         "type": "float"
        },
        {
         "name": "f1-score_hate",
         "rawType": "float64",
         "type": "float"
        },
        {
         "name": "f1-score_non_hate",
         "rawType": "float64",
         "type": "float"
        },
        {
         "name": "f1-score_macro_avg",
         "rawType": "float64",
         "type": "float"
        },
        {
         "name": "f1-score_weighted_avg",
         "rawType": "float64",
         "type": "float"
        },
        {
         "name": "accuracy",
         "rawType": "float64",
         "type": "float"
        }
       ],
       "ref": "10bbff6f-1b0c-4904-97dc-068ffbc5da11",
       "rows": [
        [
         "0",
         "LLM zero-shot prompt",
         "1.0",
         "1.0",
         "1.0",
         "1.0",
         "1.0",
         "1.0",
         "1.0",
         "1.0",
         "1.0",
         "1.0",
         "1.0",
         "1.0",
         "1.0"
        ],
        [
         "1",
         "LLM few-shot prompt",
         "1.0",
         "1.0",
         "1.0",
         "1.0",
         "1.0",
         "1.0",
         "1.0",
         "1.0",
         "1.0",
         "1.0",
         "1.0",
         "1.0",
         "1.0"
        ],
        [
         "2",
         "LLM chain-of-thought prompt",
         "1.0",
         "0.625",
         "0.8125",
         "0.8125",
         "0.4",
         "1.0",
         "0.7",
         "0.7",
         "0.5714285714285714",
         "0.7692307692307693",
         "0.6703296703296704",
         "0.6703296703296703",
         "0.7"
        ]
       ],
       "shape": {
        "columns": 14,
        "rows": 3
       }
      },
      "text/html": [
       "<div>\n",
       "<style scoped>\n",
       "    .dataframe tbody tr th:only-of-type {\n",
       "        vertical-align: middle;\n",
       "    }\n",
       "\n",
       "    .dataframe tbody tr th {\n",
       "        vertical-align: top;\n",
       "    }\n",
       "\n",
       "    .dataframe thead th {\n",
       "        text-align: right;\n",
       "    }\n",
       "</style>\n",
       "<table border=\"1\" class=\"dataframe\">\n",
       "  <thead>\n",
       "    <tr style=\"text-align: right;\">\n",
       "      <th></th>\n",
       "      <th>model</th>\n",
       "      <th>precision_hate</th>\n",
       "      <th>precision_non_hate</th>\n",
       "      <th>precision_macro_avg</th>\n",
       "      <th>precision_weighted_avg</th>\n",
       "      <th>recall_hate</th>\n",
       "      <th>recall_non_hate</th>\n",
       "      <th>recall_macro_avg</th>\n",
       "      <th>recall_weighted_avg</th>\n",
       "      <th>f1-score_hate</th>\n",
       "      <th>f1-score_non_hate</th>\n",
       "      <th>f1-score_macro_avg</th>\n",
       "      <th>f1-score_weighted_avg</th>\n",
       "      <th>accuracy</th>\n",
       "    </tr>\n",
       "  </thead>\n",
       "  <tbody>\n",
       "    <tr>\n",
       "      <th>0</th>\n",
       "      <td>LLM zero-shot prompt</td>\n",
       "      <td>1.0</td>\n",
       "      <td>1.000</td>\n",
       "      <td>1.0000</td>\n",
       "      <td>1.0000</td>\n",
       "      <td>1.0</td>\n",
       "      <td>1.0</td>\n",
       "      <td>1.0</td>\n",
       "      <td>1.0</td>\n",
       "      <td>1.000000</td>\n",
       "      <td>1.000000</td>\n",
       "      <td>1.00000</td>\n",
       "      <td>1.00000</td>\n",
       "      <td>1.0</td>\n",
       "    </tr>\n",
       "    <tr>\n",
       "      <th>1</th>\n",
       "      <td>LLM few-shot prompt</td>\n",
       "      <td>1.0</td>\n",
       "      <td>1.000</td>\n",
       "      <td>1.0000</td>\n",
       "      <td>1.0000</td>\n",
       "      <td>1.0</td>\n",
       "      <td>1.0</td>\n",
       "      <td>1.0</td>\n",
       "      <td>1.0</td>\n",
       "      <td>1.000000</td>\n",
       "      <td>1.000000</td>\n",
       "      <td>1.00000</td>\n",
       "      <td>1.00000</td>\n",
       "      <td>1.0</td>\n",
       "    </tr>\n",
       "    <tr>\n",
       "      <th>2</th>\n",
       "      <td>LLM chain-of-thought prompt</td>\n",
       "      <td>1.0</td>\n",
       "      <td>0.625</td>\n",
       "      <td>0.8125</td>\n",
       "      <td>0.8125</td>\n",
       "      <td>0.4</td>\n",
       "      <td>1.0</td>\n",
       "      <td>0.7</td>\n",
       "      <td>0.7</td>\n",
       "      <td>0.571429</td>\n",
       "      <td>0.769231</td>\n",
       "      <td>0.67033</td>\n",
       "      <td>0.67033</td>\n",
       "      <td>0.7</td>\n",
       "    </tr>\n",
       "  </tbody>\n",
       "</table>\n",
       "</div>"
      ],
      "text/plain": [
       "                         model  precision_hate  precision_non_hate  \\\n",
       "0         LLM zero-shot prompt             1.0               1.000   \n",
       "1          LLM few-shot prompt             1.0               1.000   \n",
       "2  LLM chain-of-thought prompt             1.0               0.625   \n",
       "\n",
       "   precision_macro_avg  precision_weighted_avg  recall_hate  recall_non_hate  \\\n",
       "0               1.0000                  1.0000          1.0              1.0   \n",
       "1               1.0000                  1.0000          1.0              1.0   \n",
       "2               0.8125                  0.8125          0.4              1.0   \n",
       "\n",
       "   recall_macro_avg  recall_weighted_avg  f1-score_hate  f1-score_non_hate  \\\n",
       "0               1.0                  1.0       1.000000           1.000000   \n",
       "1               1.0                  1.0       1.000000           1.000000   \n",
       "2               0.7                  0.7       0.571429           0.769231   \n",
       "\n",
       "   f1-score_macro_avg  f1-score_weighted_avg  accuracy  \n",
       "0             1.00000                1.00000       1.0  \n",
       "1             1.00000                1.00000       1.0  \n",
       "2             0.67033                0.67033       0.7  "
      ]
     },
     "execution_count": 49,
     "metadata": {},
     "output_type": "execute_result"
    }
   ],
   "source": [
    "cot_preds      = run_classification(balanced_subset, cot_3_template, classify_with_llm)\n",
    "\n",
    "# Dirty way to get intermediate results\n",
    "y_cot   = to_numeric(cot_preds)\n",
    "report_cot = classification_report(y_true, y_cot, output_dict=True)\n",
    "append_results(llm_results, report_cot, 'LLM chain-of-thought prompt', EVALUATION_METRICS)\n",
    "llm_results_df = pd.DataFrame(llm_results)\n",
    "llm_results_df"
   ]
  },
  {
   "cell_type": "markdown",
   "id": "b5183f1f",
   "metadata": {},
   "source": [
    "## 4.6 Results"
   ]
  },
  {
   "cell_type": "code",
   "execution_count": null,
   "id": "44e406db",
   "metadata": {},
   "outputs": [],
   "source": [
    "# 1. Prepare a fresh llm_results list\n",
    "llm_results = []\n",
    "\n",
    "# 2. Pull the true labels from your real column\n",
    "y_true = balanced_subset['is_hate_speech'].values\n",
    "\n",
    "# 3. A tiny helper to turn your “yes”/“no” preds into 1/0\n",
    "def to_numeric(preds):\n",
    "    return np.array([1 if p == 'yes' else 0 for p in preds])\n",
    "\n",
    "# 4. Run each of your LLM classifiers (you already have these arrays)\n",
    "y_simple = to_numeric(simple_preds)\n",
    "y_few   = to_numeric(few_shot_preds)\n",
    "y_cot   = to_numeric(cot_preds)\n",
    "\n",
    "# 5. Build a classification report for each and append to llm_results\n",
    "report_simple = classification_report(y_true, y_simple, output_dict=True)\n",
    "append_results(llm_results, report_simple, 'LLM zero-shot prompt', EVALUATION_METRICS)\n",
    "\n",
    "report_few = classification_report(y_true, y_few, output_dict=True)\n",
    "append_results(llm_results, report_few, 'LLM few-shot prompt', EVALUATION_METRICS)\n",
    "\n",
    "report_cot = classification_report(y_true, y_cot, output_dict=True)\n",
    "append_results(llm_results, report_cot, 'LLM chain-of-thought prompt', EVALUATION_METRICS)"
   ]
  },
  {
   "cell_type": "code",
   "execution_count": null,
   "id": "d17f201f",
   "metadata": {},
   "outputs": [],
   "source": [
    "llm_results_df = pd.DataFrame(llm_results)\n",
    "llm_results_df"
   ]
  },
  {
   "cell_type": "markdown",
   "id": "095a55c5",
   "metadata": {},
   "source": [
    "**Comparing Predictions with True Labels**"
   ]
  },
  {
   "cell_type": "code",
   "execution_count": 52,
   "id": "e41cc632",
   "metadata": {},
   "outputs": [
    {
     "data": {
      "application/vnd.microsoft.datawrangler.viewer.v0+json": {
       "columns": [
        {
         "name": "index",
         "rawType": "int64",
         "type": "integer"
        },
        {
         "name": "comment_id",
         "rawType": "int32",
         "type": "integer"
        },
        {
         "name": "text",
         "rawType": "object",
         "type": "string"
        },
        {
         "name": "true_label",
         "rawType": "int64",
         "type": "integer"
        },
        {
         "name": "pred_zero_grok",
         "rawType": "int64",
         "type": "integer"
        },
        {
         "name": "pred_few_shot_grok",
         "rawType": "int64",
         "type": "integer"
        },
        {
         "name": "pred_cot_grok",
         "rawType": "int64",
         "type": "integer"
        }
       ],
       "ref": "58892b2d-c6da-4cff-a7e6-1d6c415ec36e",
       "rows": [
        [
         "0",
         "341",
         "Fuck off you nazi cunt. Die in a fire.",
         "1",
         "1",
         "1",
         "0"
        ],
        [
         "1",
         "24400",
         "Want to see alpha's big cock? Of course you do losers.. then fucking send. And double it for alpha too!  #findom #cuckold #cuck #paypig #cashcow URL",
         "0",
         "0",
         "0",
         "0"
        ],
        [
         "2",
         "15699",
         "Eat [this](URL too along with your pile of halal shit",
         "1",
         "1",
         "1",
         "1"
        ],
        [
         "3",
         "16402",
         "I'd finger you and make you squirt multiple times. Once I'd have my fill, shove my dick in you and fuck you hard til you beg me to stop.",
         "0",
         "0",
         "0",
         "0"
        ],
        [
         "4",
         "11889",
         "i hope your sisters are raped and you are forced to look at their bodies fucker",
         "1",
         "1",
         "1",
         "0"
        ],
        [
         "5",
         "7743",
         "Sweet! I think that's great and I'm glad that men's groups are also fighting for equal rights.",
         "0",
         "0",
         "0",
         "0"
        ],
        [
         "6",
         "10772",
         "Nah lmao get raped tho, have a good day crack head bitch, watch yourself walking home at night I might rape you lmao",
         "1",
         "1",
         "1",
         "1"
        ],
        [
         "7",
         "40103",
         "Religion is fake news",
         "0",
         "0",
         "0",
         "0"
        ],
        [
         "8",
         "721",
         "yeah lick those boots *right*?  when you say cuck you sound like a baby. an ignorant helpless baby",
         "0",
         "0",
         "0",
         "0"
        ],
        [
         "9",
         "29579",
         "Weak ass demon hoe.  Dick sucking slut muffin.",
         "1",
         "1",
         "1",
         "0"
        ]
       ],
       "shape": {
        "columns": 6,
        "rows": 10
       }
      },
      "text/html": [
       "<div>\n",
       "<style scoped>\n",
       "    .dataframe tbody tr th:only-of-type {\n",
       "        vertical-align: middle;\n",
       "    }\n",
       "\n",
       "    .dataframe tbody tr th {\n",
       "        vertical-align: top;\n",
       "    }\n",
       "\n",
       "    .dataframe thead th {\n",
       "        text-align: right;\n",
       "    }\n",
       "</style>\n",
       "<table border=\"1\" class=\"dataframe\">\n",
       "  <thead>\n",
       "    <tr style=\"text-align: right;\">\n",
       "      <th></th>\n",
       "      <th>comment_id</th>\n",
       "      <th>text</th>\n",
       "      <th>true_label</th>\n",
       "      <th>pred_zero_grok</th>\n",
       "      <th>pred_few_shot_grok</th>\n",
       "      <th>pred_cot_grok</th>\n",
       "    </tr>\n",
       "  </thead>\n",
       "  <tbody>\n",
       "    <tr>\n",
       "      <th>0</th>\n",
       "      <td>341</td>\n",
       "      <td>Fuck off you nazi cunt. Die in a fire.</td>\n",
       "      <td>1</td>\n",
       "      <td>1</td>\n",
       "      <td>1</td>\n",
       "      <td>0</td>\n",
       "    </tr>\n",
       "    <tr>\n",
       "      <th>1</th>\n",
       "      <td>24400</td>\n",
       "      <td>Want to see alpha's big cock? Of course you do...</td>\n",
       "      <td>0</td>\n",
       "      <td>0</td>\n",
       "      <td>0</td>\n",
       "      <td>0</td>\n",
       "    </tr>\n",
       "    <tr>\n",
       "      <th>2</th>\n",
       "      <td>15699</td>\n",
       "      <td>Eat [this](URL too along with your pile of hal...</td>\n",
       "      <td>1</td>\n",
       "      <td>1</td>\n",
       "      <td>1</td>\n",
       "      <td>1</td>\n",
       "    </tr>\n",
       "    <tr>\n",
       "      <th>3</th>\n",
       "      <td>16402</td>\n",
       "      <td>I'd finger you and make you squirt multiple ti...</td>\n",
       "      <td>0</td>\n",
       "      <td>0</td>\n",
       "      <td>0</td>\n",
       "      <td>0</td>\n",
       "    </tr>\n",
       "    <tr>\n",
       "      <th>4</th>\n",
       "      <td>11889</td>\n",
       "      <td>i hope your sisters are raped and you are forc...</td>\n",
       "      <td>1</td>\n",
       "      <td>1</td>\n",
       "      <td>1</td>\n",
       "      <td>0</td>\n",
       "    </tr>\n",
       "    <tr>\n",
       "      <th>5</th>\n",
       "      <td>7743</td>\n",
       "      <td>Sweet! I think that's great and I'm glad that ...</td>\n",
       "      <td>0</td>\n",
       "      <td>0</td>\n",
       "      <td>0</td>\n",
       "      <td>0</td>\n",
       "    </tr>\n",
       "    <tr>\n",
       "      <th>6</th>\n",
       "      <td>10772</td>\n",
       "      <td>Nah lmao get raped tho, have a good day crack ...</td>\n",
       "      <td>1</td>\n",
       "      <td>1</td>\n",
       "      <td>1</td>\n",
       "      <td>1</td>\n",
       "    </tr>\n",
       "    <tr>\n",
       "      <th>7</th>\n",
       "      <td>40103</td>\n",
       "      <td>Religion is fake news</td>\n",
       "      <td>0</td>\n",
       "      <td>0</td>\n",
       "      <td>0</td>\n",
       "      <td>0</td>\n",
       "    </tr>\n",
       "    <tr>\n",
       "      <th>8</th>\n",
       "      <td>721</td>\n",
       "      <td>yeah lick those boots *right*?  when you say c...</td>\n",
       "      <td>0</td>\n",
       "      <td>0</td>\n",
       "      <td>0</td>\n",
       "      <td>0</td>\n",
       "    </tr>\n",
       "    <tr>\n",
       "      <th>9</th>\n",
       "      <td>29579</td>\n",
       "      <td>Weak ass demon hoe.  Dick sucking slut muffin.</td>\n",
       "      <td>1</td>\n",
       "      <td>1</td>\n",
       "      <td>1</td>\n",
       "      <td>0</td>\n",
       "    </tr>\n",
       "  </tbody>\n",
       "</table>\n",
       "</div>"
      ],
      "text/plain": [
       "   comment_id                                               text  true_label  \\\n",
       "0         341             Fuck off you nazi cunt. Die in a fire.           1   \n",
       "1       24400  Want to see alpha's big cock? Of course you do...           0   \n",
       "2       15699  Eat [this](URL too along with your pile of hal...           1   \n",
       "3       16402  I'd finger you and make you squirt multiple ti...           0   \n",
       "4       11889  i hope your sisters are raped and you are forc...           1   \n",
       "5        7743  Sweet! I think that's great and I'm glad that ...           0   \n",
       "6       10772  Nah lmao get raped tho, have a good day crack ...           1   \n",
       "7       40103                              Religion is fake news           0   \n",
       "8         721  yeah lick those boots *right*?  when you say c...           0   \n",
       "9       29579     Weak ass demon hoe.  Dick sucking slut muffin.           1   \n",
       "\n",
       "   pred_zero_grok  pred_few_shot_grok  pred_cot_grok  \n",
       "0               1                   1              0  \n",
       "1               0                   0              0  \n",
       "2               1                   1              1  \n",
       "3               0                   0              0  \n",
       "4               1                   1              0  \n",
       "5               0                   0              0  \n",
       "6               1                   1              1  \n",
       "7               0                   0              0  \n",
       "8               0                   0              0  \n",
       "9               1                   1              0  "
      ]
     },
     "execution_count": 52,
     "metadata": {},
     "output_type": "execute_result"
    }
   ],
   "source": [
    "# 1. Copy your sample (or full test) DataFrame\n",
    "comp_df = balanced_subset.copy()\n",
    "\n",
    "# 2. Add numeric preds\n",
    "comp_df['pred_simple'] = to_numeric(simple_preds)\n",
    "comp_df['pred_few']    = to_numeric(few_shot_preds)\n",
    "comp_df['pred_cot']    = to_numeric(cot_preds)\n",
    "\n",
    "# 3. (Optional) turn 0/1 back into yes/no strings\n",
    "# comp_df['pred_simple_str'] = np.where(comp_df['pred_simple']==1, 'yes', 'no')\n",
    "# comp_df['pred_few_str']    = np.where(comp_df['pred_few']==1,    'yes', 'no')\n",
    "# comp_df['pred_cot_str']    = np.where(comp_df['pred_cot']==1,    'yes', 'no')\n",
    "\n",
    "# 4. Rename your true‐label column to something easy\n",
    "comp_df = comp_df.rename(columns={'is_hate_speech': 'true_label'})\n",
    "\n",
    "\n",
    "\n",
    "# 5. See the full thing\n",
    "comp_df[['comment_id','text', 'true_label',\n",
    "               'pred_simple', 'pred_few', 'pred_cot']]\n",
    "\n",
    "comp_df = comp_df.rename(columns={\n",
    "    'pred_simple': f'pred_zero_{LLM_BACKEND}', \n",
    "    'pred_few': f'pred_few_shot_{LLM_BACKEND}', \n",
    "    'pred_cot': f'pred_cot_{LLM_BACKEND}'\n",
    "})\n",
    "\n",
    "timestamp = time.strftime(\"%Y%m%d-%H%M%S\")\n",
    "\n",
    "comp_df.to_csv(f'./outputs/hate_speech_predictions_{LLM_BACKEND}_{timestamp}.csv', index=False)\n",
    "\n",
    "comp_df "
   ]
  },
  {
   "cell_type": "code",
   "execution_count": 55,
   "id": "d567dffa",
   "metadata": {},
   "outputs": [
    {
     "data": {
      "image/png": "[encoded data removed]",
      "text/plain": [
       "<Figure size 1500x500 with 3 Axes>"
      ]
     },
     "metadata": {},
     "output_type": "display_data"
    }
   ],
   "source": [
    "from sklearn.metrics import confusion_matrix, ConfusionMatrixDisplay\n",
    "\n",
    "def plot_conf_matrix(ax, y_true, y_pred, title, labels=['non-hate', 'hate'], cmap='Blues'):\n",
    "    cm = confusion_matrix(y_true, y_pred)\n",
    "    disp = ConfusionMatrixDisplay(confusion_matrix=cm, display_labels=labels)\n",
    "    disp.plot(ax=ax, colorbar=False, cmap=cmap)\n",
    "    ax.set_title(title)\n",
    "\n",
    "# Set up the plot\n",
    "fig, axs = plt.subplots(1, 3, figsize=(15, 5))\n",
    "\n",
    "# Plot each confusion matrix \n",
    "plot_conf_matrix(axs[0], comp_df['true_label'], comp_df[f'pred_zero_{LLM_BACKEND}'], 'Simple Prompt')\n",
    "plot_conf_matrix(axs[1], comp_df['true_label'], comp_df[f'pred_few_shot_{LLM_BACKEND}'], 'Few-shot Prompt')\n",
    "plot_conf_matrix(axs[2], comp_df['true_label'], comp_df[f'pred_cot_{LLM_BACKEND}'], 'Chain-of-Thought Prompt')\n",
    "\n",
    "plt.tight_layout()\n",
    "plt.show()\n",
    "\n"
   ]
  },
  {
   "cell_type": "markdown",
   "id": "33600f62",
   "metadata": {},
   "source": [
    "# 5. Evaluation"
   ]
  },
  {
   "cell_type": "code",
   "execution_count": null,
   "id": "45021dae",
   "metadata": {},
   "outputs": [],
   "source": [
    "results_df = pd.DataFrame(results)\n",
    "\n",
    "results_df"
   ]
  }
 ],
 "metadata": {
  "kernelspec": {
   "display_name": "venv",
   "language": "python",
   "name": "python3"
  },
  "language_info": {
   "codemirror_mode": {
    "name": "ipython",
    "version": 3
   },
   "file_extension": ".py",
   "mimetype": "text/x-python",
   "name": "python",
   "nbconvert_exporter": "python",
   "pygments_lexer": "ipython3",
   "version": "3.9.12"
  }
 },
 "nbformat": 4,
 "nbformat_minor": 5
}
