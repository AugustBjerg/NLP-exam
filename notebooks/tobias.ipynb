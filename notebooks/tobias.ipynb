{
 "cells": [
  {
   "cell_type": "markdown",
   "id": "fe4c8cfe",
   "metadata": {},
   "source": [
    "# 1. Setup"
   ]
  },
  {
   "cell_type": "code",
   "execution_count": null,
   "id": "811d85ad",
   "metadata": {},
   "outputs": [],
   "source": [
    "# TODO: clean this up\n",
    "from datasets import load_dataset\n",
    "import pandas as pd\n",
    "import numpy as np\n",
    "import matplotlib.pyplot as plt\n",
    "import seaborn as sns\n",
    "import tqdm as notebook_tqdm\n",
    "import re\n",
    "import string\n",
    "import nltk\n",
    "import torch\n",
    "import transformers as ppb\n",
    "from nltk import pos_tag, download\n",
    "from nltk.corpus import stopwords, wordnet\n",
    "from nltk.tokenize import TweetTokenizer\n",
    "from nltk.stem import WordNetLemmatizer\n",
    "from sklearn.pipeline import Pipeline\n",
    "from sklearn.feature_extraction.text import CountVectorizer\n",
    "from sklearn.linear_model import LogisticRegression\n",
    "from sklearn.model_selection import train_test_split, cross_val_score\n",
    "from sklearn.base import BaseEstimator, TransformerMixin\n",
    "from tqdm import tqdm\n",
    "from sklearn.metrics import classification_report\n",
    "from sklearn.feature_extraction.text import TfidfVectorizer\n",
    "from sklearn.model_selection import GridSearchCV\n",
    "from math import ceil\n",
    "from sklearn.linear_model import SGDClassifier\n",
    "from sklearn.metrics import accuracy_score, classification_report\n",
    "from sklearn.utils.class_weight import compute_class_weight\n",
    "from sklearn.utils import resample"
   ]
  },
  {
   "cell_type": "code",
   "execution_count": 51,
   "id": "861d239f",
   "metadata": {},
   "outputs": [],
   "source": [
    "# Load the dataset from the Hugging Face Hub\n",
    "notebook_tqdm.tqdm.pandas()\n",
    "dataset = load_dataset('ucberkeley-dlab/measuring-hate-speech')\n",
    "\n",
    "# Convert the dataset to a pandas DataFrame\n",
    "df_raw = dataset['train'].to_pandas()"
   ]
  },
  {
   "cell_type": "code",
   "execution_count": 52,
   "id": "947cbb99",
   "metadata": {},
   "outputs": [],
   "source": [
    "TRAIN_RATIO = 0.8 # TODO: factor this out everywhere\n",
    "TEST_RATIO = 1 - TRAIN_RATIO\n",
    "HATE_SPEECH_THRESHOLD_UNNORMALIZED = 0.5\n",
    "SUPPORTIVE_THRESHOLD_UNNORMALIZED = -1\n",
    "EVALUATION_METRICS = ['precision', 'recall', 'f1-score']"
   ]
  },
  {
   "cell_type": "code",
   "execution_count": 53,
   "id": "a25d9431",
   "metadata": {},
   "outputs": [],
   "source": [
    "results = []"
   ]
  },
  {
   "cell_type": "markdown",
   "id": "ade1f6ab",
   "metadata": {},
   "source": [
    "# 2. Filtering & EDA"
   ]
  },
  {
   "cell_type": "markdown",
   "id": "832b536b",
   "metadata": {},
   "source": [
    "### 2.0. Function definitions & variables"
   ]
  },
  {
   "cell_type": "code",
   "execution_count": 54,
   "id": "e1399e40",
   "metadata": {},
   "outputs": [],
   "source": [
    "def plot_hate_speech_score_histogram(df: pd.DataFrame, hate_threshold: float, supportive_threshold: float):\n",
    "    \"\"\"\n",
    "    Plots a histogram of the hate_speech_score with annotated lines at the thresholds\n",
    "\n",
    "    Args:\n",
    "        df (pd.DataFrame): The dataframe to plot the histogram from\n",
    "        hate_threshold (float): The threshold for hate speech\n",
    "        supportive_threshold (float): The threshold for supportive speech\n",
    "\n",
    "    Returns:\n",
    "        None (plots the histogram)\n",
    "    \"\"\"\n",
    "\n",
    "    total_count = df.shape[0]\n",
    "    \n",
    "    # Calculate the amount of values below the supportive threshold\n",
    "    supportive_count = df[df['hate_speech_score'] < supportive_threshold].shape[0]\n",
    "\n",
    "    # Calculate the amount of values above the hate threshold\n",
    "    hate_count = df[df['hate_speech_score'] > hate_threshold].shape[0]\n",
    "\n",
    "    # Calculate the amount of values between the thresholds\n",
    "    neutral_count = df[(df['hate_speech_score'] >= supportive_threshold) & (df['hate_speech_score'] <= hate_threshold)].shape[0]\n",
    "\n",
    "    print(f\"Total count: {total_count}\")\n",
    "    print(f\"Supportive count: {supportive_count} ({supportive_count / total_count * 100:.2f}%)\")\n",
    "    print(f\"Hate count: {hate_count} ({hate_count / total_count * 100:.2f}%)\")\n",
    "    print(f\"Neutral count: {neutral_count} ({neutral_count / total_count * 100:.2f}%)\")\n",
    "\n",
    "    # Plot in histogram as well\n",
    "    plt.hist(df['hate_speech_score'], bins=100)\n",
    "    plt.axvline(hate_threshold, color='red', linestyle='--', label='Hate Speech Threshold')\n",
    "    plt.axvline(supportive_threshold, color='blue', linestyle='--', label='Supportive Threshold')\n",
    "    plt.legend()\n",
    "    plt.show()\n",
    "\n",
    "def plot_target_columns_distribution(df: pd.DataFrame, target_cols: list[str]):\n",
    "    \"\"\"\n",
    "    Plots a barchart of the average value of the target columns for the hate speech observations\n",
    "\n",
    "    Args:\n",
    "        df (pd.DataFrame): The dataframe to plot the distribution from\n",
    "        target_cols (list[str]): The columns to plot\n",
    "\n",
    "    Returns:\n",
    "        None (plots the distribution)\n",
    "    \"\"\"\n",
    "\n",
    "    # Filter to count hate speech only\n",
    "    hate_speech_df = df[df['is_hate_speech'] == 1]\n",
    "\n",
    "    # Calculate the mean value of the target columns for the hate speech observations and sort them descending\n",
    "    mean_values = hate_speech_df[target_cols].mean()\n",
    "    mean_values = mean_values.sort_values(ascending=False)\n",
    "\n",
    "    # Plot\n",
    "    plt.figure(figsize=(10, 6))\n",
    "    mean_values.plot(kind='bar')\n",
    "    plt.title('Percentage of hate speech columns targeting a specific group')\n",
    "    plt.xlabel('Target Column')\n",
    "    plt.ylabel('Percentage of hate speech')\n",
    "    plt.show()\n",
    "\n",
    "def plot_target_columns_detailed(df: pd.DataFrame, target_cols: list[str], fig_size: tuple[int, int] = (15, 30), y_max: float = 0.35):\n",
    "    \"\"\"\n",
    "    Plots a bar chart for each of the target columns with detailed breakdowns of sub-groups\n",
    "\n",
    "    Args:\n",
    "        df (pd.DataFrame): The dataframe to plot the distribution from\n",
    "        target_cols (list[str]): The columns to plot\n",
    "\n",
    "    Returns:\n",
    "        None (plots the distributions)\n",
    "\n",
    "    \"\"\"\n",
    "\n",
    "    # Filter to count hate speech only\n",
    "    hate_speech_df = df[df['is_hate_speech'] == 1]\n",
    "\n",
    "    # initalize axes to plot the 7 sub-groups in two rows of 3 and a last row of 1\n",
    "    fig, axes = plt.subplots(nrows=4, ncols=2, figsize=fig_size)\n",
    "    # For each of the target columns, make a list of means of of hate speach targeting its sub-groups\n",
    "    for ax, col in zip(axes.flatten(), target_cols):\n",
    "\n",
    "        # Calculate the number of observations with a non-zero value for the target column\n",
    "        non_zero_count = hate_speech_df[col].value_counts()[1]\n",
    "\n",
    "        # identify all columns in the dataframe that starts with the target column name\n",
    "        sub_groups_column_names = [column for column in df.columns if column.startswith(col)]\n",
    "\n",
    "        # remove the original target column from the list\n",
    "        sub_groups_column_names.remove(col)\n",
    "        col_name = col.replace(\"target_\", \"\").title()\n",
    "\n",
    "        # calculate the mean values for each sub-group\n",
    "        sub_group_means = hate_speech_df[sub_groups_column_names].mean()\n",
    "        sub_group_means = sub_group_means.sort_values(ascending=False)\n",
    "\n",
    "        # remove the col string from the labels\n",
    "        labels = sub_group_means.index.str.replace((col + \"_\"), '')\n",
    "\n",
    "        # plot on the specific axis\n",
    "        sub_group_means.plot(kind='bar', ax=ax)\n",
    "        ax.set_xticklabels(labels)\n",
    "        ax.set_title(f'Percentage of hate speech targeting {col_name} by sub-group \\n(n={non_zero_count})')\n",
    "        ax.set_xlabel('Sub-group')\n",
    "        ax.set_ylabel('Percentage of hate speech')\n",
    "        ax.set_ylim(0, y_max)\n",
    "    \n",
    "    plt.subplots_adjust(hspace=0.7)\n",
    "\n",
    "def inspect_for_cor(df, columns: list[str], plot_label: str, hate_speech_only: bool = True):\n",
    "\n",
    "    # filter for hate speech only if specified\n",
    "    if hate_speech_only:\n",
    "        df = df[df['is_hate_speech'] == 1]\n",
    "    \n",
    "    # Make a correlation matrix\n",
    "    corr_matrix = df[columns].corr()\n",
    "\n",
    "    # Plot the correlation matrix\n",
    "    plt.figure(figsize=(10, 8))\n",
    "    sns.heatmap(corr_matrix, annot=True, cmap='coolwarm', vmin=-1, vmax=1)\n",
    "    plt.title(f'Correlation Heatmap for {plot_label}')\n",
    "    plt.show()\n",
    "\n",
    "    # Make a pairplot of the columns\n",
    "    sns.pairplot(df[columns])\n",
    "    plt.title(f'Pairplot for {plot_label}')\n",
    "    plt.show()\n"
   ]
  },
  {
   "cell_type": "code",
   "execution_count": 55,
   "id": "22853d65",
   "metadata": {},
   "outputs": [],
   "source": [
    "aspect_cols = [\n",
    "    'insult',\n",
    "    'humiliate',\n",
    "    'status',\n",
    "    'dehumanize',\n",
    "    'violence',\n",
    "    'genocide'\n",
    "]\n",
    "\n",
    "target_cols_lvl1_and_2 = [col for col in df_raw.columns if col.startswith('target_')]\n",
    "\n",
    "target_cols_lvl1 = [\n",
    "    'target_race',\n",
    "    'target_religion',\n",
    "    'target_origin',\n",
    "    'target_gender',\n",
    "    'target_sexuality',\n",
    "    'target_age',\n",
    "    'target_disability',    \n",
    "]\n",
    "\n",
    "cols_to_keep = [\n",
    "    'comment_id', \n",
    "    'text', \n",
    "    'hate_speech_score',\n",
    "    *aspect_cols,\n",
    "    *target_cols_lvl1_and_2\n",
    "]\n"
   ]
  },
  {
   "cell_type": "markdown",
   "id": "37613ea6",
   "metadata": {},
   "source": [
    "### 2.1. Pre-filtering EDA"
   ]
  },
  {
   "cell_type": "code",
   "execution_count": 56,
   "id": "c91890c5",
   "metadata": {},
   "outputs": [
    {
     "name": "stdout",
     "output_type": "stream",
     "text": [
      "Total count: 135556\n",
      "Supportive count: 53651 (39.58%)\n",
      "Hate count: 49048 (36.18%)\n",
      "Neutral count: 32857 (24.24%)\n"
     ]
    },
    {
     "data": {
      "image/png": "[encoded data removed]",
      "text/plain": [
       "<Figure size 640x480 with 1 Axes>"
      ]
     },
     "metadata": {},
     "output_type": "display_data"
    }
   ],
   "source": [
    "plot_hate_speech_score_histogram(df_raw, HATE_SPEECH_THRESHOLD_UNNORMALIZED, SUPPORTIVE_THRESHOLD_UNNORMALIZED)"
   ]
  },
  {
   "cell_type": "markdown",
   "id": "128f3881",
   "metadata": {},
   "source": [
    "### 2.2. Filtering & reformating"
   ]
  },
  {
   "cell_type": "markdown",
   "id": "dc84c761",
   "metadata": {},
   "source": [
    "TODO: Make list of filtering actions for report \n"
   ]
  },
  {
   "cell_type": "code",
   "execution_count": 57,
   "id": "651a50e9",
   "metadata": {},
   "outputs": [
    {
     "name": "stdout",
     "output_type": "stream",
     "text": [
      "Number of duplicate texts: 125479\n"
     ]
    },
    {
     "data": {
      "application/vnd.microsoft.datawrangler.viewer.v0+json": {
       "columns": [
        {
         "name": "index",
         "rawType": "int64",
         "type": "integer"
        },
        {
         "name": "comment_id",
         "rawType": "int32",
         "type": "integer"
        },
        {
         "name": "text",
         "rawType": "object",
         "type": "string"
        }
       ],
       "conversionMethod": "pd.DataFrame",
       "ref": "af43425a-ed21-4adc-996b-7cd2eba13a65",
       "rows": [
        [
         "0",
         "47777",
         "Yes indeed. She sort of reminds me of the elder lady that played the part in the movie \"Titanic\" who was telling her story!!! And I wouldn't have wanted to cover who I really am!! I would be proud!!!! WE should be proud of our race no matter what it is!!"
        ],
        [
         "1",
         "39773",
         "The trans women reading this tweet right now is beautiful"
        ],
        [
         "2",
         "47101",
         "Question: These 4 broads who criticize America, what country did they flee to get here? And now they want to make OUR America like THEIR former HELL HOLE. I don't think so!!!!!!!!!!  Let them explain their GRATITUDE for letting them in OUR country."
        ],
        [
         "3",
         "43625",
         "It is about time for all illegals to go back to their country of origin and keep our freeway open and prevent heavy traffic."
        ],
        [
         "4",
         "12538",
         "For starters bend over the one in pink and kick that ass and pussy to get a taste until she's begging for a dick inside her."
        ]
       ],
       "shape": {
        "columns": 2,
        "rows": 5
       }
      },
      "text/html": [
       "<div>\n",
       "<style scoped>\n",
       "    .dataframe tbody tr th:only-of-type {\n",
       "        vertical-align: middle;\n",
       "    }\n",
       "\n",
       "    .dataframe tbody tr th {\n",
       "        vertical-align: top;\n",
       "    }\n",
       "\n",
       "    .dataframe thead th {\n",
       "        text-align: right;\n",
       "    }\n",
       "</style>\n",
       "<table border=\"1\" class=\"dataframe\">\n",
       "  <thead>\n",
       "    <tr style=\"text-align: right;\">\n",
       "      <th></th>\n",
       "      <th>comment_id</th>\n",
       "      <th>text</th>\n",
       "    </tr>\n",
       "  </thead>\n",
       "  <tbody>\n",
       "    <tr>\n",
       "      <th>0</th>\n",
       "      <td>47777</td>\n",
       "      <td>Yes indeed. She sort of reminds me of the elde...</td>\n",
       "    </tr>\n",
       "    <tr>\n",
       "      <th>1</th>\n",
       "      <td>39773</td>\n",
       "      <td>The trans women reading this tweet right now i...</td>\n",
       "    </tr>\n",
       "    <tr>\n",
       "      <th>2</th>\n",
       "      <td>47101</td>\n",
       "      <td>Question: These 4 broads who criticize America...</td>\n",
       "    </tr>\n",
       "    <tr>\n",
       "      <th>3</th>\n",
       "      <td>43625</td>\n",
       "      <td>It is about time for all illegals to go back t...</td>\n",
       "    </tr>\n",
       "    <tr>\n",
       "      <th>4</th>\n",
       "      <td>12538</td>\n",
       "      <td>For starters bend over the one in pink and kic...</td>\n",
       "    </tr>\n",
       "  </tbody>\n",
       "</table>\n",
       "</div>"
      ],
      "text/plain": [
       "   comment_id                                               text\n",
       "0       47777  Yes indeed. She sort of reminds me of the elde...\n",
       "1       39773  The trans women reading this tweet right now i...\n",
       "2       47101  Question: These 4 broads who criticize America...\n",
       "3       43625  It is about time for all illegals to go back t...\n",
       "4       12538  For starters bend over the one in pink and kic..."
      ]
     },
     "execution_count": 57,
     "metadata": {},
     "output_type": "execute_result"
    }
   ],
   "source": [
    "# Check for duplicate rows based on the 'comment_id' column\n",
    "duplicate_texts = df_raw[df_raw.duplicated(subset='comment_id', keep=False)]\n",
    "print(f\"Number of duplicate texts: {duplicate_texts.shape[0]}\")\n",
    "duplicate_texts[['comment_id', 'text']].head()"
   ]
  },
  {
   "cell_type": "code",
   "execution_count": 58,
   "id": "b7dc8125",
   "metadata": {},
   "outputs": [
    {
     "name": "stdout",
     "output_type": "stream",
     "text": [
      "Number of 'comment_id' entries with inconsistent scores: 0\n"
     ]
    }
   ],
   "source": [
    "# Group by 'comment_id' and count unique 'hate_speech_score' values per group\n",
    "score_check = df_raw.groupby(\"comment_id\")[\"hate_speech_score\"].nunique()\n",
    "\n",
    "# Find texts with more than one unique score\n",
    "inconsistent = score_check[score_check > 1]\n",
    "\n",
    "# Show how many inconsistencies there are\n",
    "print(f\"Number of 'comment_id' entries with inconsistent scores: {len(inconsistent)}\")\n",
    "\n",
    "# Optionally, view a few examples\n",
    "if not inconsistent.empty:\n",
    "    print(df_raw[df_raw[\"comment_id\"].isin(inconsistent.index)].sort_values(\"comment_id\").head(10))"
   ]
  },
  {
   "cell_type": "code",
   "execution_count": 59,
   "id": "dfe2e764",
   "metadata": {},
   "outputs": [],
   "source": [
    "# Step 1: Select relevant columns\n",
    "df_relevant = df_raw[cols_to_keep].copy()\n",
    "\n",
    "# Step 2: Convert booleans to integers for mean calculation\n",
    "bool_cols = [col for col in df_relevant.columns if col.startswith('target_')]\n",
    "df_relevant[bool_cols] = df_relevant[bool_cols].astype(int)\n",
    "\n",
    "# Step 3: Group by 'comment_id' and 'text' to keep them in final output\n",
    "filtered_df = df_relevant.groupby(['comment_id', 'text']).mean().reset_index()"
   ]
  },
  {
   "cell_type": "code",
   "execution_count": 60,
   "id": "8bff2a4d",
   "metadata": {},
   "outputs": [],
   "source": [
    "min_score = filtered_df['hate_speech_score'].min()  # e.g., -8.34\n",
    "max_score = filtered_df['hate_speech_score'].max()  # e.g., +6.3\n",
    "\n",
    "# replace hate speech core column with normalized column - [0, 1]\n",
    "filtered_df['hate_speech_score'] = (filtered_df['hate_speech_score'] - min_score) / (max_score - min_score)\n"
   ]
  },
  {
   "cell_type": "code",
   "execution_count": 61,
   "id": "42f321de",
   "metadata": {},
   "outputs": [
    {
     "name": "stdout",
     "output_type": "stream",
     "text": [
      "Threshold for hate speech: 0.604 -> Equivalent to 0.5 on the original scale\n",
      "Threshold for counter speech: 0.501 -> Equivalent to -1 on the original scale\n",
      "Between the two thresholds: 0.604 and 0.501 -> Equivalent to 0.5 and -1 on the original scale which is the unambiguous region\n"
     ]
    }
   ],
   "source": [
    "# Normalize the thresholds given by the dataset authors\n",
    "HATE_SPEECH_THRESHOLD_NORMALIZED = (0.5 - min_score) / (max_score - min_score)  \n",
    "SUPPORTIVE_THRESHOLD_NORMALIZED = (-1 - min_score) / (max_score - min_score)\n",
    "\n",
    "# Add binary columns for hate speech\n",
    "filtered_df.insert(filtered_df.columns.get_loc('hate_speech_score') + 1, 'is_hate_speech', (filtered_df['hate_speech_score'] > HATE_SPEECH_THRESHOLD_NORMALIZED).astype(int))\n",
    "\n",
    "# Print new normalized thresholds \n",
    "print(f\"Threshold for hate speech: {HATE_SPEECH_THRESHOLD_NORMALIZED:.3f} -> Equivalent to {0.5} on the original scale\")\n",
    "print(f\"Threshold for counter speech: {SUPPORTIVE_THRESHOLD_NORMALIZED:.3f} -> Equivalent to {-1} on the original scale\")\n",
    "print(f\"Between the two thresholds: {HATE_SPEECH_THRESHOLD_NORMALIZED:.3f} and {SUPPORTIVE_THRESHOLD_NORMALIZED:.3f} -> Equivalent to {0.5} and {-1} on the original scale which is the unambiguous region\")\n"
   ]
  },
  {
   "cell_type": "code",
   "execution_count": 62,
   "id": "8e5e1c18",
   "metadata": {},
   "outputs": [
    {
     "data": {
      "application/vnd.microsoft.datawrangler.viewer.v0+json": {
       "columns": [
        {
         "name": "index",
         "rawType": "object",
         "type": "string"
        },
        {
         "name": "comment_id",
         "rawType": "float64",
         "type": "float"
        },
        {
         "name": "hate_speech_score",
         "rawType": "float64",
         "type": "float"
        },
        {
         "name": "is_hate_speech",
         "rawType": "float64",
         "type": "float"
        },
        {
         "name": "insult",
         "rawType": "float64",
         "type": "float"
        },
        {
         "name": "humiliate",
         "rawType": "float64",
         "type": "float"
        },
        {
         "name": "status",
         "rawType": "float64",
         "type": "float"
        },
        {
         "name": "dehumanize",
         "rawType": "float64",
         "type": "float"
        },
        {
         "name": "violence",
         "rawType": "float64",
         "type": "float"
        },
        {
         "name": "genocide",
         "rawType": "float64",
         "type": "float"
        },
        {
         "name": "target_race_asian",
         "rawType": "float64",
         "type": "float"
        },
        {
         "name": "target_race_black",
         "rawType": "float64",
         "type": "float"
        },
        {
         "name": "target_race_latinx",
         "rawType": "float64",
         "type": "float"
        },
        {
         "name": "target_race_middle_eastern",
         "rawType": "float64",
         "type": "float"
        },
        {
         "name": "target_race_native_american",
         "rawType": "float64",
         "type": "float"
        },
        {
         "name": "target_race_pacific_islander",
         "rawType": "float64",
         "type": "float"
        },
        {
         "name": "target_race_white",
         "rawType": "float64",
         "type": "float"
        },
        {
         "name": "target_race_other",
         "rawType": "float64",
         "type": "float"
        },
        {
         "name": "target_race",
         "rawType": "float64",
         "type": "float"
        },
        {
         "name": "target_religion_atheist",
         "rawType": "float64",
         "type": "float"
        },
        {
         "name": "target_religion_buddhist",
         "rawType": "float64",
         "type": "float"
        },
        {
         "name": "target_religion_christian",
         "rawType": "float64",
         "type": "float"
        },
        {
         "name": "target_religion_hindu",
         "rawType": "float64",
         "type": "float"
        },
        {
         "name": "target_religion_jewish",
         "rawType": "float64",
         "type": "float"
        },
        {
         "name": "target_religion_mormon",
         "rawType": "float64",
         "type": "float"
        },
        {
         "name": "target_religion_muslim",
         "rawType": "float64",
         "type": "float"
        },
        {
         "name": "target_religion_other",
         "rawType": "float64",
         "type": "float"
        },
        {
         "name": "target_religion",
         "rawType": "float64",
         "type": "float"
        },
        {
         "name": "target_origin_immigrant",
         "rawType": "float64",
         "type": "float"
        },
        {
         "name": "target_origin_migrant_worker",
         "rawType": "float64",
         "type": "float"
        },
        {
         "name": "target_origin_specific_country",
         "rawType": "float64",
         "type": "float"
        },
        {
         "name": "target_origin_undocumented",
         "rawType": "float64",
         "type": "float"
        },
        {
         "name": "target_origin_other",
         "rawType": "float64",
         "type": "float"
        },
        {
         "name": "target_origin",
         "rawType": "float64",
         "type": "float"
        },
        {
         "name": "target_gender_men",
         "rawType": "float64",
         "type": "float"
        },
        {
         "name": "target_gender_non_binary",
         "rawType": "float64",
         "type": "float"
        },
        {
         "name": "target_gender_transgender_men",
         "rawType": "float64",
         "type": "float"
        },
        {
         "name": "target_gender_transgender_unspecified",
         "rawType": "float64",
         "type": "float"
        },
        {
         "name": "target_gender_transgender_women",
         "rawType": "float64",
         "type": "float"
        },
        {
         "name": "target_gender_women",
         "rawType": "float64",
         "type": "float"
        },
        {
         "name": "target_gender_other",
         "rawType": "float64",
         "type": "float"
        },
        {
         "name": "target_gender",
         "rawType": "float64",
         "type": "float"
        },
        {
         "name": "target_sexuality_bisexual",
         "rawType": "float64",
         "type": "float"
        },
        {
         "name": "target_sexuality_gay",
         "rawType": "float64",
         "type": "float"
        },
        {
         "name": "target_sexuality_lesbian",
         "rawType": "float64",
         "type": "float"
        },
        {
         "name": "target_sexuality_straight",
         "rawType": "float64",
         "type": "float"
        },
        {
         "name": "target_sexuality_other",
         "rawType": "float64",
         "type": "float"
        },
        {
         "name": "target_sexuality",
         "rawType": "float64",
         "type": "float"
        },
        {
         "name": "target_age_children",
         "rawType": "float64",
         "type": "float"
        },
        {
         "name": "target_age_teenagers",
         "rawType": "float64",
         "type": "float"
        },
        {
         "name": "target_age_young_adults",
         "rawType": "float64",
         "type": "float"
        },
        {
         "name": "target_age_middle_aged",
         "rawType": "float64",
         "type": "float"
        },
        {
         "name": "target_age_seniors",
         "rawType": "float64",
         "type": "float"
        },
        {
         "name": "target_age_other",
         "rawType": "float64",
         "type": "float"
        },
        {
         "name": "target_age",
         "rawType": "float64",
         "type": "float"
        },
        {
         "name": "target_disability_physical",
         "rawType": "float64",
         "type": "float"
        },
        {
         "name": "target_disability_cognitive",
         "rawType": "float64",
         "type": "float"
        },
        {
         "name": "target_disability_neurological",
         "rawType": "float64",
         "type": "float"
        },
        {
         "name": "target_disability_visually_impaired",
         "rawType": "float64",
         "type": "float"
        },
        {
         "name": "target_disability_hearing_impaired",
         "rawType": "float64",
         "type": "float"
        },
        {
         "name": "target_disability_unspecific",
         "rawType": "float64",
         "type": "float"
        },
        {
         "name": "target_disability_other",
         "rawType": "float64",
         "type": "float"
        },
        {
         "name": "target_disability",
         "rawType": "float64",
         "type": "float"
        }
       ],
       "conversionMethod": "pd.DataFrame",
       "ref": "a73d05be-5f2f-469a-990e-4cee5602a8a3",
       "rows": [
        [
         "count",
         "39565.0",
         "39565.0",
         "39565.0",
         "39565.0",
         "39565.0",
         "39565.0",
         "39565.0",
         "39565.0",
         "39565.0",
         "39565.0",
         "39565.0",
         "39565.0",
         "39565.0",
         "39565.0",
         "39565.0",
         "39565.0",
         "39565.0",
         "39565.0",
         "39565.0",
         "39565.0",
         "39565.0",
         "39565.0",
         "39565.0",
         "39565.0",
         "39565.0",
         "39565.0",
         "39565.0",
         "39565.0",
         "39565.0",
         "39565.0",
         "39565.0",
         "39565.0",
         "39565.0",
         "39565.0",
         "39565.0",
         "39565.0",
         "39565.0",
         "39565.0",
         "39565.0",
         "39565.0",
         "39565.0",
         "39565.0",
         "39565.0",
         "39565.0",
         "39565.0",
         "39565.0",
         "39565.0",
         "39565.0",
         "39565.0",
         "39565.0",
         "39565.0",
         "39565.0",
         "39565.0",
         "39565.0",
         "39565.0",
         "39565.0",
         "39565.0",
         "39565.0",
         "39565.0",
         "39565.0",
         "39565.0",
         "39565.0"
        ],
        [
         "mean",
         "25064.175028434223",
         "0.505197351111369",
         "0.2616959433843043",
         "2.4517071590317108",
         "2.1709257471169137",
         "2.560852314468322",
         "1.7000708904612594",
         "0.8254266660076863",
         "0.44881444148956",
         "0.036070228976888045",
         "0.12730507714586484",
         "0.04434127226347803",
         "0.05784099229386903",
         "0.017678076121496775",
         "0.014725551252581178",
         "0.07686462101183855",
         "0.03619906463238487",
         "0.2943278595346902",
         "0.010215031698938342",
         "0.007809037996423696",
         "0.05182311536080002",
         "0.013084324333707154",
         "0.032893946673130475",
         "0.009346207470405815",
         "0.06256166238552903",
         "0.021847728291495182",
         "0.15408337216939627",
         "0.052882051988061146",
         "0.014943723274295015",
         "0.11143878853445377",
         "0.03467256464342234",
         "0.01972688373700071",
         "0.17684195668786343",
         "0.10612894108368255",
         "0.01488665412237347",
         "0.02354617796979404",
         "0.02286349532472919",
         "0.01847442686157884",
         "0.250350043927413",
         "0.007260661925714646",
         "0.3529052058175123",
         "0.05513288064710027",
         "0.12291440279910666",
         "0.05599518924061481",
         "0.04688305871511987",
         "0.02054080246760708",
         "0.18325268251591026",
         "0.008059750300310177",
         "0.009575005887611487",
         "0.011481145465445432",
         "0.006634615822663282",
         "0.0056995153254483216",
         "0.0012155448618437203",
         "0.024744151065267898",
         "0.002986115126736809",
         "0.013871873099228884",
         "0.00609139083528927",
         "0.0011862263537700635",
         "0.001254067803854027",
         "0.0063394210665870965",
         "0.0023917949509324825",
         "0.0256755267226435"
        ],
        [
         "std",
         "14573.79033590097",
         "0.1416043242301531",
         "0.43956348814497076",
         "1.1855070215564025",
         "1.1474330853058126",
         "0.6992453057504127",
         "1.0980247855157088",
         "1.0001648521950386",
         "0.7658471604706713",
         "0.16109305893032225",
         "0.31246076497356357",
         "0.17770546296059678",
         "0.19045595405267401",
         "0.11099729229024097",
         "0.09971243340759871",
         "0.23895888906066565",
         "0.1493530370398831",
         "0.4173136290556822",
         "0.08733918265425694",
         "0.07352298057473496",
         "0.20423812479423253",
         "0.09705306512139618",
         "0.16087058198881465",
         "0.08044793240276746",
         "0.21971648945394612",
         "0.12100736198870297",
         "0.34195031793890884",
         "0.1942265641628941",
         "0.0979447976677729",
         "0.27614429455510486",
         "0.1604653357523848",
         "0.11017180358054879",
         "0.34690722109909145",
         "0.2736406330742378",
         "0.09716498187989722",
         "0.12157456376211243",
         "0.12429269865742643",
         "0.1068708651760808",
         "0.40624938836499763",
         "0.06959616170845401",
         "0.4460132637758659",
         "0.1964415487635216",
         "0.30927614087526",
         "0.20011464536644744",
         "0.17630056461980156",
         "0.11364799878652143",
         "0.36264665194512324",
         "0.07959121968647843",
         "0.0835052175318814",
         "0.09091244237247746",
         "0.06848920485493021",
         "0.06514456469202297",
         "0.02833019749838391",
         "0.13750019042169068",
         "0.046627287145471624",
         "0.10585094320188834",
         "0.06847197776946573",
         "0.029225071609861878",
         "0.03044607489918457",
         "0.06815124402226042",
         "0.04160227490608772",
         "0.14603858059289304"
        ],
        [
         "min",
         "1.0",
         "0.0",
         "0.0",
         "0.0",
         "0.0",
         "0.0",
         "0.0",
         "0.0",
         "0.0",
         "0.0",
         "0.0",
         "0.0",
         "0.0",
         "0.0",
         "0.0",
         "0.0",
         "0.0",
         "0.0",
         "0.0",
         "0.0",
         "0.0",
         "0.0",
         "0.0",
         "0.0",
         "0.0",
         "0.0",
         "0.0",
         "0.0",
         "0.0",
         "0.0",
         "0.0",
         "0.0",
         "0.0",
         "0.0",
         "0.0",
         "0.0",
         "0.0",
         "0.0",
         "0.0",
         "0.0",
         "0.0",
         "0.0",
         "0.0",
         "0.0",
         "0.0",
         "0.0",
         "0.0",
         "0.0",
         "0.0",
         "0.0",
         "0.0",
         "0.0",
         "0.0",
         "0.0",
         "0.0",
         "0.0",
         "0.0",
         "0.0",
         "0.0",
         "0.0",
         "0.0",
         "0.0"
        ],
        [
         "25%",
         "12336.0",
         "0.4105191256830601",
         "0.0",
         "1.6666666666666667",
         "1.3333333333333333",
         "2.0",
         "1.0",
         "0.0",
         "0.0",
         "0.0",
         "0.0",
         "0.0",
         "0.0",
         "0.0",
         "0.0",
         "0.0",
         "0.0",
         "0.0",
         "0.0",
         "0.0",
         "0.0",
         "0.0",
         "0.0",
         "0.0",
         "0.0",
         "0.0",
         "0.0",
         "0.0",
         "0.0",
         "0.0",
         "0.0",
         "0.0",
         "0.0",
         "0.0",
         "0.0",
         "0.0",
         "0.0",
         "0.0",
         "0.0",
         "0.0",
         "0.0",
         "0.0",
         "0.0",
         "0.0",
         "0.0",
         "0.0",
         "0.0",
         "0.0",
         "0.0",
         "0.0",
         "0.0",
         "0.0",
         "0.0",
         "0.0",
         "0.0",
         "0.0",
         "0.0",
         "0.0",
         "0.0",
         "0.0",
         "0.0",
         "0.0"
        ],
        [
         "50%",
         "24986.0",
         "0.5218579234972677",
         "0.0",
         "3.0",
         "2.3333333333333335",
         "2.5",
         "1.6666666666666667",
         "0.5",
         "0.0",
         "0.0",
         "0.0",
         "0.0",
         "0.0",
         "0.0",
         "0.0",
         "0.0",
         "0.0",
         "0.0",
         "0.0",
         "0.0",
         "0.0",
         "0.0",
         "0.0",
         "0.0",
         "0.0",
         "0.0",
         "0.0",
         "0.0",
         "0.0",
         "0.0",
         "0.0",
         "0.0",
         "0.0",
         "0.0",
         "0.0",
         "0.0",
         "0.0",
         "0.0",
         "0.0",
         "0.0",
         "0.0",
         "0.0",
         "0.0",
         "0.0",
         "0.0",
         "0.0",
         "0.0",
         "0.0",
         "0.0",
         "0.0",
         "0.0",
         "0.0",
         "0.0",
         "0.0",
         "0.0",
         "0.0",
         "0.0",
         "0.0",
         "0.0",
         "0.0",
         "0.0",
         "0.0"
        ],
        [
         "75%",
         "37837.0",
         "0.6086065573770492",
         "1.0",
         "3.3333333333333335",
         "3.0",
         "3.0",
         "2.5",
         "1.0",
         "0.5",
         "0.0",
         "0.0",
         "0.0",
         "0.0",
         "0.0",
         "0.0",
         "0.0",
         "0.0",
         "0.6666666666666666",
         "0.0",
         "0.0",
         "0.0",
         "0.0",
         "0.0",
         "0.0",
         "0.0",
         "0.0",
         "0.0",
         "0.0",
         "0.0",
         "0.0",
         "0.0",
         "0.0",
         "0.0",
         "0.0",
         "0.0",
         "0.0",
         "0.0",
         "0.0",
         "0.5",
         "0.0",
         "1.0",
         "0.0",
         "0.0",
         "0.0",
         "0.0",
         "0.0",
         "0.0",
         "0.0",
         "0.0",
         "0.0",
         "0.0",
         "0.0",
         "0.0",
         "0.0",
         "0.0",
         "0.0",
         "0.0",
         "0.0",
         "0.0",
         "0.0",
         "0.0",
         "0.0"
        ],
        [
         "max",
         "50070.0",
         "1.0",
         "1.0",
         "4.0",
         "4.0",
         "4.0",
         "4.0",
         "4.0",
         "4.0",
         "1.0",
         "1.0",
         "1.0",
         "1.0",
         "1.0",
         "1.0",
         "1.0",
         "1.0",
         "1.0",
         "1.0",
         "1.0",
         "1.0",
         "1.0",
         "1.0",
         "1.0",
         "1.0",
         "1.0",
         "1.0",
         "1.0",
         "1.0",
         "1.0",
         "1.0",
         "1.0",
         "1.0",
         "1.0",
         "1.0",
         "1.0",
         "1.0",
         "1.0",
         "1.0",
         "1.0",
         "1.0",
         "1.0",
         "1.0",
         "1.0",
         "1.0",
         "1.0",
         "1.0",
         "1.0",
         "1.0",
         "1.0",
         "1.0",
         "1.0",
         "1.0",
         "1.0",
         "1.0",
         "1.0",
         "1.0",
         "1.0",
         "1.0",
         "1.0",
         "1.0",
         "1.0"
        ]
       ],
       "shape": {
        "columns": 62,
        "rows": 8
       }
      },
      "text/html": [
       "<div>\n",
       "<style scoped>\n",
       "    .dataframe tbody tr th:only-of-type {\n",
       "        vertical-align: middle;\n",
       "    }\n",
       "\n",
       "    .dataframe tbody tr th {\n",
       "        vertical-align: top;\n",
       "    }\n",
       "\n",
       "    .dataframe thead th {\n",
       "        text-align: right;\n",
       "    }\n",
       "</style>\n",
       "<table border=\"1\" class=\"dataframe\">\n",
       "  <thead>\n",
       "    <tr style=\"text-align: right;\">\n",
       "      <th></th>\n",
       "      <th>comment_id</th>\n",
       "      <th>hate_speech_score</th>\n",
       "      <th>is_hate_speech</th>\n",
       "      <th>insult</th>\n",
       "      <th>humiliate</th>\n",
       "      <th>status</th>\n",
       "      <th>dehumanize</th>\n",
       "      <th>violence</th>\n",
       "      <th>genocide</th>\n",
       "      <th>target_race_asian</th>\n",
       "      <th>...</th>\n",
       "      <th>target_age_other</th>\n",
       "      <th>target_age</th>\n",
       "      <th>target_disability_physical</th>\n",
       "      <th>target_disability_cognitive</th>\n",
       "      <th>target_disability_neurological</th>\n",
       "      <th>target_disability_visually_impaired</th>\n",
       "      <th>target_disability_hearing_impaired</th>\n",
       "      <th>target_disability_unspecific</th>\n",
       "      <th>target_disability_other</th>\n",
       "      <th>target_disability</th>\n",
       "    </tr>\n",
       "  </thead>\n",
       "  <tbody>\n",
       "    <tr>\n",
       "      <th>count</th>\n",
       "      <td>39565.000000</td>\n",
       "      <td>39565.000000</td>\n",
       "      <td>39565.000000</td>\n",
       "      <td>39565.000000</td>\n",
       "      <td>39565.000000</td>\n",
       "      <td>39565.000000</td>\n",
       "      <td>39565.000000</td>\n",
       "      <td>39565.000000</td>\n",
       "      <td>39565.000000</td>\n",
       "      <td>39565.000000</td>\n",
       "      <td>...</td>\n",
       "      <td>39565.000000</td>\n",
       "      <td>39565.000000</td>\n",
       "      <td>39565.000000</td>\n",
       "      <td>39565.000000</td>\n",
       "      <td>39565.000000</td>\n",
       "      <td>39565.000000</td>\n",
       "      <td>39565.000000</td>\n",
       "      <td>39565.000000</td>\n",
       "      <td>39565.000000</td>\n",
       "      <td>39565.000000</td>\n",
       "    </tr>\n",
       "    <tr>\n",
       "      <th>mean</th>\n",
       "      <td>25064.175028</td>\n",
       "      <td>0.505197</td>\n",
       "      <td>0.261696</td>\n",
       "      <td>2.451707</td>\n",
       "      <td>2.170926</td>\n",
       "      <td>2.560852</td>\n",
       "      <td>1.700071</td>\n",
       "      <td>0.825427</td>\n",
       "      <td>0.448814</td>\n",
       "      <td>0.036070</td>\n",
       "      <td>...</td>\n",
       "      <td>0.001216</td>\n",
       "      <td>0.024744</td>\n",
       "      <td>0.002986</td>\n",
       "      <td>0.013872</td>\n",
       "      <td>0.006091</td>\n",
       "      <td>0.001186</td>\n",
       "      <td>0.001254</td>\n",
       "      <td>0.006339</td>\n",
       "      <td>0.002392</td>\n",
       "      <td>0.025676</td>\n",
       "    </tr>\n",
       "    <tr>\n",
       "      <th>std</th>\n",
       "      <td>14573.790336</td>\n",
       "      <td>0.141604</td>\n",
       "      <td>0.439563</td>\n",
       "      <td>1.185507</td>\n",
       "      <td>1.147433</td>\n",
       "      <td>0.699245</td>\n",
       "      <td>1.098025</td>\n",
       "      <td>1.000165</td>\n",
       "      <td>0.765847</td>\n",
       "      <td>0.161093</td>\n",
       "      <td>...</td>\n",
       "      <td>0.028330</td>\n",
       "      <td>0.137500</td>\n",
       "      <td>0.046627</td>\n",
       "      <td>0.105851</td>\n",
       "      <td>0.068472</td>\n",
       "      <td>0.029225</td>\n",
       "      <td>0.030446</td>\n",
       "      <td>0.068151</td>\n",
       "      <td>0.041602</td>\n",
       "      <td>0.146039</td>\n",
       "    </tr>\n",
       "    <tr>\n",
       "      <th>min</th>\n",
       "      <td>1.000000</td>\n",
       "      <td>0.000000</td>\n",
       "      <td>0.000000</td>\n",
       "      <td>0.000000</td>\n",
       "      <td>0.000000</td>\n",
       "      <td>0.000000</td>\n",
       "      <td>0.000000</td>\n",
       "      <td>0.000000</td>\n",
       "      <td>0.000000</td>\n",
       "      <td>0.000000</td>\n",
       "      <td>...</td>\n",
       "      <td>0.000000</td>\n",
       "      <td>0.000000</td>\n",
       "      <td>0.000000</td>\n",
       "      <td>0.000000</td>\n",
       "      <td>0.000000</td>\n",
       "      <td>0.000000</td>\n",
       "      <td>0.000000</td>\n",
       "      <td>0.000000</td>\n",
       "      <td>0.000000</td>\n",
       "      <td>0.000000</td>\n",
       "    </tr>\n",
       "    <tr>\n",
       "      <th>25%</th>\n",
       "      <td>12336.000000</td>\n",
       "      <td>0.410519</td>\n",
       "      <td>0.000000</td>\n",
       "      <td>1.666667</td>\n",
       "      <td>1.333333</td>\n",
       "      <td>2.000000</td>\n",
       "      <td>1.000000</td>\n",
       "      <td>0.000000</td>\n",
       "      <td>0.000000</td>\n",
       "      <td>0.000000</td>\n",
       "      <td>...</td>\n",
       "      <td>0.000000</td>\n",
       "      <td>0.000000</td>\n",
       "      <td>0.000000</td>\n",
       "      <td>0.000000</td>\n",
       "      <td>0.000000</td>\n",
       "      <td>0.000000</td>\n",
       "      <td>0.000000</td>\n",
       "      <td>0.000000</td>\n",
       "      <td>0.000000</td>\n",
       "      <td>0.000000</td>\n",
       "    </tr>\n",
       "    <tr>\n",
       "      <th>50%</th>\n",
       "      <td>24986.000000</td>\n",
       "      <td>0.521858</td>\n",
       "      <td>0.000000</td>\n",
       "      <td>3.000000</td>\n",
       "      <td>2.333333</td>\n",
       "      <td>2.500000</td>\n",
       "      <td>1.666667</td>\n",
       "      <td>0.500000</td>\n",
       "      <td>0.000000</td>\n",
       "      <td>0.000000</td>\n",
       "      <td>...</td>\n",
       "      <td>0.000000</td>\n",
       "      <td>0.000000</td>\n",
       "      <td>0.000000</td>\n",
       "      <td>0.000000</td>\n",
       "      <td>0.000000</td>\n",
       "      <td>0.000000</td>\n",
       "      <td>0.000000</td>\n",
       "      <td>0.000000</td>\n",
       "      <td>0.000000</td>\n",
       "      <td>0.000000</td>\n",
       "    </tr>\n",
       "    <tr>\n",
       "      <th>75%</th>\n",
       "      <td>37837.000000</td>\n",
       "      <td>0.608607</td>\n",
       "      <td>1.000000</td>\n",
       "      <td>3.333333</td>\n",
       "      <td>3.000000</td>\n",
       "      <td>3.000000</td>\n",
       "      <td>2.500000</td>\n",
       "      <td>1.000000</td>\n",
       "      <td>0.500000</td>\n",
       "      <td>0.000000</td>\n",
       "      <td>...</td>\n",
       "      <td>0.000000</td>\n",
       "      <td>0.000000</td>\n",
       "      <td>0.000000</td>\n",
       "      <td>0.000000</td>\n",
       "      <td>0.000000</td>\n",
       "      <td>0.000000</td>\n",
       "      <td>0.000000</td>\n",
       "      <td>0.000000</td>\n",
       "      <td>0.000000</td>\n",
       "      <td>0.000000</td>\n",
       "    </tr>\n",
       "    <tr>\n",
       "      <th>max</th>\n",
       "      <td>50070.000000</td>\n",
       "      <td>1.000000</td>\n",
       "      <td>1.000000</td>\n",
       "      <td>4.000000</td>\n",
       "      <td>4.000000</td>\n",
       "      <td>4.000000</td>\n",
       "      <td>4.000000</td>\n",
       "      <td>4.000000</td>\n",
       "      <td>4.000000</td>\n",
       "      <td>1.000000</td>\n",
       "      <td>...</td>\n",
       "      <td>1.000000</td>\n",
       "      <td>1.000000</td>\n",
       "      <td>1.000000</td>\n",
       "      <td>1.000000</td>\n",
       "      <td>1.000000</td>\n",
       "      <td>1.000000</td>\n",
       "      <td>1.000000</td>\n",
       "      <td>1.000000</td>\n",
       "      <td>1.000000</td>\n",
       "      <td>1.000000</td>\n",
       "    </tr>\n",
       "  </tbody>\n",
       "</table>\n",
       "<p>8 rows × 62 columns</p>\n",
       "</div>"
      ],
      "text/plain": [
       "         comment_id  hate_speech_score  is_hate_speech        insult  \\\n",
       "count  39565.000000       39565.000000    39565.000000  39565.000000   \n",
       "mean   25064.175028           0.505197        0.261696      2.451707   \n",
       "std    14573.790336           0.141604        0.439563      1.185507   \n",
       "min        1.000000           0.000000        0.000000      0.000000   \n",
       "25%    12336.000000           0.410519        0.000000      1.666667   \n",
       "50%    24986.000000           0.521858        0.000000      3.000000   \n",
       "75%    37837.000000           0.608607        1.000000      3.333333   \n",
       "max    50070.000000           1.000000        1.000000      4.000000   \n",
       "\n",
       "          humiliate        status    dehumanize      violence      genocide  \\\n",
       "count  39565.000000  39565.000000  39565.000000  39565.000000  39565.000000   \n",
       "mean       2.170926      2.560852      1.700071      0.825427      0.448814   \n",
       "std        1.147433      0.699245      1.098025      1.000165      0.765847   \n",
       "min        0.000000      0.000000      0.000000      0.000000      0.000000   \n",
       "25%        1.333333      2.000000      1.000000      0.000000      0.000000   \n",
       "50%        2.333333      2.500000      1.666667      0.500000      0.000000   \n",
       "75%        3.000000      3.000000      2.500000      1.000000      0.500000   \n",
       "max        4.000000      4.000000      4.000000      4.000000      4.000000   \n",
       "\n",
       "       target_race_asian  ...  target_age_other    target_age  \\\n",
       "count       39565.000000  ...      39565.000000  39565.000000   \n",
       "mean            0.036070  ...          0.001216      0.024744   \n",
       "std             0.161093  ...          0.028330      0.137500   \n",
       "min             0.000000  ...          0.000000      0.000000   \n",
       "25%             0.000000  ...          0.000000      0.000000   \n",
       "50%             0.000000  ...          0.000000      0.000000   \n",
       "75%             0.000000  ...          0.000000      0.000000   \n",
       "max             1.000000  ...          1.000000      1.000000   \n",
       "\n",
       "       target_disability_physical  target_disability_cognitive  \\\n",
       "count                39565.000000                 39565.000000   \n",
       "mean                     0.002986                     0.013872   \n",
       "std                      0.046627                     0.105851   \n",
       "min                      0.000000                     0.000000   \n",
       "25%                      0.000000                     0.000000   \n",
       "50%                      0.000000                     0.000000   \n",
       "75%                      0.000000                     0.000000   \n",
       "max                      1.000000                     1.000000   \n",
       "\n",
       "       target_disability_neurological  target_disability_visually_impaired  \\\n",
       "count                    39565.000000                         39565.000000   \n",
       "mean                         0.006091                             0.001186   \n",
       "std                          0.068472                             0.029225   \n",
       "min                          0.000000                             0.000000   \n",
       "25%                          0.000000                             0.000000   \n",
       "50%                          0.000000                             0.000000   \n",
       "75%                          0.000000                             0.000000   \n",
       "max                          1.000000                             1.000000   \n",
       "\n",
       "       target_disability_hearing_impaired  target_disability_unspecific  \\\n",
       "count                        39565.000000                  39565.000000   \n",
       "mean                             0.001254                      0.006339   \n",
       "std                              0.030446                      0.068151   \n",
       "min                              0.000000                      0.000000   \n",
       "25%                              0.000000                      0.000000   \n",
       "50%                              0.000000                      0.000000   \n",
       "75%                              0.000000                      0.000000   \n",
       "max                              1.000000                      1.000000   \n",
       "\n",
       "       target_disability_other  target_disability  \n",
       "count             39565.000000       39565.000000  \n",
       "mean                  0.002392           0.025676  \n",
       "std                   0.041602           0.146039  \n",
       "min                   0.000000           0.000000  \n",
       "25%                   0.000000           0.000000  \n",
       "50%                   0.000000           0.000000  \n",
       "75%                   0.000000           0.000000  \n",
       "max                   1.000000           1.000000  \n",
       "\n",
       "[8 rows x 62 columns]"
      ]
     },
     "execution_count": 62,
     "metadata": {},
     "output_type": "execute_result"
    }
   ],
   "source": [
    "filtered_df.describe()"
   ]
  },
  {
   "cell_type": "code",
   "execution_count": 63,
   "id": "f882c1a0",
   "metadata": {},
   "outputs": [
    {
     "name": "stdout",
     "output_type": "stream",
     "text": [
      "<class 'pandas.core.frame.DataFrame'>\n",
      "RangeIndex: 39565 entries, 0 to 39564\n",
      "Data columns (total 63 columns):\n",
      " #   Column                                 Non-Null Count  Dtype  \n",
      "---  ------                                 --------------  -----  \n",
      " 0   comment_id                             39565 non-null  int32  \n",
      " 1   text                                   39565 non-null  object \n",
      " 2   hate_speech_score                      39565 non-null  float64\n",
      " 3   is_hate_speech                         39565 non-null  int64  \n",
      " 4   insult                                 39565 non-null  float64\n",
      " 5   humiliate                              39565 non-null  float64\n",
      " 6   status                                 39565 non-null  float64\n",
      " 7   dehumanize                             39565 non-null  float64\n",
      " 8   violence                               39565 non-null  float64\n",
      " 9   genocide                               39565 non-null  float64\n",
      " 10  target_race_asian                      39565 non-null  float64\n",
      " 11  target_race_black                      39565 non-null  float64\n",
      " 12  target_race_latinx                     39565 non-null  float64\n",
      " 13  target_race_middle_eastern             39565 non-null  float64\n",
      " 14  target_race_native_american            39565 non-null  float64\n",
      " 15  target_race_pacific_islander           39565 non-null  float64\n",
      " 16  target_race_white                      39565 non-null  float64\n",
      " 17  target_race_other                      39565 non-null  float64\n",
      " 18  target_race                            39565 non-null  float64\n",
      " 19  target_religion_atheist                39565 non-null  float64\n",
      " 20  target_religion_buddhist               39565 non-null  float64\n",
      " 21  target_religion_christian              39565 non-null  float64\n",
      " 22  target_religion_hindu                  39565 non-null  float64\n",
      " 23  target_religion_jewish                 39565 non-null  float64\n",
      " 24  target_religion_mormon                 39565 non-null  float64\n",
      " 25  target_religion_muslim                 39565 non-null  float64\n",
      " 26  target_religion_other                  39565 non-null  float64\n",
      " 27  target_religion                        39565 non-null  float64\n",
      " 28  target_origin_immigrant                39565 non-null  float64\n",
      " 29  target_origin_migrant_worker           39565 non-null  float64\n",
      " 30  target_origin_specific_country         39565 non-null  float64\n",
      " 31  target_origin_undocumented             39565 non-null  float64\n",
      " 32  target_origin_other                    39565 non-null  float64\n",
      " 33  target_origin                          39565 non-null  float64\n",
      " 34  target_gender_men                      39565 non-null  float64\n",
      " 35  target_gender_non_binary               39565 non-null  float64\n",
      " 36  target_gender_transgender_men          39565 non-null  float64\n",
      " 37  target_gender_transgender_unspecified  39565 non-null  float64\n",
      " 38  target_gender_transgender_women        39565 non-null  float64\n",
      " 39  target_gender_women                    39565 non-null  float64\n",
      " 40  target_gender_other                    39565 non-null  float64\n",
      " 41  target_gender                          39565 non-null  float64\n",
      " 42  target_sexuality_bisexual              39565 non-null  float64\n",
      " 43  target_sexuality_gay                   39565 non-null  float64\n",
      " 44  target_sexuality_lesbian               39565 non-null  float64\n",
      " 45  target_sexuality_straight              39565 non-null  float64\n",
      " 46  target_sexuality_other                 39565 non-null  float64\n",
      " 47  target_sexuality                       39565 non-null  float64\n",
      " 48  target_age_children                    39565 non-null  float64\n",
      " 49  target_age_teenagers                   39565 non-null  float64\n",
      " 50  target_age_young_adults                39565 non-null  float64\n",
      " 51  target_age_middle_aged                 39565 non-null  float64\n",
      " 52  target_age_seniors                     39565 non-null  float64\n",
      " 53  target_age_other                       39565 non-null  float64\n",
      " 54  target_age                             39565 non-null  float64\n",
      " 55  target_disability_physical             39565 non-null  float64\n",
      " 56  target_disability_cognitive            39565 non-null  float64\n",
      " 57  target_disability_neurological         39565 non-null  float64\n",
      " 58  target_disability_visually_impaired    39565 non-null  float64\n",
      " 59  target_disability_hearing_impaired     39565 non-null  float64\n",
      " 60  target_disability_unspecific           39565 non-null  float64\n",
      " 61  target_disability_other                39565 non-null  float64\n",
      " 62  target_disability                      39565 non-null  float64\n",
      "dtypes: float64(60), int32(1), int64(1), object(1)\n",
      "memory usage: 18.9+ MB\n"
     ]
    }
   ],
   "source": [
    "filtered_df.info()"
   ]
  },
  {
   "cell_type": "markdown",
   "id": "2c34e919",
   "metadata": {},
   "source": [
    "### 2.3. Post-filtering EDA"
   ]
  },
  {
   "cell_type": "code",
   "execution_count": 64,
   "id": "35914d70",
   "metadata": {},
   "outputs": [
    {
     "name": "stdout",
     "output_type": "stream",
     "text": [
      "Total count: 39565\n",
      "Supportive count: 17475 (44.17%)\n",
      "Hate count: 10354 (26.17%)\n",
      "Neutral count: 11736 (29.66%)\n"
     ]
    },
    {
     "data": {
      "image/png": "[encoded data removed]",
      "text/plain": [
       "<Figure size 640x480 with 1 Axes>"
      ]
     },
     "metadata": {},
     "output_type": "display_data"
    }
   ],
   "source": [
    "plot_hate_speech_score_histogram(filtered_df, HATE_SPEECH_THRESHOLD_NORMALIZED, SUPPORTIVE_THRESHOLD_NORMALIZED)"
   ]
  },
  {
   "cell_type": "code",
   "execution_count": 65,
   "id": "a3c1d9a5",
   "metadata": {},
   "outputs": [
    {
     "data": {
      "image/png": "[encoded data removed]",
      "text/plain": [
       "<Figure size 1000x600 with 1 Axes>"
      ]
     },
     "metadata": {},
     "output_type": "display_data"
    },
    {
     "data": {
      "image/png": "[encoded data removed]",
      "text/plain": [
       "<Figure size 1500x3000 with 8 Axes>"
      ]
     },
     "metadata": {},
     "output_type": "display_data"
    }
   ],
   "source": [
    "plot_target_columns_distribution(filtered_df, target_cols_lvl1)\n",
    "plot_target_columns_detailed(filtered_df, target_cols_lvl1)"
   ]
  },
  {
   "cell_type": "code",
   "execution_count": 66,
   "id": "565c8d3b",
   "metadata": {},
   "outputs": [
    {
     "data": {
      "image/png": "[encoded data removed]",
      "text/plain": [
       "<Figure size 1000x800 with 2 Axes>"
      ]
     },
     "metadata": {},
     "output_type": "display_data"
    },
    {
     "data": {
      "image/png": "[encoded data removed]",
      "text/plain": [
       "<Figure size 1750x1750 with 56 Axes>"
      ]
     },
     "metadata": {},
     "output_type": "display_data"
    }
   ],
   "source": [
    "inspect_for_cor(filtered_df, target_cols_lvl1, 'Target Columns')"
   ]
  },
  {
   "cell_type": "code",
   "execution_count": null,
   "id": "ceb6bde4",
   "metadata": {},
   "outputs": [
    {
     "name": "stdout",
     "output_type": "stream",
     "text": [
      "Before sampling:\n",
      "label\n",
      "0    17475\n",
      "1    10354\n",
      "Name: count, dtype: int64\n",
      "\n",
      "After sampling:\n",
      "label\n",
      "0    10354\n",
      "1    10354\n",
      "Name: count, dtype: int64\n"
     ]
    }
   ],
   "source": [
    "# Binary labels\n",
    "filtered_df[\"is_supportive\"] = (\n",
    "    filtered_df[\"hate_speech_score\"] < SUPPORTIVE_THRESHOLD_NORMALIZED\n",
    ").astype(int)\n",
    "\n",
    "# Keep only hate (1) or supportive (0); drop neutral rows\n",
    "df_binary = filtered_df.loc[\n",
    "    (filtered_df[\"is_hate_speech\"] == 1) | (filtered_df[\"is_supportive\"] == 1),\n",
    "    [\"comment_id\", \"text\", \"is_hate_speech\", \"is_supportive\"]\n",
    "].copy()\n",
    "\n",
    "# Single label column: 1 = hate, 0 = supportive\n",
    "df_binary[\"label\"] = df_binary[\"is_hate_speech\"]\n",
    "\n",
    "print(\"Before sampling:\")\n",
    "print(df_binary[\"label\"].value_counts())\n",
    "\n",
    "# Random under-sampling\n",
    "# Splitting by class\n",
    "df_hate = df_binary[df_binary[\"label\"] == 1]\n",
    "df_sup  = df_binary[df_binary[\"label\"] == 0]\n",
    "\n",
    "# Size of minority class\n",
    "n_samples = min(len(df_hate), len(df_sup))\n",
    "\n",
    "# Under-sample the majority\n",
    "df_hate_down = resample(\n",
    "    df_hate, replace=False, n_samples=n_samples, random_state=42\n",
    ")\n",
    "df_sup_down = resample(\n",
    "    df_sup,  replace=False, n_samples=n_samples, random_state=42\n",
    ")\n",
    "\n",
    "# Combine & shuffle\n",
    "df_balanced = pd.concat([df_hate_down, df_sup_down]).sample(\n",
    "    frac=1, random_state=42\n",
    ").reset_index(drop=True)\n",
    "\n",
    "print(\"\\nAfter sampling:\")\n",
    "print(df_balanced[\"label\"].value_counts())\n"
   ]
  },
  {
   "cell_type": "code",
   "execution_count": 68,
   "id": "6646cb0a",
   "metadata": {},
   "outputs": [],
   "source": [
    "X = df_balanced[\"text\"]\n",
    "y = df_balanced[\"label\"]\n",
    "\n",
    "X_train, X_test, y_train, y_test = train_test_split(\n",
    "    X, y,\n",
    "    train_size=TRAIN_RATIO,\n",
    "    stratify=y,          # keeps 50/50 in each split\n",
    "    random_state=42\n",
    ")"
   ]
  },
  {
   "cell_type": "code",
   "execution_count": null,
   "id": "659690ea",
   "metadata": {},
   "outputs": [
    {
     "name": "stdout",
     "output_type": "stream",
     "text": [
      "\n",
      "Balanced label distribution:\n",
      "is_hate_speech\n",
      "0    10354\n",
      "1    10354\n",
      "Name: count, dtype: int64\n"
     ]
    }
   ],
   "source": [
    "df_balanced = df_balanced.drop(columns=\"label\")\n",
    "\n",
    "# Overwriting the old dataframe \n",
    "filtered_df = df_balanced.reset_index(drop=True)\n",
    "\n",
    "# Verification of the sampling\n",
    "print(\"\\nBalanced label distribution:\")\n",
    "print(filtered_df[\"is_hate_speech\"].value_counts())\n"
   ]
  },
  {
   "cell_type": "markdown",
   "id": "59dc0b7c",
   "metadata": {},
   "source": [
    "# 3. Models"
   ]
  },
  {
   "cell_type": "markdown",
   "id": "0f2a48fc",
   "metadata": {},
   "source": [
    "### 3.0 Function & Class definitions"
   ]
  },
  {
   "cell_type": "code",
   "execution_count": 70,
   "id": "99bbe327",
   "metadata": {},
   "outputs": [],
   "source": [
    "def append_results(results: list, report: dict, model_name: str, metrics: list[str]):\n",
    "    \n",
    "    append_dict = {}\n",
    "\n",
    "    for metric in metrics:\n",
    "        append_dict[f'{metric}_hate'] = report['1'][metric]\n",
    "        append_dict[f'{metric}_non_hate'] = report['0'][metric]\n",
    "        append_dict[f'{metric}_macro_avg'] = report['macro avg'][metric]\n",
    "        append_dict[f'{metric}_weighted_avg'] = report['weighted avg'][metric]\n",
    "\n",
    "    append_dict['accuracy'] = report['accuracy']\n",
    "\n",
    "    results.append({\n",
    "        'model': model_name,\n",
    "        **append_dict\n",
    "    })\n",
    "\n",
    "def get_wordnet_pos(tag):\n",
    "    \"\"\"\n",
    "    Convert the part of speech tag to a format that WordNet lemmatizer can understand.\n",
    "    starts with 'J' for adjectives, 'V' for verbs, 'N' for nouns, and 'R' for adverbs.\n",
    "    Args:\n",
    "        tag (str): The part of speech tag.\n",
    "    Returns:\n",
    "        str: The WordNet part of speech tag.\n",
    "    \"\"\"\n",
    "    if tag.startswith('J'):\n",
    "        return wordnet.ADJ\n",
    "    elif tag.startswith('V'):\n",
    "        return wordnet.VERB\n",
    "    elif tag.startswith('N'):\n",
    "        return wordnet.NOUN\n",
    "    elif tag.startswith('R'):\n",
    "        return wordnet.ADV\n",
    "    else:\n",
    "        return wordnet.NOUN\n",
    "    \n",
    "def is_ascii(token):\n",
    "    return all(ord(c) < 128 for c in token)\n",
    "\n",
    "def remove_repeated_chars(token, threshold=3):\n",
    "    return re.sub(r'(.)\\1{' + str(threshold) + r',}', r'\\1', token)\n",
    "\n",
    "def bow_preprocess(text):\n",
    "    \"\"\"\n",
    "    Preprocess the text by tokenizing, removing punctuation, stop words,\n",
    "    and lemmatizing the words.\n",
    "    Args:\n",
    "        text (str): The text to preprocess.\n",
    "    Returns:\n",
    "        str: The preprocessed text.\n",
    "    Example:\n",
    "        >>> preprocess(\"This is an EXAMPLE sentence!!!.\")\n",
    "        'example sentence'\n",
    "        \n",
    "    \"\"\"\n",
    "    tokens = tknzr.tokenize(text) # Tokenize the text\n",
    "    tokens = [word.lower() for word in tokens if word not in string.punctuation] # Remove punctuation\n",
    "    tokens = [word for word in tokens if word not in stop_words] # Remove stop words\n",
    "    tokens = [remove_repeated_chars(word) for word in tokens] # Remove repeated characters, ex: \"loooove\" -> \"love\"\n",
    "    tokens = [word for word in tokens if len(word) >= 2 and is_ascii(word)]  # Filter by length and ASCII\n",
    "    pos_tags = pos_tag(tokens) # Get part of speech tags\n",
    "    lemmatized = [lemmatizer.lemmatize(word, get_wordnet_pos(pos)) for word, pos in pos_tags] # Lemmatize the words using the part of speech tags\n",
    "    return \" \".join(lemmatized)\n",
    "\n",
    "def stream_batches(texts, labels, batch_size=32, max_length=256):\n",
    "    \"\"\"\n",
    "    Streams batches into SGD classifier\n",
    "\n",
    "    Args:\n",
    "        texts (pd.Series): The texts to stream\n",
    "        labels (pd.Series): The labels to stream\n",
    "        batch_size (int): The batch size\n",
    "        max_length (int): The maximum length of the texts\n",
    "    \n",
    "    Returns:\n",
    "        generator: A generator of batches\n",
    "    \"\"\"\n",
    "    n = len(texts)\n",
    "    n_batches = ceil(n / batch_size)\n",
    "\n",
    "    # Iterate over the batches to yield them one by one\n",
    "    for i in range(n_batches):\n",
    "        batch_texts = texts.iloc[i*batch_size:(i+1)*batch_size].tolist()\n",
    "        batch_labels = labels.iloc[i*batch_size:(i+1)*batch_size].values\n",
    "        \n",
    "        # dynamic padding + truncation\n",
    "        enc = bert_tokenizer(\n",
    "            batch_texts,\n",
    "            padding=True,\n",
    "            truncation=True,\n",
    "            max_length=max_length,\n",
    "            return_tensors=\"pt\"\n",
    "        )\n",
    "        yield enc[\"input_ids\"], enc[\"attention_mask\"], batch_labels\n"
   ]
  },
  {
   "cell_type": "code",
   "execution_count": 71,
   "id": "ca5db4cd",
   "metadata": {},
   "outputs": [],
   "source": [
    "class BOWTextPreprocessor(BaseEstimator, TransformerMixin):\n",
    "    def fit(self, X, y=None):\n",
    "        return self\n",
    "    \n",
    "    def transform(self, X):\n",
    "        return X.progress_apply(bow_preprocess)"
   ]
  },
  {
   "cell_type": "markdown",
   "id": "c5a64241",
   "metadata": {},
   "source": [
    "### 3.1. BoW + Logistic Regression"
   ]
  },
  {
   "cell_type": "code",
   "execution_count": 72,
   "id": "f67b6a5a",
   "metadata": {},
   "outputs": [],
   "source": [
    "# Dataframe for Bag of Words (BoW) representation\n",
    "bow_df = filtered_df.copy()\n",
    "\n",
    "# Releveant columns\n",
    "bow_cols = ['text', 'is_hate_speech']\n",
    "\n",
    "# Select relevant columns\n",
    "bow_df = bow_df[bow_cols]\n"
   ]
  },
  {
   "cell_type": "code",
   "execution_count": 73,
   "id": "8dc79ccb",
   "metadata": {},
   "outputs": [
    {
     "name": "stdout",
     "output_type": "stream",
     "text": [
      "Label Counts:\n",
      "is_hate_speech\n",
      "0    10354\n",
      "1    10354\n",
      "Name: count, dtype: int64\n",
      "\n",
      "Label Percentage Distribution:\n",
      "is_hate_speech\n",
      "0    50.0\n",
      "1    50.0\n",
      "Name: proportion, dtype: float64\n"
     ]
    }
   ],
   "source": [
    "label_counts = bow_df['is_hate_speech'].value_counts()\n",
    "label_percentage = bow_df['is_hate_speech'].value_counts(normalize=True) * 100\n",
    "\n",
    "print(\"Label Counts:\")\n",
    "print(label_counts)\n",
    "print(\"\\nLabel Percentage Distribution:\")\n",
    "print(label_percentage)"
   ]
  },
  {
   "cell_type": "markdown",
   "id": "c36de96e",
   "metadata": {},
   "source": [
    "##### 3.1.1 Data preprocessing"
   ]
  },
  {
   "cell_type": "markdown",
   "id": "43eb1c6f",
   "metadata": {},
   "source": [
    "TODO: Maybe remove preprocessing from pipepine to just have it done once for \"Part 2\" of Assignment 3 approach"
   ]
  },
  {
   "cell_type": "code",
   "execution_count": 74,
   "id": "76203444",
   "metadata": {},
   "outputs": [],
   "source": [
    "# Download necessary NLTK resources\n",
    "for resource in ['punkt', 'stopwords', 'wordnet', 'averaged_perceptron_tagger_eng']:\n",
    "    nltk.download(resource, quiet=True)\n",
    "\n",
    "# Tokenizer\n",
    "tknzr = TweetTokenizer()\n",
    "stop_words = set(stopwords.words('english'))\n",
    "lemmatizer = WordNetLemmatizer()\n",
    "\n"
   ]
  },
  {
   "cell_type": "code",
   "execution_count": 75,
   "id": "51bf864d",
   "metadata": {},
   "outputs": [],
   "source": [
    "bow_pipeline = Pipeline([\n",
    "    ('preprocessor', BOWTextPreprocessor()),\n",
    "    ('vectorizer', CountVectorizer()),\n",
    "    ('classifier', LogisticRegression(class_weight='balanced'))\n",
    "])"
   ]
  },
  {
   "cell_type": "code",
   "execution_count": 76,
   "id": "4d9e567e",
   "metadata": {},
   "outputs": [],
   "source": [
    "X = bow_df['text']\n",
    "y = bow_df['is_hate_speech']\n",
    "\n",
    "X_train, X_test, y_train, y_test = train_test_split(X, y, test_size=TEST_RATIO, random_state=42)\n"
   ]
  },
  {
   "cell_type": "markdown",
   "id": "264239dd",
   "metadata": {},
   "source": [
    "##### 3.1.2. Fit model to training set - BoW + LogReg"
   ]
  },
  {
   "cell_type": "code",
   "execution_count": 77,
   "id": "c03a74ff",
   "metadata": {},
   "outputs": [
    {
     "name": "stderr",
     "output_type": "stream",
     "text": [
      "100%|██████████| 16566/16566 [00:06<00:00, 2747.62it/s]\n"
     ]
    },
    {
     "data": {
      "text/html": [
       "<style>#sk-container-id-3 {\n",
       "  /* Definition of color scheme common for light and dark mode */\n",
       "  --sklearn-color-text: #000;\n",
       "  --sklearn-color-text-muted: #666;\n",
       "  --sklearn-color-line: gray;\n",
       "  /* Definition of color scheme for unfitted estimators */\n",
       "  --sklearn-color-unfitted-level-0: #fff5e6;\n",
       "  --sklearn-color-unfitted-level-1: #f6e4d2;\n",
       "  --sklearn-color-unfitted-level-2: #ffe0b3;\n",
       "  --sklearn-color-unfitted-level-3: chocolate;\n",
       "  /* Definition of color scheme for fitted estimators */\n",
       "  --sklearn-color-fitted-level-0: #f0f8ff;\n",
       "  --sklearn-color-fitted-level-1: #d4ebff;\n",
       "  --sklearn-color-fitted-level-2: #b3dbfd;\n",
       "  --sklearn-color-fitted-level-3: cornflowerblue;\n",
       "\n",
       "  /* Specific color for light theme */\n",
       "  --sklearn-color-text-on-default-background: var(--sg-text-color, var(--theme-code-foreground, var(--jp-content-font-color1, black)));\n",
       "  --sklearn-color-background: var(--sg-background-color, var(--theme-background, var(--jp-layout-color0, white)));\n",
       "  --sklearn-color-border-box: var(--sg-text-color, var(--theme-code-foreground, var(--jp-content-font-color1, black)));\n",
       "  --sklearn-color-icon: #696969;\n",
       "\n",
       "  @media (prefers-color-scheme: dark) {\n",
       "    /* Redefinition of color scheme for dark theme */\n",
       "    --sklearn-color-text-on-default-background: var(--sg-text-color, var(--theme-code-foreground, var(--jp-content-font-color1, white)));\n",
       "    --sklearn-color-background: var(--sg-background-color, var(--theme-background, var(--jp-layout-color0, #111)));\n",
       "    --sklearn-color-border-box: var(--sg-text-color, var(--theme-code-foreground, var(--jp-content-font-color1, white)));\n",
       "    --sklearn-color-icon: #878787;\n",
       "  }\n",
       "}\n",
       "\n",
       "#sk-container-id-3 {\n",
       "  color: var(--sklearn-color-text);\n",
       "}\n",
       "\n",
       "#sk-container-id-3 pre {\n",
       "  padding: 0;\n",
       "}\n",
       "\n",
       "#sk-container-id-3 input.sk-hidden--visually {\n",
       "  border: 0;\n",
       "  clip: rect(1px 1px 1px 1px);\n",
       "  clip: rect(1px, 1px, 1px, 1px);\n",
       "  height: 1px;\n",
       "  margin: -1px;\n",
       "  overflow: hidden;\n",
       "  padding: 0;\n",
       "  position: absolute;\n",
       "  width: 1px;\n",
       "}\n",
       "\n",
       "#sk-container-id-3 div.sk-dashed-wrapped {\n",
       "  border: 1px dashed var(--sklearn-color-line);\n",
       "  margin: 0 0.4em 0.5em 0.4em;\n",
       "  box-sizing: border-box;\n",
       "  padding-bottom: 0.4em;\n",
       "  background-color: var(--sklearn-color-background);\n",
       "}\n",
       "\n",
       "#sk-container-id-3 div.sk-container {\n",
       "  /* jupyter's `normalize.less` sets `[hidden] { display: none; }`\n",
       "     but bootstrap.min.css set `[hidden] { display: none !important; }`\n",
       "     so we also need the `!important` here to be able to override the\n",
       "     default hidden behavior on the sphinx rendered scikit-learn.org.\n",
       "     See: https://github.com/scikit-learn/scikit-learn/issues/21755 */\n",
       "  display: inline-block !important;\n",
       "  position: relative;\n",
       "}\n",
       "\n",
       "#sk-container-id-3 div.sk-text-repr-fallback {\n",
       "  display: none;\n",
       "}\n",
       "\n",
       "div.sk-parallel-item,\n",
       "div.sk-serial,\n",
       "div.sk-item {\n",
       "  /* draw centered vertical line to link estimators */\n",
       "  background-image: linear-gradient(var(--sklearn-color-text-on-default-background), var(--sklearn-color-text-on-default-background));\n",
       "  background-size: 2px 100%;\n",
       "  background-repeat: no-repeat;\n",
       "  background-position: center center;\n",
       "}\n",
       "\n",
       "/* Parallel-specific style estimator block */\n",
       "\n",
       "#sk-container-id-3 div.sk-parallel-item::after {\n",
       "  content: \"\";\n",
       "  width: 100%;\n",
       "  border-bottom: 2px solid var(--sklearn-color-text-on-default-background);\n",
       "  flex-grow: 1;\n",
       "}\n",
       "\n",
       "#sk-container-id-3 div.sk-parallel {\n",
       "  display: flex;\n",
       "  align-items: stretch;\n",
       "  justify-content: center;\n",
       "  background-color: var(--sklearn-color-background);\n",
       "  position: relative;\n",
       "}\n",
       "\n",
       "#sk-container-id-3 div.sk-parallel-item {\n",
       "  display: flex;\n",
       "  flex-direction: column;\n",
       "}\n",
       "\n",
       "#sk-container-id-3 div.sk-parallel-item:first-child::after {\n",
       "  align-self: flex-end;\n",
       "  width: 50%;\n",
       "}\n",
       "\n",
       "#sk-container-id-3 div.sk-parallel-item:last-child::after {\n",
       "  align-self: flex-start;\n",
       "  width: 50%;\n",
       "}\n",
       "\n",
       "#sk-container-id-3 div.sk-parallel-item:only-child::after {\n",
       "  width: 0;\n",
       "}\n",
       "\n",
       "/* Serial-specific style estimator block */\n",
       "\n",
       "#sk-container-id-3 div.sk-serial {\n",
       "  display: flex;\n",
       "  flex-direction: column;\n",
       "  align-items: center;\n",
       "  background-color: var(--sklearn-color-background);\n",
       "  padding-right: 1em;\n",
       "  padding-left: 1em;\n",
       "}\n",
       "\n",
       "\n",
       "/* Toggleable style: style used for estimator/Pipeline/ColumnTransformer box that is\n",
       "clickable and can be expanded/collapsed.\n",
       "- Pipeline and ColumnTransformer use this feature and define the default style\n",
       "- Estimators will overwrite some part of the style using the `sk-estimator` class\n",
       "*/\n",
       "\n",
       "/* Pipeline and ColumnTransformer style (default) */\n",
       "\n",
       "#sk-container-id-3 div.sk-toggleable {\n",
       "  /* Default theme specific background. It is overwritten whether we have a\n",
       "  specific estimator or a Pipeline/ColumnTransformer */\n",
       "  background-color: var(--sklearn-color-background);\n",
       "}\n",
       "\n",
       "/* Toggleable label */\n",
       "#sk-container-id-3 label.sk-toggleable__label {\n",
       "  cursor: pointer;\n",
       "  display: flex;\n",
       "  width: 100%;\n",
       "  margin-bottom: 0;\n",
       "  padding: 0.5em;\n",
       "  box-sizing: border-box;\n",
       "  text-align: center;\n",
       "  align-items: start;\n",
       "  justify-content: space-between;\n",
       "  gap: 0.5em;\n",
       "}\n",
       "\n",
       "#sk-container-id-3 label.sk-toggleable__label .caption {\n",
       "  font-size: 0.6rem;\n",
       "  font-weight: lighter;\n",
       "  color: var(--sklearn-color-text-muted);\n",
       "}\n",
       "\n",
       "#sk-container-id-3 label.sk-toggleable__label-arrow:before {\n",
       "  /* Arrow on the left of the label */\n",
       "  content: \"▸\";\n",
       "  float: left;\n",
       "  margin-right: 0.25em;\n",
       "  color: var(--sklearn-color-icon);\n",
       "}\n",
       "\n",
       "#sk-container-id-3 label.sk-toggleable__label-arrow:hover:before {\n",
       "  color: var(--sklearn-color-text);\n",
       "}\n",
       "\n",
       "/* Toggleable content - dropdown */\n",
       "\n",
       "#sk-container-id-3 div.sk-toggleable__content {\n",
       "  max-height: 0;\n",
       "  max-width: 0;\n",
       "  overflow: hidden;\n",
       "  text-align: left;\n",
       "  /* unfitted */\n",
       "  background-color: var(--sklearn-color-unfitted-level-0);\n",
       "}\n",
       "\n",
       "#sk-container-id-3 div.sk-toggleable__content.fitted {\n",
       "  /* fitted */\n",
       "  background-color: var(--sklearn-color-fitted-level-0);\n",
       "}\n",
       "\n",
       "#sk-container-id-3 div.sk-toggleable__content pre {\n",
       "  margin: 0.2em;\n",
       "  border-radius: 0.25em;\n",
       "  color: var(--sklearn-color-text);\n",
       "  /* unfitted */\n",
       "  background-color: var(--sklearn-color-unfitted-level-0);\n",
       "}\n",
       "\n",
       "#sk-container-id-3 div.sk-toggleable__content.fitted pre {\n",
       "  /* unfitted */\n",
       "  background-color: var(--sklearn-color-fitted-level-0);\n",
       "}\n",
       "\n",
       "#sk-container-id-3 input.sk-toggleable__control:checked~div.sk-toggleable__content {\n",
       "  /* Expand drop-down */\n",
       "  max-height: 200px;\n",
       "  max-width: 100%;\n",
       "  overflow: auto;\n",
       "}\n",
       "\n",
       "#sk-container-id-3 input.sk-toggleable__control:checked~label.sk-toggleable__label-arrow:before {\n",
       "  content: \"▾\";\n",
       "}\n",
       "\n",
       "/* Pipeline/ColumnTransformer-specific style */\n",
       "\n",
       "#sk-container-id-3 div.sk-label input.sk-toggleable__control:checked~label.sk-toggleable__label {\n",
       "  color: var(--sklearn-color-text);\n",
       "  background-color: var(--sklearn-color-unfitted-level-2);\n",
       "}\n",
       "\n",
       "#sk-container-id-3 div.sk-label.fitted input.sk-toggleable__control:checked~label.sk-toggleable__label {\n",
       "  background-color: var(--sklearn-color-fitted-level-2);\n",
       "}\n",
       "\n",
       "/* Estimator-specific style */\n",
       "\n",
       "/* Colorize estimator box */\n",
       "#sk-container-id-3 div.sk-estimator input.sk-toggleable__control:checked~label.sk-toggleable__label {\n",
       "  /* unfitted */\n",
       "  background-color: var(--sklearn-color-unfitted-level-2);\n",
       "}\n",
       "\n",
       "#sk-container-id-3 div.sk-estimator.fitted input.sk-toggleable__control:checked~label.sk-toggleable__label {\n",
       "  /* fitted */\n",
       "  background-color: var(--sklearn-color-fitted-level-2);\n",
       "}\n",
       "\n",
       "#sk-container-id-3 div.sk-label label.sk-toggleable__label,\n",
       "#sk-container-id-3 div.sk-label label {\n",
       "  /* The background is the default theme color */\n",
       "  color: var(--sklearn-color-text-on-default-background);\n",
       "}\n",
       "\n",
       "/* On hover, darken the color of the background */\n",
       "#sk-container-id-3 div.sk-label:hover label.sk-toggleable__label {\n",
       "  color: var(--sklearn-color-text);\n",
       "  background-color: var(--sklearn-color-unfitted-level-2);\n",
       "}\n",
       "\n",
       "/* Label box, darken color on hover, fitted */\n",
       "#sk-container-id-3 div.sk-label.fitted:hover label.sk-toggleable__label.fitted {\n",
       "  color: var(--sklearn-color-text);\n",
       "  background-color: var(--sklearn-color-fitted-level-2);\n",
       "}\n",
       "\n",
       "/* Estimator label */\n",
       "\n",
       "#sk-container-id-3 div.sk-label label {\n",
       "  font-family: monospace;\n",
       "  font-weight: bold;\n",
       "  display: inline-block;\n",
       "  line-height: 1.2em;\n",
       "}\n",
       "\n",
       "#sk-container-id-3 div.sk-label-container {\n",
       "  text-align: center;\n",
       "}\n",
       "\n",
       "/* Estimator-specific */\n",
       "#sk-container-id-3 div.sk-estimator {\n",
       "  font-family: monospace;\n",
       "  border: 1px dotted var(--sklearn-color-border-box);\n",
       "  border-radius: 0.25em;\n",
       "  box-sizing: border-box;\n",
       "  margin-bottom: 0.5em;\n",
       "  /* unfitted */\n",
       "  background-color: var(--sklearn-color-unfitted-level-0);\n",
       "}\n",
       "\n",
       "#sk-container-id-3 div.sk-estimator.fitted {\n",
       "  /* fitted */\n",
       "  background-color: var(--sklearn-color-fitted-level-0);\n",
       "}\n",
       "\n",
       "/* on hover */\n",
       "#sk-container-id-3 div.sk-estimator:hover {\n",
       "  /* unfitted */\n",
       "  background-color: var(--sklearn-color-unfitted-level-2);\n",
       "}\n",
       "\n",
       "#sk-container-id-3 div.sk-estimator.fitted:hover {\n",
       "  /* fitted */\n",
       "  background-color: var(--sklearn-color-fitted-level-2);\n",
       "}\n",
       "\n",
       "/* Specification for estimator info (e.g. \"i\" and \"?\") */\n",
       "\n",
       "/* Common style for \"i\" and \"?\" */\n",
       "\n",
       ".sk-estimator-doc-link,\n",
       "a:link.sk-estimator-doc-link,\n",
       "a:visited.sk-estimator-doc-link {\n",
       "  float: right;\n",
       "  font-size: smaller;\n",
       "  line-height: 1em;\n",
       "  font-family: monospace;\n",
       "  background-color: var(--sklearn-color-background);\n",
       "  border-radius: 1em;\n",
       "  height: 1em;\n",
       "  width: 1em;\n",
       "  text-decoration: none !important;\n",
       "  margin-left: 0.5em;\n",
       "  text-align: center;\n",
       "  /* unfitted */\n",
       "  border: var(--sklearn-color-unfitted-level-1) 1pt solid;\n",
       "  color: var(--sklearn-color-unfitted-level-1);\n",
       "}\n",
       "\n",
       ".sk-estimator-doc-link.fitted,\n",
       "a:link.sk-estimator-doc-link.fitted,\n",
       "a:visited.sk-estimator-doc-link.fitted {\n",
       "  /* fitted */\n",
       "  border: var(--sklearn-color-fitted-level-1) 1pt solid;\n",
       "  color: var(--sklearn-color-fitted-level-1);\n",
       "}\n",
       "\n",
       "/* On hover */\n",
       "div.sk-estimator:hover .sk-estimator-doc-link:hover,\n",
       ".sk-estimator-doc-link:hover,\n",
       "div.sk-label-container:hover .sk-estimator-doc-link:hover,\n",
       ".sk-estimator-doc-link:hover {\n",
       "  /* unfitted */\n",
       "  background-color: var(--sklearn-color-unfitted-level-3);\n",
       "  color: var(--sklearn-color-background);\n",
       "  text-decoration: none;\n",
       "}\n",
       "\n",
       "div.sk-estimator.fitted:hover .sk-estimator-doc-link.fitted:hover,\n",
       ".sk-estimator-doc-link.fitted:hover,\n",
       "div.sk-label-container:hover .sk-estimator-doc-link.fitted:hover,\n",
       ".sk-estimator-doc-link.fitted:hover {\n",
       "  /* fitted */\n",
       "  background-color: var(--sklearn-color-fitted-level-3);\n",
       "  color: var(--sklearn-color-background);\n",
       "  text-decoration: none;\n",
       "}\n",
       "\n",
       "/* Span, style for the box shown on hovering the info icon */\n",
       ".sk-estimator-doc-link span {\n",
       "  display: none;\n",
       "  z-index: 9999;\n",
       "  position: relative;\n",
       "  font-weight: normal;\n",
       "  right: .2ex;\n",
       "  padding: .5ex;\n",
       "  margin: .5ex;\n",
       "  width: min-content;\n",
       "  min-width: 20ex;\n",
       "  max-width: 50ex;\n",
       "  color: var(--sklearn-color-text);\n",
       "  box-shadow: 2pt 2pt 4pt #999;\n",
       "  /* unfitted */\n",
       "  background: var(--sklearn-color-unfitted-level-0);\n",
       "  border: .5pt solid var(--sklearn-color-unfitted-level-3);\n",
       "}\n",
       "\n",
       ".sk-estimator-doc-link.fitted span {\n",
       "  /* fitted */\n",
       "  background: var(--sklearn-color-fitted-level-0);\n",
       "  border: var(--sklearn-color-fitted-level-3);\n",
       "}\n",
       "\n",
       ".sk-estimator-doc-link:hover span {\n",
       "  display: block;\n",
       "}\n",
       "\n",
       "/* \"?\"-specific style due to the `<a>` HTML tag */\n",
       "\n",
       "#sk-container-id-3 a.estimator_doc_link {\n",
       "  float: right;\n",
       "  font-size: 1rem;\n",
       "  line-height: 1em;\n",
       "  font-family: monospace;\n",
       "  background-color: var(--sklearn-color-background);\n",
       "  border-radius: 1rem;\n",
       "  height: 1rem;\n",
       "  width: 1rem;\n",
       "  text-decoration: none;\n",
       "  /* unfitted */\n",
       "  color: var(--sklearn-color-unfitted-level-1);\n",
       "  border: var(--sklearn-color-unfitted-level-1) 1pt solid;\n",
       "}\n",
       "\n",
       "#sk-container-id-3 a.estimator_doc_link.fitted {\n",
       "  /* fitted */\n",
       "  border: var(--sklearn-color-fitted-level-1) 1pt solid;\n",
       "  color: var(--sklearn-color-fitted-level-1);\n",
       "}\n",
       "\n",
       "/* On hover */\n",
       "#sk-container-id-3 a.estimator_doc_link:hover {\n",
       "  /* unfitted */\n",
       "  background-color: var(--sklearn-color-unfitted-level-3);\n",
       "  color: var(--sklearn-color-background);\n",
       "  text-decoration: none;\n",
       "}\n",
       "\n",
       "#sk-container-id-3 a.estimator_doc_link.fitted:hover {\n",
       "  /* fitted */\n",
       "  background-color: var(--sklearn-color-fitted-level-3);\n",
       "}\n",
       "</style><div id=\"sk-container-id-3\" class=\"sk-top-container\"><div class=\"sk-text-repr-fallback\"><pre>Pipeline(steps=[(&#x27;preprocessor&#x27;, BOWTextPreprocessor()),\n",
       "                (&#x27;vectorizer&#x27;, CountVectorizer()),\n",
       "                (&#x27;classifier&#x27;, LogisticRegression(class_weight=&#x27;balanced&#x27;))])</pre><b>In a Jupyter environment, please rerun this cell to show the HTML representation or trust the notebook. <br />On GitHub, the HTML representation is unable to render, please try loading this page with nbviewer.org.</b></div><div class=\"sk-container\" hidden><div class=\"sk-item sk-dashed-wrapped\"><div class=\"sk-label-container\"><div class=\"sk-label fitted sk-toggleable\"><input class=\"sk-toggleable__control sk-hidden--visually\" id=\"sk-estimator-id-10\" type=\"checkbox\" ><label for=\"sk-estimator-id-10\" class=\"sk-toggleable__label fitted sk-toggleable__label-arrow\"><div><div>Pipeline</div></div><div><a class=\"sk-estimator-doc-link fitted\" rel=\"noreferrer\" target=\"_blank\" href=\"https://scikit-learn.org/1.6/modules/generated/sklearn.pipeline.Pipeline.html\">?<span>Documentation for Pipeline</span></a><span class=\"sk-estimator-doc-link fitted\">i<span>Fitted</span></span></div></label><div class=\"sk-toggleable__content fitted\"><pre>Pipeline(steps=[(&#x27;preprocessor&#x27;, BOWTextPreprocessor()),\n",
       "                (&#x27;vectorizer&#x27;, CountVectorizer()),\n",
       "                (&#x27;classifier&#x27;, LogisticRegression(class_weight=&#x27;balanced&#x27;))])</pre></div> </div></div><div class=\"sk-serial\"><div class=\"sk-item\"><div class=\"sk-estimator fitted sk-toggleable\"><input class=\"sk-toggleable__control sk-hidden--visually\" id=\"sk-estimator-id-11\" type=\"checkbox\" ><label for=\"sk-estimator-id-11\" class=\"sk-toggleable__label fitted sk-toggleable__label-arrow\"><div><div>BOWTextPreprocessor</div></div></label><div class=\"sk-toggleable__content fitted\"><pre>BOWTextPreprocessor()</pre></div> </div></div><div class=\"sk-item\"><div class=\"sk-estimator fitted sk-toggleable\"><input class=\"sk-toggleable__control sk-hidden--visually\" id=\"sk-estimator-id-12\" type=\"checkbox\" ><label for=\"sk-estimator-id-12\" class=\"sk-toggleable__label fitted sk-toggleable__label-arrow\"><div><div>CountVectorizer</div></div><div><a class=\"sk-estimator-doc-link fitted\" rel=\"noreferrer\" target=\"_blank\" href=\"https://scikit-learn.org/1.6/modules/generated/sklearn.feature_extraction.text.CountVectorizer.html\">?<span>Documentation for CountVectorizer</span></a></div></label><div class=\"sk-toggleable__content fitted\"><pre>CountVectorizer()</pre></div> </div></div><div class=\"sk-item\"><div class=\"sk-estimator fitted sk-toggleable\"><input class=\"sk-toggleable__control sk-hidden--visually\" id=\"sk-estimator-id-13\" type=\"checkbox\" ><label for=\"sk-estimator-id-13\" class=\"sk-toggleable__label fitted sk-toggleable__label-arrow\"><div><div>LogisticRegression</div></div><div><a class=\"sk-estimator-doc-link fitted\" rel=\"noreferrer\" target=\"_blank\" href=\"https://scikit-learn.org/1.6/modules/generated/sklearn.linear_model.LogisticRegression.html\">?<span>Documentation for LogisticRegression</span></a></div></label><div class=\"sk-toggleable__content fitted\"><pre>LogisticRegression(class_weight=&#x27;balanced&#x27;)</pre></div> </div></div></div></div></div></div>"
      ],
      "text/plain": [
       "Pipeline(steps=[('preprocessor', BOWTextPreprocessor()),\n",
       "                ('vectorizer', CountVectorizer()),\n",
       "                ('classifier', LogisticRegression(class_weight='balanced'))])"
      ]
     },
     "execution_count": 77,
     "metadata": {},
     "output_type": "execute_result"
    }
   ],
   "source": [
    "# Fit the pipeline to the training data\n",
    "bow_pipeline.fit(X_train, y_train)\n"
   ]
  },
  {
   "cell_type": "code",
   "execution_count": 78,
   "id": "866b3524",
   "metadata": {},
   "outputs": [
    {
     "name": "stderr",
     "output_type": "stream",
     "text": [
      "100%|██████████| 4142/4142 [00:01<00:00, 2818.62it/s]\n"
     ]
    }
   ],
   "source": [
    "# Make predictions on the test set\n",
    "y_pred_bow = bow_pipeline.predict(X_test)\n",
    "\n",
    "# Generate the classification report\n",
    "report_bow = classification_report(y_test, y_pred_bow, output_dict=True)"
   ]
  },
  {
   "cell_type": "code",
   "execution_count": 79,
   "id": "31455156",
   "metadata": {},
   "outputs": [],
   "source": [
    "append_results(results, report_bow, 'BoW + LogisticRegression', EVALUATION_METRICS)"
   ]
  },
  {
   "cell_type": "markdown",
   "id": "3eaa679c",
   "metadata": {},
   "source": [
    "### 3.2 TF-IDF + Logistic Regression"
   ]
  },
  {
   "cell_type": "code",
   "execution_count": 80,
   "id": "fd99c733",
   "metadata": {},
   "outputs": [
    {
     "name": "stderr",
     "output_type": "stream",
     "text": [
      "100%|██████████| 16566/16566 [00:05<00:00, 2880.49it/s]\n",
      "100%|██████████| 4142/4142 [00:01<00:00, 2910.70it/s]\n"
     ]
    }
   ],
   "source": [
    "pipeline_tfidf = Pipeline([\n",
    "    ('preprocessor', BOWTextPreprocessor()),\n",
    "    ('vectorizer', TfidfVectorizer()),\n",
    "    ('classifier', LogisticRegression(class_weight='balanced'))\n",
    "])\n",
    "\n",
    "pipeline_tfidf.fit(X_train, y_train)\n",
    "y_pred_tfidf = pipeline_tfidf.predict(X_test)\n",
    "\n",
    "report_tfidf = classification_report(y_test, y_pred_tfidf, output_dict=True)"
   ]
  },
  {
   "cell_type": "code",
   "execution_count": 81,
   "id": "01aeb93b",
   "metadata": {},
   "outputs": [],
   "source": [
    "append_results(results, report_tfidf, 'TF-IDF + LogisticRegression', EVALUATION_METRICS)"
   ]
  },
  {
   "cell_type": "markdown",
   "id": "e1fb087e",
   "metadata": {},
   "source": [
    "##### 3.2.2 Hyperparameter tuning with GridSearchCV"
   ]
  },
  {
   "cell_type": "code",
   "execution_count": 82,
   "id": "09a76abc",
   "metadata": {},
   "outputs": [
    {
     "name": "stdout",
     "output_type": "stream",
     "text": [
      "Fitting 3 folds for each of 32 candidates, totalling 96 fits\n"
     ]
    },
    {
     "name": "stderr",
     "output_type": "stream",
     "text": [
      "100%|██████████| 11044/11044 [00:03<00:00, 2835.32it/s]\n",
      "100%|██████████| 5522/5522 [00:01<00:00, 2813.33it/s]\n"
     ]
    },
    {
     "name": "stdout",
     "output_type": "stream",
     "text": [
      "[CV] END classifier__C=0.1, classifier__penalty=l1, classifier__solver=liblinear, vectorizer__max_df=0.75, vectorizer__max_features=5000, vectorizer__ngram_range=(1, 1); total time=   6.0s\n"
     ]
    },
    {
     "name": "stderr",
     "output_type": "stream",
     "text": [
      "100%|██████████| 11044/11044 [00:03<00:00, 2798.78it/s]\n",
      "100%|██████████| 5522/5522 [00:01<00:00, 2855.48it/s]\n"
     ]
    },
    {
     "name": "stdout",
     "output_type": "stream",
     "text": [
      "[CV] END classifier__C=0.1, classifier__penalty=l1, classifier__solver=liblinear, vectorizer__max_df=0.75, vectorizer__max_features=5000, vectorizer__ngram_range=(1, 1); total time=   6.0s\n"
     ]
    },
    {
     "name": "stderr",
     "output_type": "stream",
     "text": [
      "100%|██████████| 11044/11044 [00:03<00:00, 2935.18it/s]\n",
      "100%|██████████| 5522/5522 [00:01<00:00, 2950.86it/s]\n"
     ]
    },
    {
     "name": "stdout",
     "output_type": "stream",
     "text": [
      "[CV] END classifier__C=0.1, classifier__penalty=l1, classifier__solver=liblinear, vectorizer__max_df=0.75, vectorizer__max_features=5000, vectorizer__ngram_range=(1, 1); total time=   5.7s\n"
     ]
    },
    {
     "name": "stderr",
     "output_type": "stream",
     "text": [
      "100%|██████████| 11044/11044 [00:03<00:00, 2956.25it/s]\n",
      "100%|██████████| 5522/5522 [00:01<00:00, 2928.27it/s]\n"
     ]
    },
    {
     "name": "stdout",
     "output_type": "stream",
     "text": [
      "[CV] END classifier__C=0.1, classifier__penalty=l1, classifier__solver=liblinear, vectorizer__max_df=0.75, vectorizer__max_features=5000, vectorizer__ngram_range=(1, 2); total time=   5.9s\n"
     ]
    },
    {
     "name": "stderr",
     "output_type": "stream",
     "text": [
      "100%|██████████| 11044/11044 [00:03<00:00, 2922.28it/s]\n",
      "100%|██████████| 5522/5522 [00:01<00:00, 2950.78it/s]\n"
     ]
    },
    {
     "name": "stdout",
     "output_type": "stream",
     "text": [
      "[CV] END classifier__C=0.1, classifier__penalty=l1, classifier__solver=liblinear, vectorizer__max_df=0.75, vectorizer__max_features=5000, vectorizer__ngram_range=(1, 2); total time=   5.9s\n"
     ]
    },
    {
     "name": "stderr",
     "output_type": "stream",
     "text": [
      "100%|██████████| 11044/11044 [00:03<00:00, 2811.28it/s]\n",
      "100%|██████████| 5522/5522 [00:01<00:00, 2827.66it/s]\n"
     ]
    },
    {
     "name": "stdout",
     "output_type": "stream",
     "text": [
      "[CV] END classifier__C=0.1, classifier__penalty=l1, classifier__solver=liblinear, vectorizer__max_df=0.75, vectorizer__max_features=5000, vectorizer__ngram_range=(1, 2); total time=   6.2s\n"
     ]
    },
    {
     "name": "stderr",
     "output_type": "stream",
     "text": [
      "100%|██████████| 11044/11044 [00:03<00:00, 2817.91it/s]\n",
      "100%|██████████| 5522/5522 [00:01<00:00, 2896.75it/s]\n"
     ]
    },
    {
     "name": "stdout",
     "output_type": "stream",
     "text": [
      "[CV] END classifier__C=0.1, classifier__penalty=l1, classifier__solver=liblinear, vectorizer__max_df=0.75, vectorizer__max_features=10000, vectorizer__ngram_range=(1, 1); total time=   5.9s\n"
     ]
    },
    {
     "name": "stderr",
     "output_type": "stream",
     "text": [
      "100%|██████████| 11044/11044 [00:03<00:00, 3009.65it/s]\n",
      "100%|██████████| 5522/5522 [00:01<00:00, 2999.28it/s]\n"
     ]
    },
    {
     "name": "stdout",
     "output_type": "stream",
     "text": [
      "[CV] END classifier__C=0.1, classifier__penalty=l1, classifier__solver=liblinear, vectorizer__max_df=0.75, vectorizer__max_features=10000, vectorizer__ngram_range=(1, 1); total time=   5.6s\n"
     ]
    },
    {
     "name": "stderr",
     "output_type": "stream",
     "text": [
      "100%|██████████| 11044/11044 [00:03<00:00, 2948.23it/s]\n",
      "100%|██████████| 5522/5522 [00:01<00:00, 3006.91it/s]\n"
     ]
    },
    {
     "name": "stdout",
     "output_type": "stream",
     "text": [
      "[CV] END classifier__C=0.1, classifier__penalty=l1, classifier__solver=liblinear, vectorizer__max_df=0.75, vectorizer__max_features=10000, vectorizer__ngram_range=(1, 1); total time=   5.7s\n"
     ]
    },
    {
     "name": "stderr",
     "output_type": "stream",
     "text": [
      "100%|██████████| 11044/11044 [00:03<00:00, 3043.73it/s]\n",
      "100%|██████████| 5522/5522 [00:01<00:00, 2941.69it/s]\n"
     ]
    },
    {
     "name": "stdout",
     "output_type": "stream",
     "text": [
      "[CV] END classifier__C=0.1, classifier__penalty=l1, classifier__solver=liblinear, vectorizer__max_df=0.75, vectorizer__max_features=10000, vectorizer__ngram_range=(1, 2); total time=   5.8s\n"
     ]
    },
    {
     "name": "stderr",
     "output_type": "stream",
     "text": [
      "100%|██████████| 11044/11044 [00:03<00:00, 3019.65it/s]\n",
      "100%|██████████| 5522/5522 [00:01<00:00, 3041.78it/s]\n"
     ]
    },
    {
     "name": "stdout",
     "output_type": "stream",
     "text": [
      "[CV] END classifier__C=0.1, classifier__penalty=l1, classifier__solver=liblinear, vectorizer__max_df=0.75, vectorizer__max_features=10000, vectorizer__ngram_range=(1, 2); total time=   5.7s\n"
     ]
    },
    {
     "name": "stderr",
     "output_type": "stream",
     "text": [
      "100%|██████████| 11044/11044 [00:03<00:00, 3014.01it/s]\n",
      "100%|██████████| 5522/5522 [00:02<00:00, 2696.20it/s]\n"
     ]
    },
    {
     "name": "stdout",
     "output_type": "stream",
     "text": [
      "[CV] END classifier__C=0.1, classifier__penalty=l1, classifier__solver=liblinear, vectorizer__max_df=0.75, vectorizer__max_features=10000, vectorizer__ngram_range=(1, 2); total time=   6.0s\n"
     ]
    },
    {
     "name": "stderr",
     "output_type": "stream",
     "text": [
      "100%|██████████| 11044/11044 [00:03<00:00, 2894.03it/s]\n",
      "100%|██████████| 5522/5522 [00:01<00:00, 2966.49it/s]\n"
     ]
    },
    {
     "name": "stdout",
     "output_type": "stream",
     "text": [
      "[CV] END classifier__C=0.1, classifier__penalty=l1, classifier__solver=liblinear, vectorizer__max_df=0.9, vectorizer__max_features=5000, vectorizer__ngram_range=(1, 1); total time=   5.8s\n"
     ]
    },
    {
     "name": "stderr",
     "output_type": "stream",
     "text": [
      "100%|██████████| 11044/11044 [00:03<00:00, 2989.14it/s]\n",
      "100%|██████████| 5522/5522 [00:01<00:00, 3030.78it/s]\n"
     ]
    },
    {
     "name": "stdout",
     "output_type": "stream",
     "text": [
      "[CV] END classifier__C=0.1, classifier__penalty=l1, classifier__solver=liblinear, vectorizer__max_df=0.9, vectorizer__max_features=5000, vectorizer__ngram_range=(1, 1); total time=   5.6s\n"
     ]
    },
    {
     "name": "stderr",
     "output_type": "stream",
     "text": [
      "100%|██████████| 11044/11044 [00:03<00:00, 3006.24it/s]\n",
      "100%|██████████| 5522/5522 [00:01<00:00, 3012.46it/s]\n"
     ]
    },
    {
     "name": "stdout",
     "output_type": "stream",
     "text": [
      "[CV] END classifier__C=0.1, classifier__penalty=l1, classifier__solver=liblinear, vectorizer__max_df=0.9, vectorizer__max_features=5000, vectorizer__ngram_range=(1, 1); total time=   5.6s\n"
     ]
    },
    {
     "name": "stderr",
     "output_type": "stream",
     "text": [
      "100%|██████████| 11044/11044 [00:03<00:00, 3011.07it/s]\n",
      "100%|██████████| 5522/5522 [00:01<00:00, 2981.83it/s]\n"
     ]
    },
    {
     "name": "stdout",
     "output_type": "stream",
     "text": [
      "[CV] END classifier__C=0.1, classifier__penalty=l1, classifier__solver=liblinear, vectorizer__max_df=0.9, vectorizer__max_features=5000, vectorizer__ngram_range=(1, 2); total time=   5.8s\n"
     ]
    },
    {
     "name": "stderr",
     "output_type": "stream",
     "text": [
      "100%|██████████| 11044/11044 [00:03<00:00, 3020.02it/s]\n",
      "100%|██████████| 5522/5522 [00:01<00:00, 2994.10it/s]\n"
     ]
    },
    {
     "name": "stdout",
     "output_type": "stream",
     "text": [
      "[CV] END classifier__C=0.1, classifier__penalty=l1, classifier__solver=liblinear, vectorizer__max_df=0.9, vectorizer__max_features=5000, vectorizer__ngram_range=(1, 2); total time=   5.7s\n"
     ]
    },
    {
     "name": "stderr",
     "output_type": "stream",
     "text": [
      "100%|██████████| 11044/11044 [00:03<00:00, 2954.71it/s]\n",
      "100%|██████████| 5522/5522 [00:01<00:00, 3005.21it/s]\n"
     ]
    },
    {
     "name": "stdout",
     "output_type": "stream",
     "text": [
      "[CV] END classifier__C=0.1, classifier__penalty=l1, classifier__solver=liblinear, vectorizer__max_df=0.9, vectorizer__max_features=5000, vectorizer__ngram_range=(1, 2); total time=   5.8s\n"
     ]
    },
    {
     "name": "stderr",
     "output_type": "stream",
     "text": [
      "100%|██████████| 11044/11044 [00:03<00:00, 3035.44it/s]\n",
      "100%|██████████| 5522/5522 [00:01<00:00, 2888.54it/s]\n"
     ]
    },
    {
     "name": "stdout",
     "output_type": "stream",
     "text": [
      "[CV] END classifier__C=0.1, classifier__penalty=l1, classifier__solver=liblinear, vectorizer__max_df=0.9, vectorizer__max_features=10000, vectorizer__ngram_range=(1, 1); total time=   5.6s\n"
     ]
    },
    {
     "name": "stderr",
     "output_type": "stream",
     "text": [
      "100%|██████████| 11044/11044 [00:03<00:00, 3019.39it/s]\n",
      "100%|██████████| 5522/5522 [00:01<00:00, 3028.94it/s]\n"
     ]
    },
    {
     "name": "stdout",
     "output_type": "stream",
     "text": [
      "[CV] END classifier__C=0.1, classifier__penalty=l1, classifier__solver=liblinear, vectorizer__max_df=0.9, vectorizer__max_features=10000, vectorizer__ngram_range=(1, 1); total time=   5.6s\n"
     ]
    },
    {
     "name": "stderr",
     "output_type": "stream",
     "text": [
      "100%|██████████| 11044/11044 [00:03<00:00, 3004.72it/s]\n",
      "100%|██████████| 5522/5522 [00:01<00:00, 3009.49it/s]\n"
     ]
    },
    {
     "name": "stdout",
     "output_type": "stream",
     "text": [
      "[CV] END classifier__C=0.1, classifier__penalty=l1, classifier__solver=liblinear, vectorizer__max_df=0.9, vectorizer__max_features=10000, vectorizer__ngram_range=(1, 1); total time=   5.6s\n"
     ]
    },
    {
     "name": "stderr",
     "output_type": "stream",
     "text": [
      "100%|██████████| 11044/11044 [00:03<00:00, 3010.65it/s]\n",
      "100%|██████████| 5522/5522 [00:01<00:00, 2982.22it/s]\n"
     ]
    },
    {
     "name": "stdout",
     "output_type": "stream",
     "text": [
      "[CV] END classifier__C=0.1, classifier__penalty=l1, classifier__solver=liblinear, vectorizer__max_df=0.9, vectorizer__max_features=10000, vectorizer__ngram_range=(1, 2); total time=   5.8s\n"
     ]
    },
    {
     "name": "stderr",
     "output_type": "stream",
     "text": [
      "100%|██████████| 11044/11044 [00:03<00:00, 2987.51it/s]\n",
      "100%|██████████| 5522/5522 [00:01<00:00, 3043.68it/s]\n"
     ]
    },
    {
     "name": "stdout",
     "output_type": "stream",
     "text": [
      "[CV] END classifier__C=0.1, classifier__penalty=l1, classifier__solver=liblinear, vectorizer__max_df=0.9, vectorizer__max_features=10000, vectorizer__ngram_range=(1, 2); total time=   5.8s\n"
     ]
    },
    {
     "name": "stderr",
     "output_type": "stream",
     "text": [
      "100%|██████████| 11044/11044 [00:03<00:00, 3026.25it/s]\n",
      "100%|██████████| 5522/5522 [00:01<00:00, 2975.54it/s]\n"
     ]
    },
    {
     "name": "stdout",
     "output_type": "stream",
     "text": [
      "[CV] END classifier__C=0.1, classifier__penalty=l1, classifier__solver=liblinear, vectorizer__max_df=0.9, vectorizer__max_features=10000, vectorizer__ngram_range=(1, 2); total time=   5.8s\n"
     ]
    },
    {
     "name": "stderr",
     "output_type": "stream",
     "text": [
      "100%|██████████| 11044/11044 [00:03<00:00, 3038.28it/s]\n",
      "100%|██████████| 5522/5522 [00:01<00:00, 2981.07it/s]\n"
     ]
    },
    {
     "name": "stdout",
     "output_type": "stream",
     "text": [
      "[CV] END classifier__C=0.1, classifier__penalty=l2, classifier__solver=liblinear, vectorizer__max_df=0.75, vectorizer__max_features=5000, vectorizer__ngram_range=(1, 1); total time=   5.6s\n"
     ]
    },
    {
     "name": "stderr",
     "output_type": "stream",
     "text": [
      "100%|██████████| 11044/11044 [00:03<00:00, 2991.91it/s]\n",
      "100%|██████████| 5522/5522 [00:01<00:00, 3032.27it/s]\n"
     ]
    },
    {
     "name": "stdout",
     "output_type": "stream",
     "text": [
      "[CV] END classifier__C=0.1, classifier__penalty=l2, classifier__solver=liblinear, vectorizer__max_df=0.75, vectorizer__max_features=5000, vectorizer__ngram_range=(1, 1); total time=   5.6s\n"
     ]
    },
    {
     "name": "stderr",
     "output_type": "stream",
     "text": [
      "100%|██████████| 11044/11044 [00:03<00:00, 3007.56it/s]\n",
      "100%|██████████| 5522/5522 [00:01<00:00, 3007.36it/s]\n"
     ]
    },
    {
     "name": "stdout",
     "output_type": "stream",
     "text": [
      "[CV] END classifier__C=0.1, classifier__penalty=l2, classifier__solver=liblinear, vectorizer__max_df=0.75, vectorizer__max_features=5000, vectorizer__ngram_range=(1, 1); total time=   5.6s\n"
     ]
    },
    {
     "name": "stderr",
     "output_type": "stream",
     "text": [
      "100%|██████████| 11044/11044 [00:03<00:00, 3030.98it/s]\n",
      "100%|██████████| 5522/5522 [00:01<00:00, 2811.92it/s]\n"
     ]
    },
    {
     "name": "stdout",
     "output_type": "stream",
     "text": [
      "[CV] END classifier__C=0.1, classifier__penalty=l2, classifier__solver=liblinear, vectorizer__max_df=0.75, vectorizer__max_features=5000, vectorizer__ngram_range=(1, 2); total time=   5.8s\n"
     ]
    },
    {
     "name": "stderr",
     "output_type": "stream",
     "text": [
      "100%|██████████| 11044/11044 [00:03<00:00, 3008.87it/s]\n",
      "100%|██████████| 5522/5522 [00:01<00:00, 3037.25it/s]\n"
     ]
    },
    {
     "name": "stdout",
     "output_type": "stream",
     "text": [
      "[CV] END classifier__C=0.1, classifier__penalty=l2, classifier__solver=liblinear, vectorizer__max_df=0.75, vectorizer__max_features=5000, vectorizer__ngram_range=(1, 2); total time=   5.7s\n"
     ]
    },
    {
     "name": "stderr",
     "output_type": "stream",
     "text": [
      "100%|██████████| 11044/11044 [00:03<00:00, 2978.55it/s]\n",
      "100%|██████████| 5522/5522 [00:01<00:00, 3019.29it/s]\n"
     ]
    },
    {
     "name": "stdout",
     "output_type": "stream",
     "text": [
      "[CV] END classifier__C=0.1, classifier__penalty=l2, classifier__solver=liblinear, vectorizer__max_df=0.75, vectorizer__max_features=5000, vectorizer__ngram_range=(1, 2); total time=   5.8s\n"
     ]
    },
    {
     "name": "stderr",
     "output_type": "stream",
     "text": [
      "100%|██████████| 11044/11044 [00:03<00:00, 3039.63it/s]\n",
      "100%|██████████| 5522/5522 [00:01<00:00, 2936.10it/s]\n"
     ]
    },
    {
     "name": "stdout",
     "output_type": "stream",
     "text": [
      "[CV] END classifier__C=0.1, classifier__penalty=l2, classifier__solver=liblinear, vectorizer__max_df=0.75, vectorizer__max_features=10000, vectorizer__ngram_range=(1, 1); total time=   5.6s\n"
     ]
    },
    {
     "name": "stderr",
     "output_type": "stream",
     "text": [
      "100%|██████████| 11044/11044 [00:03<00:00, 3017.05it/s]\n",
      "100%|██████████| 5522/5522 [00:01<00:00, 3034.43it/s]\n"
     ]
    },
    {
     "name": "stdout",
     "output_type": "stream",
     "text": [
      "[CV] END classifier__C=0.1, classifier__penalty=l2, classifier__solver=liblinear, vectorizer__max_df=0.75, vectorizer__max_features=10000, vectorizer__ngram_range=(1, 1); total time=   5.6s\n"
     ]
    },
    {
     "name": "stderr",
     "output_type": "stream",
     "text": [
      "100%|██████████| 11044/11044 [00:03<00:00, 3024.75it/s]\n",
      "100%|██████████| 5522/5522 [00:01<00:00, 3015.72it/s]\n"
     ]
    },
    {
     "name": "stdout",
     "output_type": "stream",
     "text": [
      "[CV] END classifier__C=0.1, classifier__penalty=l2, classifier__solver=liblinear, vectorizer__max_df=0.75, vectorizer__max_features=10000, vectorizer__ngram_range=(1, 1); total time=   5.6s\n"
     ]
    },
    {
     "name": "stderr",
     "output_type": "stream",
     "text": [
      "100%|██████████| 11044/11044 [00:03<00:00, 3011.75it/s]\n",
      "100%|██████████| 5522/5522 [00:01<00:00, 2989.17it/s]\n"
     ]
    },
    {
     "name": "stdout",
     "output_type": "stream",
     "text": [
      "[CV] END classifier__C=0.1, classifier__penalty=l2, classifier__solver=liblinear, vectorizer__max_df=0.75, vectorizer__max_features=10000, vectorizer__ngram_range=(1, 2); total time=   5.8s\n"
     ]
    },
    {
     "name": "stderr",
     "output_type": "stream",
     "text": [
      "100%|██████████| 11044/11044 [00:03<00:00, 2987.28it/s]\n",
      "100%|██████████| 5522/5522 [00:01<00:00, 3041.23it/s]\n"
     ]
    },
    {
     "name": "stdout",
     "output_type": "stream",
     "text": [
      "[CV] END classifier__C=0.1, classifier__penalty=l2, classifier__solver=liblinear, vectorizer__max_df=0.75, vectorizer__max_features=10000, vectorizer__ngram_range=(1, 2); total time=   5.8s\n"
     ]
    },
    {
     "name": "stderr",
     "output_type": "stream",
     "text": [
      "100%|██████████| 11044/11044 [00:03<00:00, 3026.75it/s]\n",
      "100%|██████████| 5522/5522 [00:01<00:00, 2972.28it/s]\n"
     ]
    },
    {
     "name": "stdout",
     "output_type": "stream",
     "text": [
      "[CV] END classifier__C=0.1, classifier__penalty=l2, classifier__solver=liblinear, vectorizer__max_df=0.75, vectorizer__max_features=10000, vectorizer__ngram_range=(1, 2); total time=   5.8s\n"
     ]
    },
    {
     "name": "stderr",
     "output_type": "stream",
     "text": [
      "100%|██████████| 11044/11044 [00:03<00:00, 3040.10it/s]\n",
      "100%|██████████| 5522/5522 [00:01<00:00, 2976.86it/s]\n"
     ]
    },
    {
     "name": "stdout",
     "output_type": "stream",
     "text": [
      "[CV] END classifier__C=0.1, classifier__penalty=l2, classifier__solver=liblinear, vectorizer__max_df=0.9, vectorizer__max_features=5000, vectorizer__ngram_range=(1, 1); total time=   5.6s\n"
     ]
    },
    {
     "name": "stderr",
     "output_type": "stream",
     "text": [
      "100%|██████████| 11044/11044 [00:03<00:00, 2988.89it/s]\n",
      "100%|██████████| 5522/5522 [00:01<00:00, 3031.02it/s]\n"
     ]
    },
    {
     "name": "stdout",
     "output_type": "stream",
     "text": [
      "[CV] END classifier__C=0.1, classifier__penalty=l2, classifier__solver=liblinear, vectorizer__max_df=0.9, vectorizer__max_features=5000, vectorizer__ngram_range=(1, 1); total time=   5.6s\n"
     ]
    },
    {
     "name": "stderr",
     "output_type": "stream",
     "text": [
      "100%|██████████| 11044/11044 [00:03<00:00, 2942.05it/s]\n",
      "100%|██████████| 5522/5522 [00:01<00:00, 3011.08it/s]\n"
     ]
    },
    {
     "name": "stdout",
     "output_type": "stream",
     "text": [
      "[CV] END classifier__C=0.1, classifier__penalty=l2, classifier__solver=liblinear, vectorizer__max_df=0.9, vectorizer__max_features=5000, vectorizer__ngram_range=(1, 1); total time=   5.7s\n"
     ]
    },
    {
     "name": "stderr",
     "output_type": "stream",
     "text": [
      "100%|██████████| 11044/11044 [00:03<00:00, 3043.42it/s]\n",
      "100%|██████████| 5522/5522 [00:01<00:00, 2940.16it/s]\n"
     ]
    },
    {
     "name": "stdout",
     "output_type": "stream",
     "text": [
      "[CV] END classifier__C=0.1, classifier__penalty=l2, classifier__solver=liblinear, vectorizer__max_df=0.9, vectorizer__max_features=5000, vectorizer__ngram_range=(1, 2); total time=   5.7s\n"
     ]
    },
    {
     "name": "stderr",
     "output_type": "stream",
     "text": [
      "100%|██████████| 11044/11044 [00:03<00:00, 2994.70it/s]\n",
      "100%|██████████| 5522/5522 [00:01<00:00, 3045.49it/s]\n"
     ]
    },
    {
     "name": "stdout",
     "output_type": "stream",
     "text": [
      "[CV] END classifier__C=0.1, classifier__penalty=l2, classifier__solver=liblinear, vectorizer__max_df=0.9, vectorizer__max_features=5000, vectorizer__ngram_range=(1, 2); total time=   5.7s\n"
     ]
    },
    {
     "name": "stderr",
     "output_type": "stream",
     "text": [
      "100%|██████████| 11044/11044 [00:03<00:00, 3005.50it/s]\n",
      "100%|██████████| 5522/5522 [00:01<00:00, 3019.45it/s]\n"
     ]
    },
    {
     "name": "stdout",
     "output_type": "stream",
     "text": [
      "[CV] END classifier__C=0.1, classifier__penalty=l2, classifier__solver=liblinear, vectorizer__max_df=0.9, vectorizer__max_features=5000, vectorizer__ngram_range=(1, 2); total time=   5.7s\n"
     ]
    },
    {
     "name": "stderr",
     "output_type": "stream",
     "text": [
      "100%|██████████| 11044/11044 [00:03<00:00, 3036.74it/s]\n",
      "100%|██████████| 5522/5522 [00:01<00:00, 2984.38it/s]\n"
     ]
    },
    {
     "name": "stdout",
     "output_type": "stream",
     "text": [
      "[CV] END classifier__C=0.1, classifier__penalty=l2, classifier__solver=liblinear, vectorizer__max_df=0.9, vectorizer__max_features=10000, vectorizer__ngram_range=(1, 1); total time=   5.6s\n"
     ]
    },
    {
     "name": "stderr",
     "output_type": "stream",
     "text": [
      "100%|██████████| 11044/11044 [00:03<00:00, 2997.78it/s]\n",
      "100%|██████████| 5522/5522 [00:01<00:00, 2991.92it/s]\n"
     ]
    },
    {
     "name": "stdout",
     "output_type": "stream",
     "text": [
      "[CV] END classifier__C=0.1, classifier__penalty=l2, classifier__solver=liblinear, vectorizer__max_df=0.9, vectorizer__max_features=10000, vectorizer__ngram_range=(1, 1); total time=   5.6s\n"
     ]
    },
    {
     "name": "stderr",
     "output_type": "stream",
     "text": [
      "100%|██████████| 11044/11044 [00:03<00:00, 3026.16it/s]\n",
      "100%|██████████| 5522/5522 [00:01<00:00, 3012.88it/s]\n"
     ]
    },
    {
     "name": "stdout",
     "output_type": "stream",
     "text": [
      "[CV] END classifier__C=0.1, classifier__penalty=l2, classifier__solver=liblinear, vectorizer__max_df=0.9, vectorizer__max_features=10000, vectorizer__ngram_range=(1, 1); total time=   5.6s\n"
     ]
    },
    {
     "name": "stderr",
     "output_type": "stream",
     "text": [
      "100%|██████████| 11044/11044 [00:03<00:00, 3018.36it/s]\n",
      "100%|██████████| 5522/5522 [00:01<00:00, 2988.42it/s]\n"
     ]
    },
    {
     "name": "stdout",
     "output_type": "stream",
     "text": [
      "[CV] END classifier__C=0.1, classifier__penalty=l2, classifier__solver=liblinear, vectorizer__max_df=0.9, vectorizer__max_features=10000, vectorizer__ngram_range=(1, 2); total time=   5.8s\n"
     ]
    },
    {
     "name": "stderr",
     "output_type": "stream",
     "text": [
      "100%|██████████| 11044/11044 [00:03<00:00, 2993.01it/s]\n",
      "100%|██████████| 5522/5522 [00:01<00:00, 3040.10it/s]\n"
     ]
    },
    {
     "name": "stdout",
     "output_type": "stream",
     "text": [
      "[CV] END classifier__C=0.1, classifier__penalty=l2, classifier__solver=liblinear, vectorizer__max_df=0.9, vectorizer__max_features=10000, vectorizer__ngram_range=(1, 2); total time=   5.8s\n"
     ]
    },
    {
     "name": "stderr",
     "output_type": "stream",
     "text": [
      "100%|██████████| 11044/11044 [00:03<00:00, 3025.76it/s]\n",
      "100%|██████████| 5522/5522 [00:01<00:00, 3005.77it/s]\n"
     ]
    },
    {
     "name": "stdout",
     "output_type": "stream",
     "text": [
      "[CV] END classifier__C=0.1, classifier__penalty=l2, classifier__solver=liblinear, vectorizer__max_df=0.9, vectorizer__max_features=10000, vectorizer__ngram_range=(1, 2); total time=   5.8s\n"
     ]
    },
    {
     "name": "stderr",
     "output_type": "stream",
     "text": [
      "100%|██████████| 11044/11044 [00:03<00:00, 3040.26it/s]\n",
      "100%|██████████| 5522/5522 [00:01<00:00, 2942.24it/s]\n"
     ]
    },
    {
     "name": "stdout",
     "output_type": "stream",
     "text": [
      "[CV] END classifier__C=1, classifier__penalty=l1, classifier__solver=liblinear, vectorizer__max_df=0.75, vectorizer__max_features=5000, vectorizer__ngram_range=(1, 1); total time=   5.6s\n"
     ]
    },
    {
     "name": "stderr",
     "output_type": "stream",
     "text": [
      "100%|██████████| 11044/11044 [00:03<00:00, 2930.80it/s]\n",
      "100%|██████████| 5522/5522 [00:01<00:00, 3033.40it/s]\n"
     ]
    },
    {
     "name": "stdout",
     "output_type": "stream",
     "text": [
      "[CV] END classifier__C=1, classifier__penalty=l1, classifier__solver=liblinear, vectorizer__max_df=0.75, vectorizer__max_features=5000, vectorizer__ngram_range=(1, 1); total time=   5.7s\n"
     ]
    },
    {
     "name": "stderr",
     "output_type": "stream",
     "text": [
      "100%|██████████| 11044/11044 [00:03<00:00, 2974.93it/s]\n",
      "100%|██████████| 5522/5522 [00:01<00:00, 3010.82it/s]\n"
     ]
    },
    {
     "name": "stdout",
     "output_type": "stream",
     "text": [
      "[CV] END classifier__C=1, classifier__penalty=l1, classifier__solver=liblinear, vectorizer__max_df=0.75, vectorizer__max_features=5000, vectorizer__ngram_range=(1, 1); total time=   5.6s\n"
     ]
    },
    {
     "name": "stderr",
     "output_type": "stream",
     "text": [
      "100%|██████████| 11044/11044 [00:03<00:00, 3028.62it/s]\n",
      "100%|██████████| 5522/5522 [00:01<00:00, 2950.77it/s]\n"
     ]
    },
    {
     "name": "stdout",
     "output_type": "stream",
     "text": [
      "[CV] END classifier__C=1, classifier__penalty=l1, classifier__solver=liblinear, vectorizer__max_df=0.75, vectorizer__max_features=5000, vectorizer__ngram_range=(1, 2); total time=   5.8s\n"
     ]
    },
    {
     "name": "stderr",
     "output_type": "stream",
     "text": [
      "100%|██████████| 11044/11044 [00:03<00:00, 3009.38it/s]\n",
      "100%|██████████| 5522/5522 [00:01<00:00, 3040.89it/s]\n"
     ]
    },
    {
     "name": "stdout",
     "output_type": "stream",
     "text": [
      "[CV] END classifier__C=1, classifier__penalty=l1, classifier__solver=liblinear, vectorizer__max_df=0.75, vectorizer__max_features=5000, vectorizer__ngram_range=(1, 2); total time=   5.7s\n"
     ]
    },
    {
     "name": "stderr",
     "output_type": "stream",
     "text": [
      "100%|██████████| 11044/11044 [00:03<00:00, 2992.23it/s]\n",
      "100%|██████████| 5522/5522 [00:01<00:00, 3026.12it/s]\n"
     ]
    },
    {
     "name": "stdout",
     "output_type": "stream",
     "text": [
      "[CV] END classifier__C=1, classifier__penalty=l1, classifier__solver=liblinear, vectorizer__max_df=0.75, vectorizer__max_features=5000, vectorizer__ngram_range=(1, 2); total time=   5.8s\n"
     ]
    },
    {
     "name": "stderr",
     "output_type": "stream",
     "text": [
      "100%|██████████| 11044/11044 [00:03<00:00, 3014.00it/s]\n",
      "100%|██████████| 5522/5522 [00:01<00:00, 2985.75it/s]\n"
     ]
    },
    {
     "name": "stdout",
     "output_type": "stream",
     "text": [
      "[CV] END classifier__C=1, classifier__penalty=l1, classifier__solver=liblinear, vectorizer__max_df=0.75, vectorizer__max_features=10000, vectorizer__ngram_range=(1, 1); total time=   5.6s\n"
     ]
    },
    {
     "name": "stderr",
     "output_type": "stream",
     "text": [
      "100%|██████████| 11044/11044 [00:03<00:00, 3019.57it/s]\n",
      "100%|██████████| 5522/5522 [00:01<00:00, 2990.15it/s]\n"
     ]
    },
    {
     "name": "stdout",
     "output_type": "stream",
     "text": [
      "[CV] END classifier__C=1, classifier__penalty=l1, classifier__solver=liblinear, vectorizer__max_df=0.75, vectorizer__max_features=10000, vectorizer__ngram_range=(1, 1); total time=   5.6s\n"
     ]
    },
    {
     "name": "stderr",
     "output_type": "stream",
     "text": [
      "100%|██████████| 11044/11044 [00:03<00:00, 3022.16it/s]\n",
      "100%|██████████| 5522/5522 [00:01<00:00, 3014.58it/s]\n"
     ]
    },
    {
     "name": "stdout",
     "output_type": "stream",
     "text": [
      "[CV] END classifier__C=1, classifier__penalty=l1, classifier__solver=liblinear, vectorizer__max_df=0.75, vectorizer__max_features=10000, vectorizer__ngram_range=(1, 1); total time=   5.6s\n"
     ]
    },
    {
     "name": "stderr",
     "output_type": "stream",
     "text": [
      "100%|██████████| 11044/11044 [00:03<00:00, 3019.12it/s]\n",
      "100%|██████████| 5522/5522 [00:01<00:00, 2993.19it/s]\n"
     ]
    },
    {
     "name": "stdout",
     "output_type": "stream",
     "text": [
      "[CV] END classifier__C=1, classifier__penalty=l1, classifier__solver=liblinear, vectorizer__max_df=0.75, vectorizer__max_features=10000, vectorizer__ngram_range=(1, 2); total time=   5.8s\n"
     ]
    },
    {
     "name": "stderr",
     "output_type": "stream",
     "text": [
      "100%|██████████| 11044/11044 [00:03<00:00, 2987.54it/s]\n",
      "100%|██████████| 5522/5522 [00:01<00:00, 3042.93it/s]\n"
     ]
    },
    {
     "name": "stdout",
     "output_type": "stream",
     "text": [
      "[CV] END classifier__C=1, classifier__penalty=l1, classifier__solver=liblinear, vectorizer__max_df=0.75, vectorizer__max_features=10000, vectorizer__ngram_range=(1, 2); total time=   5.8s\n"
     ]
    },
    {
     "name": "stderr",
     "output_type": "stream",
     "text": [
      "100%|██████████| 11044/11044 [00:03<00:00, 2935.62it/s]\n",
      "100%|██████████| 5522/5522 [00:01<00:00, 3016.31it/s]\n"
     ]
    },
    {
     "name": "stdout",
     "output_type": "stream",
     "text": [
      "[CV] END classifier__C=1, classifier__penalty=l1, classifier__solver=liblinear, vectorizer__max_df=0.75, vectorizer__max_features=10000, vectorizer__ngram_range=(1, 2); total time=   5.8s\n"
     ]
    },
    {
     "name": "stderr",
     "output_type": "stream",
     "text": [
      "100%|██████████| 11044/11044 [00:03<00:00, 2878.61it/s]\n",
      "100%|██████████| 5522/5522 [00:01<00:00, 2762.73it/s]\n"
     ]
    },
    {
     "name": "stdout",
     "output_type": "stream",
     "text": [
      "[CV] END classifier__C=1, classifier__penalty=l1, classifier__solver=liblinear, vectorizer__max_df=0.9, vectorizer__max_features=5000, vectorizer__ngram_range=(1, 1); total time=   5.9s\n"
     ]
    },
    {
     "name": "stderr",
     "output_type": "stream",
     "text": [
      "100%|██████████| 11044/11044 [00:03<00:00, 2934.38it/s]\n",
      "100%|██████████| 5522/5522 [00:01<00:00, 2932.22it/s]\n"
     ]
    },
    {
     "name": "stdout",
     "output_type": "stream",
     "text": [
      "[CV] END classifier__C=1, classifier__penalty=l1, classifier__solver=liblinear, vectorizer__max_df=0.9, vectorizer__max_features=5000, vectorizer__ngram_range=(1, 1); total time=   5.7s\n"
     ]
    },
    {
     "name": "stderr",
     "output_type": "stream",
     "text": [
      "100%|██████████| 11044/11044 [00:03<00:00, 2960.41it/s]\n",
      "100%|██████████| 5522/5522 [00:01<00:00, 2970.40it/s]\n"
     ]
    },
    {
     "name": "stdout",
     "output_type": "stream",
     "text": [
      "[CV] END classifier__C=1, classifier__penalty=l1, classifier__solver=liblinear, vectorizer__max_df=0.9, vectorizer__max_features=5000, vectorizer__ngram_range=(1, 1); total time=   5.7s\n"
     ]
    },
    {
     "name": "stderr",
     "output_type": "stream",
     "text": [
      "100%|██████████| 11044/11044 [00:03<00:00, 2960.24it/s]\n",
      "100%|██████████| 5522/5522 [00:01<00:00, 2939.50it/s]\n"
     ]
    },
    {
     "name": "stdout",
     "output_type": "stream",
     "text": [
      "[CV] END classifier__C=1, classifier__penalty=l1, classifier__solver=liblinear, vectorizer__max_df=0.9, vectorizer__max_features=5000, vectorizer__ngram_range=(1, 2); total time=   5.9s\n"
     ]
    },
    {
     "name": "stderr",
     "output_type": "stream",
     "text": [
      "100%|██████████| 11044/11044 [00:03<00:00, 2935.82it/s]\n",
      "100%|██████████| 5522/5522 [00:01<00:00, 2988.80it/s]\n"
     ]
    },
    {
     "name": "stdout",
     "output_type": "stream",
     "text": [
      "[CV] END classifier__C=1, classifier__penalty=l1, classifier__solver=liblinear, vectorizer__max_df=0.9, vectorizer__max_features=5000, vectorizer__ngram_range=(1, 2); total time=   5.9s\n"
     ]
    },
    {
     "name": "stderr",
     "output_type": "stream",
     "text": [
      "100%|██████████| 11044/11044 [00:03<00:00, 2944.33it/s]\n",
      "100%|██████████| 5522/5522 [00:01<00:00, 2971.27it/s]\n"
     ]
    },
    {
     "name": "stdout",
     "output_type": "stream",
     "text": [
      "[CV] END classifier__C=1, classifier__penalty=l1, classifier__solver=liblinear, vectorizer__max_df=0.9, vectorizer__max_features=5000, vectorizer__ngram_range=(1, 2); total time=   5.9s\n"
     ]
    },
    {
     "name": "stderr",
     "output_type": "stream",
     "text": [
      "100%|██████████| 11044/11044 [00:03<00:00, 2929.07it/s]\n",
      "100%|██████████| 5522/5522 [00:01<00:00, 2879.22it/s]\n"
     ]
    },
    {
     "name": "stdout",
     "output_type": "stream",
     "text": [
      "[CV] END classifier__C=1, classifier__penalty=l1, classifier__solver=liblinear, vectorizer__max_df=0.9, vectorizer__max_features=10000, vectorizer__ngram_range=(1, 1); total time=   5.8s\n"
     ]
    },
    {
     "name": "stderr",
     "output_type": "stream",
     "text": [
      "100%|██████████| 11044/11044 [00:03<00:00, 2793.99it/s]\n",
      "100%|██████████| 5522/5522 [00:01<00:00, 2949.67it/s]\n"
     ]
    },
    {
     "name": "stdout",
     "output_type": "stream",
     "text": [
      "[CV] END classifier__C=1, classifier__penalty=l1, classifier__solver=liblinear, vectorizer__max_df=0.9, vectorizer__max_features=10000, vectorizer__ngram_range=(1, 1); total time=   5.9s\n"
     ]
    },
    {
     "name": "stderr",
     "output_type": "stream",
     "text": [
      "100%|██████████| 11044/11044 [00:03<00:00, 3017.57it/s]\n",
      "100%|██████████| 5522/5522 [00:02<00:00, 2735.04it/s]\n"
     ]
    },
    {
     "name": "stdout",
     "output_type": "stream",
     "text": [
      "[CV] END classifier__C=1, classifier__penalty=l1, classifier__solver=liblinear, vectorizer__max_df=0.9, vectorizer__max_features=10000, vectorizer__ngram_range=(1, 1); total time=   5.8s\n"
     ]
    },
    {
     "name": "stderr",
     "output_type": "stream",
     "text": [
      "100%|██████████| 11044/11044 [00:03<00:00, 2763.54it/s]\n",
      "100%|██████████| 5522/5522 [00:01<00:00, 2867.37it/s]\n"
     ]
    },
    {
     "name": "stdout",
     "output_type": "stream",
     "text": [
      "[CV] END classifier__C=1, classifier__penalty=l1, classifier__solver=liblinear, vectorizer__max_df=0.9, vectorizer__max_features=10000, vectorizer__ngram_range=(1, 2); total time=   6.2s\n"
     ]
    },
    {
     "name": "stderr",
     "output_type": "stream",
     "text": [
      "100%|██████████| 11044/11044 [00:03<00:00, 2873.55it/s]\n",
      "100%|██████████| 5522/5522 [00:01<00:00, 2849.89it/s]\n"
     ]
    },
    {
     "name": "stdout",
     "output_type": "stream",
     "text": [
      "[CV] END classifier__C=1, classifier__penalty=l1, classifier__solver=liblinear, vectorizer__max_df=0.9, vectorizer__max_features=10000, vectorizer__ngram_range=(1, 2); total time=   6.1s\n"
     ]
    },
    {
     "name": "stderr",
     "output_type": "stream",
     "text": [
      "100%|██████████| 11044/11044 [00:03<00:00, 2886.44it/s]\n",
      "100%|██████████| 5522/5522 [00:01<00:00, 2853.44it/s]\n"
     ]
    },
    {
     "name": "stdout",
     "output_type": "stream",
     "text": [
      "[CV] END classifier__C=1, classifier__penalty=l1, classifier__solver=liblinear, vectorizer__max_df=0.9, vectorizer__max_features=10000, vectorizer__ngram_range=(1, 2); total time=   6.0s\n"
     ]
    },
    {
     "name": "stderr",
     "output_type": "stream",
     "text": [
      "100%|██████████| 11044/11044 [00:03<00:00, 2818.69it/s]\n",
      "100%|██████████| 5522/5522 [00:01<00:00, 2842.73it/s]\n"
     ]
    },
    {
     "name": "stdout",
     "output_type": "stream",
     "text": [
      "[CV] END classifier__C=1, classifier__penalty=l2, classifier__solver=liblinear, vectorizer__max_df=0.75, vectorizer__max_features=5000, vectorizer__ngram_range=(1, 1); total time=   6.0s\n"
     ]
    },
    {
     "name": "stderr",
     "output_type": "stream",
     "text": [
      "100%|██████████| 11044/11044 [00:03<00:00, 2973.70it/s]\n",
      "100%|██████████| 5522/5522 [00:01<00:00, 2958.83it/s]\n"
     ]
    },
    {
     "name": "stdout",
     "output_type": "stream",
     "text": [
      "[CV] END classifier__C=1, classifier__penalty=l2, classifier__solver=liblinear, vectorizer__max_df=0.75, vectorizer__max_features=5000, vectorizer__ngram_range=(1, 1); total time=   5.7s\n"
     ]
    },
    {
     "name": "stderr",
     "output_type": "stream",
     "text": [
      "100%|██████████| 11044/11044 [00:03<00:00, 2788.50it/s]\n",
      "100%|██████████| 5522/5522 [00:01<00:00, 2810.44it/s]\n"
     ]
    },
    {
     "name": "stdout",
     "output_type": "stream",
     "text": [
      "[CV] END classifier__C=1, classifier__penalty=l2, classifier__solver=liblinear, vectorizer__max_df=0.75, vectorizer__max_features=5000, vectorizer__ngram_range=(1, 1); total time=   6.0s\n"
     ]
    },
    {
     "name": "stderr",
     "output_type": "stream",
     "text": [
      "100%|██████████| 11044/11044 [00:03<00:00, 2962.51it/s]\n",
      "100%|██████████| 5522/5522 [00:01<00:00, 2939.52it/s]\n"
     ]
    },
    {
     "name": "stdout",
     "output_type": "stream",
     "text": [
      "[CV] END classifier__C=1, classifier__penalty=l2, classifier__solver=liblinear, vectorizer__max_df=0.75, vectorizer__max_features=5000, vectorizer__ngram_range=(1, 2); total time=   5.9s\n"
     ]
    },
    {
     "name": "stderr",
     "output_type": "stream",
     "text": [
      "100%|██████████| 11044/11044 [00:03<00:00, 2933.38it/s]\n",
      "100%|██████████| 5522/5522 [00:01<00:00, 2985.29it/s]\n"
     ]
    },
    {
     "name": "stdout",
     "output_type": "stream",
     "text": [
      "[CV] END classifier__C=1, classifier__penalty=l2, classifier__solver=liblinear, vectorizer__max_df=0.75, vectorizer__max_features=5000, vectorizer__ngram_range=(1, 2); total time=   5.9s\n"
     ]
    },
    {
     "name": "stderr",
     "output_type": "stream",
     "text": [
      "100%|██████████| 11044/11044 [00:03<00:00, 2945.72it/s]\n",
      "100%|██████████| 5522/5522 [00:01<00:00, 2952.28it/s]\n"
     ]
    },
    {
     "name": "stdout",
     "output_type": "stream",
     "text": [
      "[CV] END classifier__C=1, classifier__penalty=l2, classifier__solver=liblinear, vectorizer__max_df=0.75, vectorizer__max_features=5000, vectorizer__ngram_range=(1, 2); total time=   5.9s\n"
     ]
    },
    {
     "name": "stderr",
     "output_type": "stream",
     "text": [
      "100%|██████████| 11044/11044 [00:03<00:00, 2959.25it/s]\n",
      "100%|██████████| 5522/5522 [00:01<00:00, 2924.13it/s]\n"
     ]
    },
    {
     "name": "stdout",
     "output_type": "stream",
     "text": [
      "[CV] END classifier__C=1, classifier__penalty=l2, classifier__solver=liblinear, vectorizer__max_df=0.75, vectorizer__max_features=10000, vectorizer__ngram_range=(1, 1); total time=   5.7s\n"
     ]
    },
    {
     "name": "stderr",
     "output_type": "stream",
     "text": [
      "100%|██████████| 11044/11044 [00:03<00:00, 2937.04it/s]\n",
      "100%|██████████| 5522/5522 [00:01<00:00, 2985.66it/s]\n"
     ]
    },
    {
     "name": "stdout",
     "output_type": "stream",
     "text": [
      "[CV] END classifier__C=1, classifier__penalty=l2, classifier__solver=liblinear, vectorizer__max_df=0.75, vectorizer__max_features=10000, vectorizer__ngram_range=(1, 1); total time=   5.7s\n"
     ]
    },
    {
     "name": "stderr",
     "output_type": "stream",
     "text": [
      "100%|██████████| 11044/11044 [00:03<00:00, 2899.49it/s]\n",
      "100%|██████████| 5522/5522 [00:01<00:00, 2947.54it/s]\n"
     ]
    },
    {
     "name": "stdout",
     "output_type": "stream",
     "text": [
      "[CV] END classifier__C=1, classifier__penalty=l2, classifier__solver=liblinear, vectorizer__max_df=0.75, vectorizer__max_features=10000, vectorizer__ngram_range=(1, 1); total time=   5.8s\n"
     ]
    },
    {
     "name": "stderr",
     "output_type": "stream",
     "text": [
      "100%|██████████| 11044/11044 [00:03<00:00, 2938.47it/s]\n",
      "100%|██████████| 5522/5522 [00:01<00:00, 2933.03it/s]\n"
     ]
    },
    {
     "name": "stdout",
     "output_type": "stream",
     "text": [
      "[CV] END classifier__C=1, classifier__penalty=l2, classifier__solver=liblinear, vectorizer__max_df=0.75, vectorizer__max_features=10000, vectorizer__ngram_range=(1, 2); total time=   5.9s\n"
     ]
    },
    {
     "name": "stderr",
     "output_type": "stream",
     "text": [
      "100%|██████████| 11044/11044 [00:03<00:00, 2932.76it/s]\n",
      "100%|██████████| 5522/5522 [00:01<00:00, 2978.89it/s]\n"
     ]
    },
    {
     "name": "stdout",
     "output_type": "stream",
     "text": [
      "[CV] END classifier__C=1, classifier__penalty=l2, classifier__solver=liblinear, vectorizer__max_df=0.75, vectorizer__max_features=10000, vectorizer__ngram_range=(1, 2); total time=   5.9s\n"
     ]
    },
    {
     "name": "stderr",
     "output_type": "stream",
     "text": [
      "100%|██████████| 11044/11044 [00:03<00:00, 2947.47it/s]\n",
      "100%|██████████| 5522/5522 [00:01<00:00, 2946.78it/s]\n"
     ]
    },
    {
     "name": "stdout",
     "output_type": "stream",
     "text": [
      "[CV] END classifier__C=1, classifier__penalty=l2, classifier__solver=liblinear, vectorizer__max_df=0.75, vectorizer__max_features=10000, vectorizer__ngram_range=(1, 2); total time=   5.9s\n"
     ]
    },
    {
     "name": "stderr",
     "output_type": "stream",
     "text": [
      "100%|██████████| 11044/11044 [00:03<00:00, 2959.22it/s]\n",
      "100%|██████████| 5522/5522 [00:01<00:00, 2934.91it/s]\n"
     ]
    },
    {
     "name": "stdout",
     "output_type": "stream",
     "text": [
      "[CV] END classifier__C=1, classifier__penalty=l2, classifier__solver=liblinear, vectorizer__max_df=0.9, vectorizer__max_features=5000, vectorizer__ngram_range=(1, 1); total time=   5.7s\n"
     ]
    },
    {
     "name": "stderr",
     "output_type": "stream",
     "text": [
      "100%|██████████| 11044/11044 [00:03<00:00, 2932.83it/s]\n",
      "100%|██████████| 5522/5522 [00:01<00:00, 2984.47it/s]\n"
     ]
    },
    {
     "name": "stdout",
     "output_type": "stream",
     "text": [
      "[CV] END classifier__C=1, classifier__penalty=l2, classifier__solver=liblinear, vectorizer__max_df=0.9, vectorizer__max_features=5000, vectorizer__ngram_range=(1, 1); total time=   5.7s\n"
     ]
    },
    {
     "name": "stderr",
     "output_type": "stream",
     "text": [
      "100%|██████████| 11044/11044 [00:03<00:00, 2947.12it/s]\n",
      "100%|██████████| 5522/5522 [00:01<00:00, 2947.06it/s]\n"
     ]
    },
    {
     "name": "stdout",
     "output_type": "stream",
     "text": [
      "[CV] END classifier__C=1, classifier__penalty=l2, classifier__solver=liblinear, vectorizer__max_df=0.9, vectorizer__max_features=5000, vectorizer__ngram_range=(1, 1); total time=   5.7s\n"
     ]
    },
    {
     "name": "stderr",
     "output_type": "stream",
     "text": [
      "100%|██████████| 11044/11044 [00:03<00:00, 2962.71it/s]\n",
      "100%|██████████| 5522/5522 [00:01<00:00, 2946.24it/s]\n"
     ]
    },
    {
     "name": "stdout",
     "output_type": "stream",
     "text": [
      "[CV] END classifier__C=1, classifier__penalty=l2, classifier__solver=liblinear, vectorizer__max_df=0.9, vectorizer__max_features=5000, vectorizer__ngram_range=(1, 2); total time=   5.9s\n"
     ]
    },
    {
     "name": "stderr",
     "output_type": "stream",
     "text": [
      "100%|██████████| 11044/11044 [00:03<00:00, 2938.42it/s]\n",
      "100%|██████████| 5522/5522 [00:01<00:00, 2989.85it/s]\n"
     ]
    },
    {
     "name": "stdout",
     "output_type": "stream",
     "text": [
      "[CV] END classifier__C=1, classifier__penalty=l2, classifier__solver=liblinear, vectorizer__max_df=0.9, vectorizer__max_features=5000, vectorizer__ngram_range=(1, 2); total time=   5.9s\n"
     ]
    },
    {
     "name": "stderr",
     "output_type": "stream",
     "text": [
      "100%|██████████| 11044/11044 [00:03<00:00, 2944.68it/s]\n",
      "100%|██████████| 5522/5522 [00:01<00:00, 2956.85it/s]\n"
     ]
    },
    {
     "name": "stdout",
     "output_type": "stream",
     "text": [
      "[CV] END classifier__C=1, classifier__penalty=l2, classifier__solver=liblinear, vectorizer__max_df=0.9, vectorizer__max_features=5000, vectorizer__ngram_range=(1, 2); total time=   5.9s\n"
     ]
    },
    {
     "name": "stderr",
     "output_type": "stream",
     "text": [
      "100%|██████████| 11044/11044 [00:03<00:00, 2902.45it/s]\n",
      "100%|██████████| 5522/5522 [00:01<00:00, 2933.26it/s]\n"
     ]
    },
    {
     "name": "stdout",
     "output_type": "stream",
     "text": [
      "[CV] END classifier__C=1, classifier__penalty=l2, classifier__solver=liblinear, vectorizer__max_df=0.9, vectorizer__max_features=10000, vectorizer__ngram_range=(1, 1); total time=   5.8s\n"
     ]
    },
    {
     "name": "stderr",
     "output_type": "stream",
     "text": [
      "100%|██████████| 11044/11044 [00:03<00:00, 2953.40it/s]\n",
      "100%|██████████| 5522/5522 [00:01<00:00, 2885.64it/s]\n"
     ]
    },
    {
     "name": "stdout",
     "output_type": "stream",
     "text": [
      "[CV] END classifier__C=1, classifier__penalty=l2, classifier__solver=liblinear, vectorizer__max_df=0.9, vectorizer__max_features=10000, vectorizer__ngram_range=(1, 1); total time=   5.8s\n"
     ]
    },
    {
     "name": "stderr",
     "output_type": "stream",
     "text": [
      "100%|██████████| 11044/11044 [00:03<00:00, 2972.67it/s]\n",
      "100%|██████████| 5522/5522 [00:01<00:00, 2895.13it/s]\n"
     ]
    },
    {
     "name": "stdout",
     "output_type": "stream",
     "text": [
      "[CV] END classifier__C=1, classifier__penalty=l2, classifier__solver=liblinear, vectorizer__max_df=0.9, vectorizer__max_features=10000, vectorizer__ngram_range=(1, 1); total time=   5.7s\n"
     ]
    },
    {
     "name": "stderr",
     "output_type": "stream",
     "text": [
      "100%|██████████| 11044/11044 [00:03<00:00, 2984.34it/s]\n",
      "100%|██████████| 5522/5522 [00:01<00:00, 2892.59it/s]\n"
     ]
    },
    {
     "name": "stdout",
     "output_type": "stream",
     "text": [
      "[CV] END classifier__C=1, classifier__penalty=l2, classifier__solver=liblinear, vectorizer__max_df=0.9, vectorizer__max_features=10000, vectorizer__ngram_range=(1, 2); total time=   5.9s\n"
     ]
    },
    {
     "name": "stderr",
     "output_type": "stream",
     "text": [
      "100%|██████████| 11044/11044 [00:03<00:00, 2955.41it/s]\n",
      "100%|██████████| 5522/5522 [00:01<00:00, 2935.49it/s]\n"
     ]
    },
    {
     "name": "stdout",
     "output_type": "stream",
     "text": [
      "[CV] END classifier__C=1, classifier__penalty=l2, classifier__solver=liblinear, vectorizer__max_df=0.9, vectorizer__max_features=10000, vectorizer__ngram_range=(1, 2); total time=   5.9s\n"
     ]
    },
    {
     "name": "stderr",
     "output_type": "stream",
     "text": [
      "100%|██████████| 11044/11044 [00:03<00:00, 2932.03it/s]\n",
      "100%|██████████| 5522/5522 [00:01<00:00, 2840.86it/s]\n"
     ]
    },
    {
     "name": "stdout",
     "output_type": "stream",
     "text": [
      "[CV] END classifier__C=1, classifier__penalty=l2, classifier__solver=liblinear, vectorizer__max_df=0.9, vectorizer__max_features=10000, vectorizer__ngram_range=(1, 2); total time=   6.0s\n"
     ]
    },
    {
     "name": "stderr",
     "output_type": "stream",
     "text": [
      "100%|██████████| 16566/16566 [00:05<00:00, 2959.75it/s]\n"
     ]
    },
    {
     "data": {
      "text/html": [
       "<style>#sk-container-id-4 {\n",
       "  /* Definition of color scheme common for light and dark mode */\n",
       "  --sklearn-color-text: #000;\n",
       "  --sklearn-color-text-muted: #666;\n",
       "  --sklearn-color-line: gray;\n",
       "  /* Definition of color scheme for unfitted estimators */\n",
       "  --sklearn-color-unfitted-level-0: #fff5e6;\n",
       "  --sklearn-color-unfitted-level-1: #f6e4d2;\n",
       "  --sklearn-color-unfitted-level-2: #ffe0b3;\n",
       "  --sklearn-color-unfitted-level-3: chocolate;\n",
       "  /* Definition of color scheme for fitted estimators */\n",
       "  --sklearn-color-fitted-level-0: #f0f8ff;\n",
       "  --sklearn-color-fitted-level-1: #d4ebff;\n",
       "  --sklearn-color-fitted-level-2: #b3dbfd;\n",
       "  --sklearn-color-fitted-level-3: cornflowerblue;\n",
       "\n",
       "  /* Specific color for light theme */\n",
       "  --sklearn-color-text-on-default-background: var(--sg-text-color, var(--theme-code-foreground, var(--jp-content-font-color1, black)));\n",
       "  --sklearn-color-background: var(--sg-background-color, var(--theme-background, var(--jp-layout-color0, white)));\n",
       "  --sklearn-color-border-box: var(--sg-text-color, var(--theme-code-foreground, var(--jp-content-font-color1, black)));\n",
       "  --sklearn-color-icon: #696969;\n",
       "\n",
       "  @media (prefers-color-scheme: dark) {\n",
       "    /* Redefinition of color scheme for dark theme */\n",
       "    --sklearn-color-text-on-default-background: var(--sg-text-color, var(--theme-code-foreground, var(--jp-content-font-color1, white)));\n",
       "    --sklearn-color-background: var(--sg-background-color, var(--theme-background, var(--jp-layout-color0, #111)));\n",
       "    --sklearn-color-border-box: var(--sg-text-color, var(--theme-code-foreground, var(--jp-content-font-color1, white)));\n",
       "    --sklearn-color-icon: #878787;\n",
       "  }\n",
       "}\n",
       "\n",
       "#sk-container-id-4 {\n",
       "  color: var(--sklearn-color-text);\n",
       "}\n",
       "\n",
       "#sk-container-id-4 pre {\n",
       "  padding: 0;\n",
       "}\n",
       "\n",
       "#sk-container-id-4 input.sk-hidden--visually {\n",
       "  border: 0;\n",
       "  clip: rect(1px 1px 1px 1px);\n",
       "  clip: rect(1px, 1px, 1px, 1px);\n",
       "  height: 1px;\n",
       "  margin: -1px;\n",
       "  overflow: hidden;\n",
       "  padding: 0;\n",
       "  position: absolute;\n",
       "  width: 1px;\n",
       "}\n",
       "\n",
       "#sk-container-id-4 div.sk-dashed-wrapped {\n",
       "  border: 1px dashed var(--sklearn-color-line);\n",
       "  margin: 0 0.4em 0.5em 0.4em;\n",
       "  box-sizing: border-box;\n",
       "  padding-bottom: 0.4em;\n",
       "  background-color: var(--sklearn-color-background);\n",
       "}\n",
       "\n",
       "#sk-container-id-4 div.sk-container {\n",
       "  /* jupyter's `normalize.less` sets `[hidden] { display: none; }`\n",
       "     but bootstrap.min.css set `[hidden] { display: none !important; }`\n",
       "     so we also need the `!important` here to be able to override the\n",
       "     default hidden behavior on the sphinx rendered scikit-learn.org.\n",
       "     See: https://github.com/scikit-learn/scikit-learn/issues/21755 */\n",
       "  display: inline-block !important;\n",
       "  position: relative;\n",
       "}\n",
       "\n",
       "#sk-container-id-4 div.sk-text-repr-fallback {\n",
       "  display: none;\n",
       "}\n",
       "\n",
       "div.sk-parallel-item,\n",
       "div.sk-serial,\n",
       "div.sk-item {\n",
       "  /* draw centered vertical line to link estimators */\n",
       "  background-image: linear-gradient(var(--sklearn-color-text-on-default-background), var(--sklearn-color-text-on-default-background));\n",
       "  background-size: 2px 100%;\n",
       "  background-repeat: no-repeat;\n",
       "  background-position: center center;\n",
       "}\n",
       "\n",
       "/* Parallel-specific style estimator block */\n",
       "\n",
       "#sk-container-id-4 div.sk-parallel-item::after {\n",
       "  content: \"\";\n",
       "  width: 100%;\n",
       "  border-bottom: 2px solid var(--sklearn-color-text-on-default-background);\n",
       "  flex-grow: 1;\n",
       "}\n",
       "\n",
       "#sk-container-id-4 div.sk-parallel {\n",
       "  display: flex;\n",
       "  align-items: stretch;\n",
       "  justify-content: center;\n",
       "  background-color: var(--sklearn-color-background);\n",
       "  position: relative;\n",
       "}\n",
       "\n",
       "#sk-container-id-4 div.sk-parallel-item {\n",
       "  display: flex;\n",
       "  flex-direction: column;\n",
       "}\n",
       "\n",
       "#sk-container-id-4 div.sk-parallel-item:first-child::after {\n",
       "  align-self: flex-end;\n",
       "  width: 50%;\n",
       "}\n",
       "\n",
       "#sk-container-id-4 div.sk-parallel-item:last-child::after {\n",
       "  align-self: flex-start;\n",
       "  width: 50%;\n",
       "}\n",
       "\n",
       "#sk-container-id-4 div.sk-parallel-item:only-child::after {\n",
       "  width: 0;\n",
       "}\n",
       "\n",
       "/* Serial-specific style estimator block */\n",
       "\n",
       "#sk-container-id-4 div.sk-serial {\n",
       "  display: flex;\n",
       "  flex-direction: column;\n",
       "  align-items: center;\n",
       "  background-color: var(--sklearn-color-background);\n",
       "  padding-right: 1em;\n",
       "  padding-left: 1em;\n",
       "}\n",
       "\n",
       "\n",
       "/* Toggleable style: style used for estimator/Pipeline/ColumnTransformer box that is\n",
       "clickable and can be expanded/collapsed.\n",
       "- Pipeline and ColumnTransformer use this feature and define the default style\n",
       "- Estimators will overwrite some part of the style using the `sk-estimator` class\n",
       "*/\n",
       "\n",
       "/* Pipeline and ColumnTransformer style (default) */\n",
       "\n",
       "#sk-container-id-4 div.sk-toggleable {\n",
       "  /* Default theme specific background. It is overwritten whether we have a\n",
       "  specific estimator or a Pipeline/ColumnTransformer */\n",
       "  background-color: var(--sklearn-color-background);\n",
       "}\n",
       "\n",
       "/* Toggleable label */\n",
       "#sk-container-id-4 label.sk-toggleable__label {\n",
       "  cursor: pointer;\n",
       "  display: flex;\n",
       "  width: 100%;\n",
       "  margin-bottom: 0;\n",
       "  padding: 0.5em;\n",
       "  box-sizing: border-box;\n",
       "  text-align: center;\n",
       "  align-items: start;\n",
       "  justify-content: space-between;\n",
       "  gap: 0.5em;\n",
       "}\n",
       "\n",
       "#sk-container-id-4 label.sk-toggleable__label .caption {\n",
       "  font-size: 0.6rem;\n",
       "  font-weight: lighter;\n",
       "  color: var(--sklearn-color-text-muted);\n",
       "}\n",
       "\n",
       "#sk-container-id-4 label.sk-toggleable__label-arrow:before {\n",
       "  /* Arrow on the left of the label */\n",
       "  content: \"▸\";\n",
       "  float: left;\n",
       "  margin-right: 0.25em;\n",
       "  color: var(--sklearn-color-icon);\n",
       "}\n",
       "\n",
       "#sk-container-id-4 label.sk-toggleable__label-arrow:hover:before {\n",
       "  color: var(--sklearn-color-text);\n",
       "}\n",
       "\n",
       "/* Toggleable content - dropdown */\n",
       "\n",
       "#sk-container-id-4 div.sk-toggleable__content {\n",
       "  max-height: 0;\n",
       "  max-width: 0;\n",
       "  overflow: hidden;\n",
       "  text-align: left;\n",
       "  /* unfitted */\n",
       "  background-color: var(--sklearn-color-unfitted-level-0);\n",
       "}\n",
       "\n",
       "#sk-container-id-4 div.sk-toggleable__content.fitted {\n",
       "  /* fitted */\n",
       "  background-color: var(--sklearn-color-fitted-level-0);\n",
       "}\n",
       "\n",
       "#sk-container-id-4 div.sk-toggleable__content pre {\n",
       "  margin: 0.2em;\n",
       "  border-radius: 0.25em;\n",
       "  color: var(--sklearn-color-text);\n",
       "  /* unfitted */\n",
       "  background-color: var(--sklearn-color-unfitted-level-0);\n",
       "}\n",
       "\n",
       "#sk-container-id-4 div.sk-toggleable__content.fitted pre {\n",
       "  /* unfitted */\n",
       "  background-color: var(--sklearn-color-fitted-level-0);\n",
       "}\n",
       "\n",
       "#sk-container-id-4 input.sk-toggleable__control:checked~div.sk-toggleable__content {\n",
       "  /* Expand drop-down */\n",
       "  max-height: 200px;\n",
       "  max-width: 100%;\n",
       "  overflow: auto;\n",
       "}\n",
       "\n",
       "#sk-container-id-4 input.sk-toggleable__control:checked~label.sk-toggleable__label-arrow:before {\n",
       "  content: \"▾\";\n",
       "}\n",
       "\n",
       "/* Pipeline/ColumnTransformer-specific style */\n",
       "\n",
       "#sk-container-id-4 div.sk-label input.sk-toggleable__control:checked~label.sk-toggleable__label {\n",
       "  color: var(--sklearn-color-text);\n",
       "  background-color: var(--sklearn-color-unfitted-level-2);\n",
       "}\n",
       "\n",
       "#sk-container-id-4 div.sk-label.fitted input.sk-toggleable__control:checked~label.sk-toggleable__label {\n",
       "  background-color: var(--sklearn-color-fitted-level-2);\n",
       "}\n",
       "\n",
       "/* Estimator-specific style */\n",
       "\n",
       "/* Colorize estimator box */\n",
       "#sk-container-id-4 div.sk-estimator input.sk-toggleable__control:checked~label.sk-toggleable__label {\n",
       "  /* unfitted */\n",
       "  background-color: var(--sklearn-color-unfitted-level-2);\n",
       "}\n",
       "\n",
       "#sk-container-id-4 div.sk-estimator.fitted input.sk-toggleable__control:checked~label.sk-toggleable__label {\n",
       "  /* fitted */\n",
       "  background-color: var(--sklearn-color-fitted-level-2);\n",
       "}\n",
       "\n",
       "#sk-container-id-4 div.sk-label label.sk-toggleable__label,\n",
       "#sk-container-id-4 div.sk-label label {\n",
       "  /* The background is the default theme color */\n",
       "  color: var(--sklearn-color-text-on-default-background);\n",
       "}\n",
       "\n",
       "/* On hover, darken the color of the background */\n",
       "#sk-container-id-4 div.sk-label:hover label.sk-toggleable__label {\n",
       "  color: var(--sklearn-color-text);\n",
       "  background-color: var(--sklearn-color-unfitted-level-2);\n",
       "}\n",
       "\n",
       "/* Label box, darken color on hover, fitted */\n",
       "#sk-container-id-4 div.sk-label.fitted:hover label.sk-toggleable__label.fitted {\n",
       "  color: var(--sklearn-color-text);\n",
       "  background-color: var(--sklearn-color-fitted-level-2);\n",
       "}\n",
       "\n",
       "/* Estimator label */\n",
       "\n",
       "#sk-container-id-4 div.sk-label label {\n",
       "  font-family: monospace;\n",
       "  font-weight: bold;\n",
       "  display: inline-block;\n",
       "  line-height: 1.2em;\n",
       "}\n",
       "\n",
       "#sk-container-id-4 div.sk-label-container {\n",
       "  text-align: center;\n",
       "}\n",
       "\n",
       "/* Estimator-specific */\n",
       "#sk-container-id-4 div.sk-estimator {\n",
       "  font-family: monospace;\n",
       "  border: 1px dotted var(--sklearn-color-border-box);\n",
       "  border-radius: 0.25em;\n",
       "  box-sizing: border-box;\n",
       "  margin-bottom: 0.5em;\n",
       "  /* unfitted */\n",
       "  background-color: var(--sklearn-color-unfitted-level-0);\n",
       "}\n",
       "\n",
       "#sk-container-id-4 div.sk-estimator.fitted {\n",
       "  /* fitted */\n",
       "  background-color: var(--sklearn-color-fitted-level-0);\n",
       "}\n",
       "\n",
       "/* on hover */\n",
       "#sk-container-id-4 div.sk-estimator:hover {\n",
       "  /* unfitted */\n",
       "  background-color: var(--sklearn-color-unfitted-level-2);\n",
       "}\n",
       "\n",
       "#sk-container-id-4 div.sk-estimator.fitted:hover {\n",
       "  /* fitted */\n",
       "  background-color: var(--sklearn-color-fitted-level-2);\n",
       "}\n",
       "\n",
       "/* Specification for estimator info (e.g. \"i\" and \"?\") */\n",
       "\n",
       "/* Common style for \"i\" and \"?\" */\n",
       "\n",
       ".sk-estimator-doc-link,\n",
       "a:link.sk-estimator-doc-link,\n",
       "a:visited.sk-estimator-doc-link {\n",
       "  float: right;\n",
       "  font-size: smaller;\n",
       "  line-height: 1em;\n",
       "  font-family: monospace;\n",
       "  background-color: var(--sklearn-color-background);\n",
       "  border-radius: 1em;\n",
       "  height: 1em;\n",
       "  width: 1em;\n",
       "  text-decoration: none !important;\n",
       "  margin-left: 0.5em;\n",
       "  text-align: center;\n",
       "  /* unfitted */\n",
       "  border: var(--sklearn-color-unfitted-level-1) 1pt solid;\n",
       "  color: var(--sklearn-color-unfitted-level-1);\n",
       "}\n",
       "\n",
       ".sk-estimator-doc-link.fitted,\n",
       "a:link.sk-estimator-doc-link.fitted,\n",
       "a:visited.sk-estimator-doc-link.fitted {\n",
       "  /* fitted */\n",
       "  border: var(--sklearn-color-fitted-level-1) 1pt solid;\n",
       "  color: var(--sklearn-color-fitted-level-1);\n",
       "}\n",
       "\n",
       "/* On hover */\n",
       "div.sk-estimator:hover .sk-estimator-doc-link:hover,\n",
       ".sk-estimator-doc-link:hover,\n",
       "div.sk-label-container:hover .sk-estimator-doc-link:hover,\n",
       ".sk-estimator-doc-link:hover {\n",
       "  /* unfitted */\n",
       "  background-color: var(--sklearn-color-unfitted-level-3);\n",
       "  color: var(--sklearn-color-background);\n",
       "  text-decoration: none;\n",
       "}\n",
       "\n",
       "div.sk-estimator.fitted:hover .sk-estimator-doc-link.fitted:hover,\n",
       ".sk-estimator-doc-link.fitted:hover,\n",
       "div.sk-label-container:hover .sk-estimator-doc-link.fitted:hover,\n",
       ".sk-estimator-doc-link.fitted:hover {\n",
       "  /* fitted */\n",
       "  background-color: var(--sklearn-color-fitted-level-3);\n",
       "  color: var(--sklearn-color-background);\n",
       "  text-decoration: none;\n",
       "}\n",
       "\n",
       "/* Span, style for the box shown on hovering the info icon */\n",
       ".sk-estimator-doc-link span {\n",
       "  display: none;\n",
       "  z-index: 9999;\n",
       "  position: relative;\n",
       "  font-weight: normal;\n",
       "  right: .2ex;\n",
       "  padding: .5ex;\n",
       "  margin: .5ex;\n",
       "  width: min-content;\n",
       "  min-width: 20ex;\n",
       "  max-width: 50ex;\n",
       "  color: var(--sklearn-color-text);\n",
       "  box-shadow: 2pt 2pt 4pt #999;\n",
       "  /* unfitted */\n",
       "  background: var(--sklearn-color-unfitted-level-0);\n",
       "  border: .5pt solid var(--sklearn-color-unfitted-level-3);\n",
       "}\n",
       "\n",
       ".sk-estimator-doc-link.fitted span {\n",
       "  /* fitted */\n",
       "  background: var(--sklearn-color-fitted-level-0);\n",
       "  border: var(--sklearn-color-fitted-level-3);\n",
       "}\n",
       "\n",
       ".sk-estimator-doc-link:hover span {\n",
       "  display: block;\n",
       "}\n",
       "\n",
       "/* \"?\"-specific style due to the `<a>` HTML tag */\n",
       "\n",
       "#sk-container-id-4 a.estimator_doc_link {\n",
       "  float: right;\n",
       "  font-size: 1rem;\n",
       "  line-height: 1em;\n",
       "  font-family: monospace;\n",
       "  background-color: var(--sklearn-color-background);\n",
       "  border-radius: 1rem;\n",
       "  height: 1rem;\n",
       "  width: 1rem;\n",
       "  text-decoration: none;\n",
       "  /* unfitted */\n",
       "  color: var(--sklearn-color-unfitted-level-1);\n",
       "  border: var(--sklearn-color-unfitted-level-1) 1pt solid;\n",
       "}\n",
       "\n",
       "#sk-container-id-4 a.estimator_doc_link.fitted {\n",
       "  /* fitted */\n",
       "  border: var(--sklearn-color-fitted-level-1) 1pt solid;\n",
       "  color: var(--sklearn-color-fitted-level-1);\n",
       "}\n",
       "\n",
       "/* On hover */\n",
       "#sk-container-id-4 a.estimator_doc_link:hover {\n",
       "  /* unfitted */\n",
       "  background-color: var(--sklearn-color-unfitted-level-3);\n",
       "  color: var(--sklearn-color-background);\n",
       "  text-decoration: none;\n",
       "}\n",
       "\n",
       "#sk-container-id-4 a.estimator_doc_link.fitted:hover {\n",
       "  /* fitted */\n",
       "  background-color: var(--sklearn-color-fitted-level-3);\n",
       "}\n",
       "</style><div id=\"sk-container-id-4\" class=\"sk-top-container\"><div class=\"sk-text-repr-fallback\"><pre>GridSearchCV(cv=3,\n",
       "             estimator=Pipeline(steps=[(&#x27;preprocessor&#x27;, BOWTextPreprocessor()),\n",
       "                                       (&#x27;vectorizer&#x27;, TfidfVectorizer()),\n",
       "                                       (&#x27;classifier&#x27;,\n",
       "                                        LogisticRegression(class_weight=&#x27;balanced&#x27;,\n",
       "                                                           max_iter=1000))]),\n",
       "             n_jobs=1,\n",
       "             param_grid={&#x27;classifier__C&#x27;: [0.1, 1],\n",
       "                         &#x27;classifier__penalty&#x27;: [&#x27;l1&#x27;, &#x27;l2&#x27;],\n",
       "                         &#x27;classifier__solver&#x27;: [&#x27;liblinear&#x27;],\n",
       "                         &#x27;vectorizer__max_df&#x27;: [0.75, 0.9],\n",
       "                         &#x27;vectorizer__max_features&#x27;: [5000, 10000],\n",
       "                         &#x27;vectorizer__ngram_range&#x27;: [(1, 1), (1, 2)]},\n",
       "             scoring=&#x27;f1&#x27;, verbose=2)</pre><b>In a Jupyter environment, please rerun this cell to show the HTML representation or trust the notebook. <br />On GitHub, the HTML representation is unable to render, please try loading this page with nbviewer.org.</b></div><div class=\"sk-container\" hidden><div class=\"sk-item sk-dashed-wrapped\"><div class=\"sk-label-container\"><div class=\"sk-label fitted sk-toggleable\"><input class=\"sk-toggleable__control sk-hidden--visually\" id=\"sk-estimator-id-14\" type=\"checkbox\" ><label for=\"sk-estimator-id-14\" class=\"sk-toggleable__label fitted sk-toggleable__label-arrow\"><div><div>GridSearchCV</div></div><div><a class=\"sk-estimator-doc-link fitted\" rel=\"noreferrer\" target=\"_blank\" href=\"https://scikit-learn.org/1.6/modules/generated/sklearn.model_selection.GridSearchCV.html\">?<span>Documentation for GridSearchCV</span></a><span class=\"sk-estimator-doc-link fitted\">i<span>Fitted</span></span></div></label><div class=\"sk-toggleable__content fitted\"><pre>GridSearchCV(cv=3,\n",
       "             estimator=Pipeline(steps=[(&#x27;preprocessor&#x27;, BOWTextPreprocessor()),\n",
       "                                       (&#x27;vectorizer&#x27;, TfidfVectorizer()),\n",
       "                                       (&#x27;classifier&#x27;,\n",
       "                                        LogisticRegression(class_weight=&#x27;balanced&#x27;,\n",
       "                                                           max_iter=1000))]),\n",
       "             n_jobs=1,\n",
       "             param_grid={&#x27;classifier__C&#x27;: [0.1, 1],\n",
       "                         &#x27;classifier__penalty&#x27;: [&#x27;l1&#x27;, &#x27;l2&#x27;],\n",
       "                         &#x27;classifier__solver&#x27;: [&#x27;liblinear&#x27;],\n",
       "                         &#x27;vectorizer__max_df&#x27;: [0.75, 0.9],\n",
       "                         &#x27;vectorizer__max_features&#x27;: [5000, 10000],\n",
       "                         &#x27;vectorizer__ngram_range&#x27;: [(1, 1), (1, 2)]},\n",
       "             scoring=&#x27;f1&#x27;, verbose=2)</pre></div> </div></div><div class=\"sk-parallel\"><div class=\"sk-parallel-item\"><div class=\"sk-item\"><div class=\"sk-label-container\"><div class=\"sk-label fitted sk-toggleable\"><input class=\"sk-toggleable__control sk-hidden--visually\" id=\"sk-estimator-id-15\" type=\"checkbox\" ><label for=\"sk-estimator-id-15\" class=\"sk-toggleable__label fitted sk-toggleable__label-arrow\"><div><div>best_estimator_: Pipeline</div></div></label><div class=\"sk-toggleable__content fitted\"><pre>Pipeline(steps=[(&#x27;preprocessor&#x27;, BOWTextPreprocessor()),\n",
       "                (&#x27;vectorizer&#x27;,\n",
       "                 TfidfVectorizer(max_df=0.75, max_features=10000,\n",
       "                                 ngram_range=(1, 2))),\n",
       "                (&#x27;classifier&#x27;,\n",
       "                 LogisticRegression(C=1, class_weight=&#x27;balanced&#x27;, max_iter=1000,\n",
       "                                    solver=&#x27;liblinear&#x27;))])</pre></div> </div></div><div class=\"sk-serial\"><div class=\"sk-item\"><div class=\"sk-serial\"><div class=\"sk-item\"><div class=\"sk-estimator fitted sk-toggleable\"><input class=\"sk-toggleable__control sk-hidden--visually\" id=\"sk-estimator-id-16\" type=\"checkbox\" ><label for=\"sk-estimator-id-16\" class=\"sk-toggleable__label fitted sk-toggleable__label-arrow\"><div><div>BOWTextPreprocessor</div></div></label><div class=\"sk-toggleable__content fitted\"><pre>BOWTextPreprocessor()</pre></div> </div></div><div class=\"sk-item\"><div class=\"sk-estimator fitted sk-toggleable\"><input class=\"sk-toggleable__control sk-hidden--visually\" id=\"sk-estimator-id-17\" type=\"checkbox\" ><label for=\"sk-estimator-id-17\" class=\"sk-toggleable__label fitted sk-toggleable__label-arrow\"><div><div>TfidfVectorizer</div></div><div><a class=\"sk-estimator-doc-link fitted\" rel=\"noreferrer\" target=\"_blank\" href=\"https://scikit-learn.org/1.6/modules/generated/sklearn.feature_extraction.text.TfidfVectorizer.html\">?<span>Documentation for TfidfVectorizer</span></a></div></label><div class=\"sk-toggleable__content fitted\"><pre>TfidfVectorizer(max_df=0.75, max_features=10000, ngram_range=(1, 2))</pre></div> </div></div><div class=\"sk-item\"><div class=\"sk-estimator fitted sk-toggleable\"><input class=\"sk-toggleable__control sk-hidden--visually\" id=\"sk-estimator-id-18\" type=\"checkbox\" ><label for=\"sk-estimator-id-18\" class=\"sk-toggleable__label fitted sk-toggleable__label-arrow\"><div><div>LogisticRegression</div></div><div><a class=\"sk-estimator-doc-link fitted\" rel=\"noreferrer\" target=\"_blank\" href=\"https://scikit-learn.org/1.6/modules/generated/sklearn.linear_model.LogisticRegression.html\">?<span>Documentation for LogisticRegression</span></a></div></label><div class=\"sk-toggleable__content fitted\"><pre>LogisticRegression(C=1, class_weight=&#x27;balanced&#x27;, max_iter=1000,\n",
       "                   solver=&#x27;liblinear&#x27;)</pre></div> </div></div></div></div></div></div></div></div></div></div></div>"
      ],
      "text/plain": [
       "GridSearchCV(cv=3,\n",
       "             estimator=Pipeline(steps=[('preprocessor', BOWTextPreprocessor()),\n",
       "                                       ('vectorizer', TfidfVectorizer()),\n",
       "                                       ('classifier',\n",
       "                                        LogisticRegression(class_weight='balanced',\n",
       "                                                           max_iter=1000))]),\n",
       "             n_jobs=1,\n",
       "             param_grid={'classifier__C': [0.1, 1],\n",
       "                         'classifier__penalty': ['l1', 'l2'],\n",
       "                         'classifier__solver': ['liblinear'],\n",
       "                         'vectorizer__max_df': [0.75, 0.9],\n",
       "                         'vectorizer__max_features': [5000, 10000],\n",
       "                         'vectorizer__ngram_range': [(1, 1), (1, 2)]},\n",
       "             scoring='f1', verbose=2)"
      ]
     },
     "execution_count": 82,
     "metadata": {},
     "output_type": "execute_result"
    }
   ],
   "source": [
    "pipeline_tuned = Pipeline([\n",
    "    ('preprocessor', BOWTextPreprocessor()),\n",
    "    ('vectorizer', TfidfVectorizer()),  # or CountVectorizer()\n",
    "    ('classifier', LogisticRegression(class_weight='balanced', max_iter=1000))\n",
    "])\n",
    "\n",
    "param_grid = {\n",
    "    'vectorizer__ngram_range': [(1,1), (1,2)],\n",
    "    'vectorizer__max_features': [5000, 10000],\n",
    "    'vectorizer__max_df': [0.75, 0.9],\n",
    "    'classifier__C': [0.1, 1],\n",
    "    'classifier__penalty': ['l1', 'l2'],\n",
    "    'classifier__solver': ['liblinear']  # Needed to compare L1 and L2\n",
    "}\n",
    "\n",
    "grid_search = GridSearchCV(\n",
    "    pipeline_tuned,\n",
    "    param_grid,\n",
    "    cv=3, \n",
    "    scoring='f1', \n",
    "    verbose=2, \n",
    "    n_jobs=1\n",
    ")\n",
    "\n",
    "grid_search.fit(X_train, y_train)"
   ]
  },
  {
   "cell_type": "code",
   "execution_count": 83,
   "id": "5bcadc03",
   "metadata": {},
   "outputs": [
    {
     "name": "stdout",
     "output_type": "stream",
     "text": [
      "Best params: {'classifier__C': 1, 'classifier__penalty': 'l2', 'classifier__solver': 'liblinear', 'vectorizer__max_df': 0.75, 'vectorizer__max_features': 10000, 'vectorizer__ngram_range': (1, 2)}\n",
      "Best cross-validated F1 score: 0.8269013545281737\n"
     ]
    },
    {
     "name": "stderr",
     "output_type": "stream",
     "text": [
      "100%|██████████| 4142/4142 [00:01<00:00, 3040.96it/s]\n"
     ]
    }
   ],
   "source": [
    "\n",
    "print(\"Best params:\", grid_search.best_params_)\n",
    "print(\"Best cross-validated F1 score:\", grid_search.best_score_)\n",
    "\n",
    "# Use best model to predict test set\n",
    "best_model = grid_search.best_estimator_\n",
    "y_pred_tuned = best_model.predict(X_test)\n",
    "\n",
    "report_tuned = classification_report(y_test, y_pred_tuned, output_dict=True)\n",
    "\n",
    "append_results(results, report_tuned, 'Tuned BoW + LogisticRegression', EVALUATION_METRICS)\n",
    "\n"
   ]
  },
  {
   "cell_type": "markdown",
   "id": "beb46646",
   "metadata": {},
   "source": [
    "### 3.3. BERT + Logistic Regression"
   ]
  },
  {
   "cell_type": "markdown",
   "id": "8bc28eb1",
   "metadata": {},
   "source": [
    "##### 3.3.1. Load model"
   ]
  },
  {
   "cell_type": "code",
   "execution_count": 84,
   "id": "23987cca",
   "metadata": {},
   "outputs": [],
   "source": [
    "model_class, tokenizer_class, pretrained_weights = (ppb.BertModel, ppb.BertTokenizer, 'bert-base-uncased')\n",
    "\n",
    "# Load pretrained model/tokenizer\n",
    "bert_tokenizer = tokenizer_class.from_pretrained(pretrained_weights)\n",
    "model = model_class.from_pretrained(pretrained_weights)\n",
    "\n"
   ]
  },
  {
   "cell_type": "code",
   "execution_count": 85,
   "id": "86c7a751",
   "metadata": {},
   "outputs": [],
   "source": [
    "bert_df = filtered_df.copy()\n",
    "\n",
    "# Optional: Take a subset to ease computational load\n",
    "bert_df = bert_df.sample(frac=1)\n",
    "\n",
    "X = bert_df['text']\n",
    "y = bert_df['is_hate_speech']\n",
    "\n",
    "X_train, X_test, y_train, y_test = train_test_split(X, y, test_size=TEST_RATIO, random_state=42)\n",
    "\n",
    "batch_size = 16\n",
    "num_batches = ceil(len(X_train) / batch_size)\n",
    "\n"
   ]
  },
  {
   "cell_type": "markdown",
   "id": "802848f2",
   "metadata": {},
   "source": [
    "Computing class weights for the balance_weight argument in partial fit (TODO: remove this and \"class weight\" argument from model instantiation if we decide to do under/oversampling instead)"
   ]
  },
  {
   "cell_type": "code",
   "execution_count": 86,
   "id": "025733fc",
   "metadata": {},
   "outputs": [],
   "source": [
    "# classes must match what you’ll pass to partial_fit\n",
    "classes = np.array([0, 1])\n",
    "\n",
    "# Compute: this returns an array [w_for_0, w_for_1]\n",
    "weights = compute_class_weight(\n",
    "    class_weight=\"balanced\",\n",
    "    classes=classes,\n",
    "    y=y_train,             # your full training-label vector\n",
    ")\n",
    "\n",
    "# Turn it into a dict: { class_label: weight, … }\n",
    "class_weight_dict = {c: w for c, w in zip(classes, weights)}"
   ]
  },
  {
   "cell_type": "code",
   "execution_count": 87,
   "id": "fe0189b3",
   "metadata": {},
   "outputs": [
    {
     "name": "stderr",
     "output_type": "stream",
     "text": [
      "Training: 100%|██████████| 1036/1036 [05:58<00:00,  2.89it/s]\n"
     ]
    }
   ],
   "source": [
    "# Instantiate SGD-based logistic regression\n",
    "clf = SGDClassifier(loss=\"log_loss\", penalty=\"l2\", max_iter=1, warm_start=True, class_weight=class_weight_dict)\n",
    "classes = [0, 1]          \n",
    "first_batch = True\n",
    "\n",
    "train_iter = tqdm(\n",
    "    stream_batches(X_train, y_train, batch_size=batch_size),\n",
    "    total=num_batches,\n",
    "    desc=\"Training\"\n",
    ")\n",
    "\n",
    "\n",
    "# Loop (stream) through training data\n",
    "first_batch = True\n",
    "for input_ids, attn_mask, y_batch in train_iter:\n",
    "\n",
    "    # Get the features from the model\n",
    "    with torch.no_grad():\n",
    "        out = model(input_ids, attention_mask=attn_mask)\n",
    "\n",
    "    # pull out the [CLS] token embedding for each example\n",
    "    feats = out.last_hidden_state[:,0,:].cpu().numpy()\n",
    "    \n",
    "    if first_batch:\n",
    "        # partial_fit needs to see the 'classes' array at first call\n",
    "        clf.partial_fit(feats, y_batch, classes=classes)\n",
    "        first_batch = False\n",
    "    else:\n",
    "        clf.partial_fit(feats, y_batch)\n",
    "    \n",
    "\n",
    "# Evaluate on tast data, with streaming\n",
    "all_preds = []\n",
    "all_labels = []\n",
    "\n",
    "# Iterate over the test data\n",
    "for input_ids, attn_mask, y_batch in stream_batches(X_test, y_test, batch_size=16):\n",
    "\n",
    "    # Get the features from the model\n",
    "    with torch.no_grad():\n",
    "        out = model(input_ids, attention_mask=attn_mask)\n",
    "    feats = out.last_hidden_state[:,0,:].cpu().numpy()\n",
    "\n",
    "    # Predict the labels\n",
    "    preds = clf.predict(feats)\n",
    "    \n",
    "    # Save\n",
    "    all_preds.append(preds)\n",
    "    all_labels.append(y_batch)\n",
    "\n",
    "# flatten and compute metric\n",
    "y_true = np.concatenate(all_labels)\n",
    "y_pred = np.concatenate(all_preds)\n"
   ]
  },
  {
   "cell_type": "code",
   "execution_count": 88,
   "id": "609ef982",
   "metadata": {},
   "outputs": [],
   "source": [
    "report_distilbert = classification_report(y_true, y_pred, output_dict=True)\n",
    "append_results(results, report_distilbert, 'BERT + LogisticRegression', EVALUATION_METRICS)"
   ]
  },
  {
   "cell_type": "markdown",
   "id": "33600f62",
   "metadata": {},
   "source": [
    "# 4. Evaluation"
   ]
  },
  {
   "cell_type": "code",
   "execution_count": 89,
   "id": "45021dae",
   "metadata": {},
   "outputs": [
    {
     "data": {
      "application/vnd.microsoft.datawrangler.viewer.v0+json": {
       "columns": [
        {
         "name": "index",
         "rawType": "int64",
         "type": "integer"
        },
        {
         "name": "model",
         "rawType": "object",
         "type": "string"
        },
        {
         "name": "precision_hate",
         "rawType": "float64",
         "type": "float"
        },
        {
         "name": "precision_non_hate",
         "rawType": "float64",
         "type": "float"
        },
        {
         "name": "precision_macro_avg",
         "rawType": "float64",
         "type": "float"
        },
        {
         "name": "precision_weighted_avg",
         "rawType": "float64",
         "type": "float"
        },
        {
         "name": "recall_hate",
         "rawType": "float64",
         "type": "float"
        },
        {
         "name": "recall_non_hate",
         "rawType": "float64",
         "type": "float"
        },
        {
         "name": "recall_macro_avg",
         "rawType": "float64",
         "type": "float"
        },
        {
         "name": "recall_weighted_avg",
         "rawType": "float64",
         "type": "float"
        },
        {
         "name": "f1-score_hate",
         "rawType": "float64",
         "type": "float"
        },
        {
         "name": "f1-score_non_hate",
         "rawType": "float64",
         "type": "float"
        },
        {
         "name": "f1-score_macro_avg",
         "rawType": "float64",
         "type": "float"
        },
        {
         "name": "f1-score_weighted_avg",
         "rawType": "float64",
         "type": "float"
        },
        {
         "name": "accuracy",
         "rawType": "float64",
         "type": "float"
        }
       ],
       "conversionMethod": "pd.DataFrame",
       "ref": "32e1b3d9-7378-4b1e-96cf-58bdcc0ee6d9",
       "rows": [
        [
         "0",
         "BoW + LogisticRegression",
         "0.8440276406712734",
         "0.805765595463138",
         "0.8248966180672057",
         "0.8253584969325863",
         "0.8062234794908062",
         "0.8436417615042059",
         "0.824932620497506",
         "0.8244809270883631",
         "0.8246925488304798",
         "0.8242687938119411",
         "0.8244806713212105",
         "0.8244857866642638",
         "0.8244809270883631"
        ],
        [
         "1",
         "TF-IDF + LogisticRegression",
         "0.8592257415786827",
         "0.8086391082210869",
         "0.8339324248998847",
         "0.8345430795758577",
         "0.8057520037718058",
         "0.8614547253834736",
         "0.8336033645776397",
         "0.8329309512312892",
         "0.8316301703163017",
         "0.8342117872544322",
         "0.832920978785367",
         "0.8328898148918598",
         "0.8329309512312892"
        ],
        [
         "2",
         "Tuned BoW + LogisticRegression",
         "0.8570717131474104",
         "0.8125585754451734",
         "0.8348151442962919",
         "0.8353524829938079",
         "0.8114097123998114",
         "0.8579910935180604",
         "0.8347004029589359",
         "0.8341380975374215",
         "0.8336158876241221",
         "0.8346570397111913",
         "0.8341364636676567",
         "0.8341238954386964",
         "0.8341380975374215"
        ],
        [
         "3",
         "BERT + LogisticRegression",
         "0.862453531598513",
         "0.75",
         "0.8062267657992566",
         "0.8049507358656182",
         "0.6877470355731226",
         "0.8951841359773371",
         "0.7914655857752299",
         "0.7938194109126026",
         "0.7652556349642661",
         "0.8161859664227292",
         "0.7907208006934976",
         "0.7912987160915054",
         "0.7938194109126026"
        ]
       ],
       "shape": {
        "columns": 14,
        "rows": 4
       }
      },
      "text/html": [
       "<div>\n",
       "<style scoped>\n",
       "    .dataframe tbody tr th:only-of-type {\n",
       "        vertical-align: middle;\n",
       "    }\n",
       "\n",
       "    .dataframe tbody tr th {\n",
       "        vertical-align: top;\n",
       "    }\n",
       "\n",
       "    .dataframe thead th {\n",
       "        text-align: right;\n",
       "    }\n",
       "</style>\n",
       "<table border=\"1\" class=\"dataframe\">\n",
       "  <thead>\n",
       "    <tr style=\"text-align: right;\">\n",
       "      <th></th>\n",
       "      <th>model</th>\n",
       "      <th>precision_hate</th>\n",
       "      <th>precision_non_hate</th>\n",
       "      <th>precision_macro_avg</th>\n",
       "      <th>precision_weighted_avg</th>\n",
       "      <th>recall_hate</th>\n",
       "      <th>recall_non_hate</th>\n",
       "      <th>recall_macro_avg</th>\n",
       "      <th>recall_weighted_avg</th>\n",
       "      <th>f1-score_hate</th>\n",
       "      <th>f1-score_non_hate</th>\n",
       "      <th>f1-score_macro_avg</th>\n",
       "      <th>f1-score_weighted_avg</th>\n",
       "      <th>accuracy</th>\n",
       "    </tr>\n",
       "  </thead>\n",
       "  <tbody>\n",
       "    <tr>\n",
       "      <th>0</th>\n",
       "      <td>BoW + LogisticRegression</td>\n",
       "      <td>0.844028</td>\n",
       "      <td>0.805766</td>\n",
       "      <td>0.824897</td>\n",
       "      <td>0.825358</td>\n",
       "      <td>0.806223</td>\n",
       "      <td>0.843642</td>\n",
       "      <td>0.824933</td>\n",
       "      <td>0.824481</td>\n",
       "      <td>0.824693</td>\n",
       "      <td>0.824269</td>\n",
       "      <td>0.824481</td>\n",
       "      <td>0.824486</td>\n",
       "      <td>0.824481</td>\n",
       "    </tr>\n",
       "    <tr>\n",
       "      <th>1</th>\n",
       "      <td>TF-IDF + LogisticRegression</td>\n",
       "      <td>0.859226</td>\n",
       "      <td>0.808639</td>\n",
       "      <td>0.833932</td>\n",
       "      <td>0.834543</td>\n",
       "      <td>0.805752</td>\n",
       "      <td>0.861455</td>\n",
       "      <td>0.833603</td>\n",
       "      <td>0.832931</td>\n",
       "      <td>0.831630</td>\n",
       "      <td>0.834212</td>\n",
       "      <td>0.832921</td>\n",
       "      <td>0.832890</td>\n",
       "      <td>0.832931</td>\n",
       "    </tr>\n",
       "    <tr>\n",
       "      <th>2</th>\n",
       "      <td>Tuned BoW + LogisticRegression</td>\n",
       "      <td>0.857072</td>\n",
       "      <td>0.812559</td>\n",
       "      <td>0.834815</td>\n",
       "      <td>0.835352</td>\n",
       "      <td>0.811410</td>\n",
       "      <td>0.857991</td>\n",
       "      <td>0.834700</td>\n",
       "      <td>0.834138</td>\n",
       "      <td>0.833616</td>\n",
       "      <td>0.834657</td>\n",
       "      <td>0.834136</td>\n",
       "      <td>0.834124</td>\n",
       "      <td>0.834138</td>\n",
       "    </tr>\n",
       "    <tr>\n",
       "      <th>3</th>\n",
       "      <td>BERT + LogisticRegression</td>\n",
       "      <td>0.862454</td>\n",
       "      <td>0.750000</td>\n",
       "      <td>0.806227</td>\n",
       "      <td>0.804951</td>\n",
       "      <td>0.687747</td>\n",
       "      <td>0.895184</td>\n",
       "      <td>0.791466</td>\n",
       "      <td>0.793819</td>\n",
       "      <td>0.765256</td>\n",
       "      <td>0.816186</td>\n",
       "      <td>0.790721</td>\n",
       "      <td>0.791299</td>\n",
       "      <td>0.793819</td>\n",
       "    </tr>\n",
       "  </tbody>\n",
       "</table>\n",
       "</div>"
      ],
      "text/plain": [
       "                            model  precision_hate  precision_non_hate  \\\n",
       "0        BoW + LogisticRegression        0.844028            0.805766   \n",
       "1     TF-IDF + LogisticRegression        0.859226            0.808639   \n",
       "2  Tuned BoW + LogisticRegression        0.857072            0.812559   \n",
       "3       BERT + LogisticRegression        0.862454            0.750000   \n",
       "\n",
       "   precision_macro_avg  precision_weighted_avg  recall_hate  recall_non_hate  \\\n",
       "0             0.824897                0.825358     0.806223         0.843642   \n",
       "1             0.833932                0.834543     0.805752         0.861455   \n",
       "2             0.834815                0.835352     0.811410         0.857991   \n",
       "3             0.806227                0.804951     0.687747         0.895184   \n",
       "\n",
       "   recall_macro_avg  recall_weighted_avg  f1-score_hate  f1-score_non_hate  \\\n",
       "0          0.824933             0.824481       0.824693           0.824269   \n",
       "1          0.833603             0.832931       0.831630           0.834212   \n",
       "2          0.834700             0.834138       0.833616           0.834657   \n",
       "3          0.791466             0.793819       0.765256           0.816186   \n",
       "\n",
       "   f1-score_macro_avg  f1-score_weighted_avg  accuracy  \n",
       "0            0.824481               0.824486  0.824481  \n",
       "1            0.832921               0.832890  0.832931  \n",
       "2            0.834136               0.834124  0.834138  \n",
       "3            0.790721               0.791299  0.793819  "
      ]
     },
     "execution_count": 89,
     "metadata": {},
     "output_type": "execute_result"
    }
   ],
   "source": [
    "results_df = pd.DataFrame(results)\n",
    "\n",
    "results_df"
   ]
  }
 ],
 "metadata": {
  "kernelspec": {
   "display_name": "Python 3",
   "language": "python",
   "name": "python3"
  },
  "language_info": {
   "codemirror_mode": {
    "name": "ipython",
    "version": 3
   },
   "file_extension": ".py",
   "mimetype": "text/x-python",
   "name": "python",
   "nbconvert_exporter": "python",
   "pygments_lexer": "ipython3",
   "version": "3.11.12"
  }
 },
 "nbformat": 4,
 "nbformat_minor": 5
}
